{
 "cells": [
  {
   "cell_type": "markdown",
   "metadata": {},
   "source": [
    "# MusicGraph.com\n",
    "\n",
    "\n",
    "\n",
    "Here we will get the genres and origin of the artists.\n",
    "We will use the file that contains all the artists who played in Switzerland that comes from the different sources.\n",
    "\n",
    "\n",
    "We will use [musicgraph API](http://musicgraph.com/#/home).\n",
    "**API KEY is expired as the number of call limit is 5000, and we are over this limit. We should create a new account on the website, and copy the API key in the musicGraphHelper file**\n",
    "\n",
    "Data:\n",
    "- artist name\n",
    "- artist genre\n",
    "- artist origin\n",
    "- no_result\n",
    "- ambigous_result\n",
    "\n",
    "If we can't find an artist we will put '1' in the value 'no_result'\n",
    "If we find several artists with the same name we will put '1' in the value 'ambigous_result'\n",
    "\n",
    "\n"
   ]
  },
  {
   "cell_type": "code",
   "execution_count": 1,
   "metadata": {
    "collapsed": false
   },
   "outputs": [],
   "source": [
    "import pandas as pd\n",
    "import Scripts.musicGraphHelper as musicGraphHelper\n",
    "import csv\n",
    "import multiprocessing\n",
    "import time"
   ]
  },
  {
   "cell_type": "code",
   "execution_count": 2,
   "metadata": {
    "collapsed": false
   },
   "outputs": [],
   "source": [
    "df = pd.read_csv('Artists/total_artists.csv', encoding='utf-8', error_bad_lines=False, usecols=[0,1,2,3,4])\n",
    "starting_index = 0\n",
    "df = df.ix[starting_index:]\n",
    "\n",
    "df1, df2, df3, df4 = musicGraphHelper.splitDataFrames(df)"
   ]
  },
  {
   "cell_type": "markdown",
   "metadata": {},
   "source": [
    "List of all the API key that we created to face the issue of the 5K calls limits:"
   ]
  },
  {
   "cell_type": "code",
   "execution_count": 3,
   "metadata": {
    "collapsed": false,
    "scrolled": false
   },
   "outputs": [],
   "source": [
    "api_key_1 = [\n",
    "    \n",
    "]\n",
    "api_key_2 = [\n",
    "    \n",
    "]\n",
    "api_key_3 = [\n",
    "    \n",
    "]\n",
    "api_key_4 = [\n",
    "\n",
    "]\n"
   ]
  },
  {
   "cell_type": "code",
   "execution_count": 4,
   "metadata": {
    "collapsed": false,
    "scrolled": false
   },
   "outputs": [
    {
     "name": "stdout",
     "output_type": "stream",
     "text": [
      "15501 / 30999\n",
      "46502 / 61999\n",
      "31002 / 46499\n",
      "15502 / 30999\n",
      "1 / 15499\n",
      "46503 / 61999\n",
      "31003 / 46499\n",
      "15503 / 30999\n",
      "2 / 15499\n",
      "31004 / 46499\n",
      "46504 / 61999\n",
      "3 / 15499\n",
      "15504 / 30999\n"
     ]
    }
   ],
   "source": [
    "# Parrallel multiprocessing\n",
    "num_cores = multiprocessing.cpu_count()\n",
    "pool = multiprocessing.Pool(num_cores)\n",
    "start_time = time.time()\n",
    "p1 = pool.Process(target = musicGraphHelper.getDataMusicGraph, args=(df1,1, api_key_1))\n",
    "p1.start()\n",
    "p2 = pool.Process(target = musicGraphHelper.getDataMusicGraph, args=(df2,2, api_key_2))\n",
    "p2.start()\n",
    "p3 = pool.Process(target = musicGraphHelper.getDataMusicGraph, args=(df3,3, api_key_3))\n",
    "p3.start()\n",
    "p4 = pool.Process(target = musicGraphHelper.getDataMusicGraph, args=(df4,4, api_key_4))\n",
    "p4.start()\n",
    "\n"
   ]
  },
  {
   "cell_type": "code",
   "execution_count": null,
   "metadata": {
    "collapsed": false
   },
   "outputs": [],
   "source": [
    "dfconcat = musicGraphHelper.concatDataMusicGraph()"
   ]
  },
  {
   "cell_type": "code",
   "execution_count": null,
   "metadata": {
    "collapsed": false,
    "scrolled": false
   },
   "outputs": [],
   "source": [
    "dfconcat"
   ]
  },
  {
   "cell_type": "markdown",
   "metadata": {},
   "source": [
    "## Continue from a previous scrap"
   ]
  },
  {
   "cell_type": "code",
   "execution_count": null,
   "metadata": {
    "collapsed": true
   },
   "outputs": [],
   "source": [
    "df = pd.read_csv('Artists/total_artists.csv', encoding='utf-8', error_bad_lines=False, usecols=[0,1,2,3,4])\n",
    "starting_index = 0\n",
    "df = df.ix[starting_index:]\n",
    "\n",
    "df1, df2, df3, df4 = musicGraphHelper.splitDataFrames(df)"
   ]
  },
  {
   "cell_type": "code",
   "execution_count": null,
   "metadata": {
    "collapsed": true
   },
   "outputs": [],
   "source": [
    "df1.reset_index(inplace=True, drop=True)\n",
    "df2.reset_index(inplace=True, drop=True)\n",
    "df3.reset_index(inplace=True, drop=True)\n",
    "df4.reset_index(inplace=True, drop=True)\n",
    "\n",
    "df_csv1 = pd.read_csv('Scripts/MusicGraphArtistsData/total_artists_MusicGraph1.csv')\n",
    "df_csv2 = pd.read_csv('Scripts/MusicGraphArtistsData/total_artists_MusicGraph2.csv')\n",
    "df_csv3 = pd.read_csv('Scripts/MusicGraphArtistsData/total_artists_MusicGraph3.csv')\n",
    "df_csv4 = pd.read_csv('Scripts/MusicGraphArtistsData/total_artists_MusicGraph4.csv')\n",
    "\n",
    "df1 = df1[df_csv1.last_valid_index()+1:]\n",
    "df2 = df2[df_csv2.last_valid_index()+1:]\n",
    "df3 = df3[df_csv3.last_valid_index()+1:]\n",
    "df4 = df4[df_csv4.last_valid_index()+1:]"
   ]
  },
  {
   "cell_type": "code",
   "execution_count": null,
   "metadata": {
    "collapsed": true
   },
   "outputs": [],
   "source": [
    "api_key_1 = [\n",
    "    \n",
    "]\n",
    "api_key_2 = [\n",
    "    \n",
    "]\n",
    "api_key_3 = [\n",
    "    \n",
    "]\n",
    "api_key_4 = [\n",
    "\n",
    "]\n"
   ]
  },
  {
   "cell_type": "code",
   "execution_count": null,
   "metadata": {
    "collapsed": true
   },
   "outputs": [],
   "source": [
    "# Parrallel multiprocessing\n",
    "num_cores = multiprocessing.cpu_count()\n",
    "pool = multiprocessing.Pool(num_cores)\n",
    "start_time = time.time()\n",
    "p1 = pool.Process(target = musicGraphHelper.getDataMusicGraph, args=(df1,'1suite', api_key_1))\n",
    "p1.start()\n",
    "p2 = pool.Process(target = musicGraphHelper.getDataMusicGraph, args=(df2,'2suite', api_key_2))\n",
    "p2.start()\n",
    "p3 = pool.Process(target = musicGraphHelper.getDataMusicGraph, args=(df3,'3suite', api_key_3))\n",
    "p3.start()\n",
    "p4 = pool.Process(target = musicGraphHelper.getDataMusicGraph, args=(df4,'4suite', api_key_4))\n",
    "p4.start()"
   ]
  },
  {
   "cell_type": "code",
   "execution_count": null,
   "metadata": {
    "collapsed": true
   },
   "outputs": [],
   "source": [
    "musicGraphHelper.concatSameData(1)\n",
    "musicGraphHelper.concatSameData(2)\n",
    "musicGraphHelper.concatSameData(3)\n",
    "musicGraphHelper.concatSameData(4)"
   ]
  },
  {
   "cell_type": "markdown",
   "metadata": {},
   "source": [
    "** Delete files '\\*1suite', '\\*2suite.csv','\\*3suite.csv','\\*4suite.csv' ** They are now merged into files 1,2,3,4\n",
    "Then do the concat"
   ]
  },
  {
   "cell_type": "code",
   "execution_count": null,
   "metadata": {
    "collapsed": true
   },
   "outputs": [],
   "source": [
    "dfconcat = musicGraphHelper.concatDataMusicGraph()\n",
    "dfconcat"
   ]
  }
 ],
 "metadata": {
  "anaconda-cloud": {},
  "kernelspec": {
   "display_name": "Python [default]",
   "language": "python",
   "name": "python3"
  },
  "language_info": {
   "codemirror_mode": {
    "name": "ipython",
    "version": 3
   },
   "file_extension": ".py",
   "mimetype": "text/x-python",
   "name": "python",
   "nbconvert_exporter": "python",
   "pygments_lexer": "ipython3",
   "version": "3.5.2"
  }
 },
 "nbformat": 4,
 "nbformat_minor": 1
}
