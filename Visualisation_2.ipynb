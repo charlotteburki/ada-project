{
 "cells": [
  {
   "cell_type": "markdown",
   "metadata": {
    "collapsed": false
   },
   "source": [
    "Importing useful librairies"
   ]
  },
  {
   "cell_type": "code",
   "execution_count": 12,
   "metadata": {
    "collapsed": true
   },
   "outputs": [],
   "source": [
    "import pandas as pd\n",
    "import numpy as np\n",
    "import collections\n",
    "\n",
    "from operator import truediv\n",
    "import os\n",
    "\n",
    "from IPython.display import Image\n",
    "from IPython.core.display import HTML \n",
    "import matplotlib.pyplot as plt  \n",
    "% matplotlib inline\n",
    "import random\n",
    "\n",
    "from datetime import datetime\n",
    "from wordcloud import WordCloud\n",
    "import pycountry\n",
    "import seaborn as sns\n",
    "\n",
    "from PIL import Image"
   ]
  },
  {
   "cell_type": "markdown",
   "metadata": {},
   "source": [
    "#### Reading the files containing all events"
   ]
  },
  {
   "cell_type": "code",
   "execution_count": 24,
   "metadata": {
    "collapsed": false
   },
   "outputs": [
    {
     "name": "stderr",
     "output_type": "stream",
     "text": [
      "C:\\Users\\Mathieu\\Anaconda3\\lib\\site-packages\\IPython\\core\\interactiveshell.py:2717: DtypeWarning: Columns (0) have mixed types. Specify dtype option on import or set low_memory=False.\n",
      "  interactivity=interactivity, compiler=compiler, result=result)\n"
     ]
    },
    {
     "data": {
      "text/plain": [
       "Adress        35154\n",
       "Artist       204815\n",
       "City         202077\n",
       "Date         204815\n",
       "Latitude     132312\n",
       "Longitude    132312\n",
       "Venue        204814\n",
       "genre        127392\n",
       "origin        62381\n",
       "dtype: int64"
      ]
     },
     "execution_count": 24,
     "metadata": {},
     "output_type": "execute_result"
    }
   ],
   "source": [
    "artist= pd.read_csv('total_events_preprocessed.csv')\n",
    "artist.count()"
   ]
  },
  {
   "cell_type": "markdown",
   "metadata": {},
   "source": [
    "# Word cloud"
   ]
  },
  {
   "cell_type": "markdown",
   "metadata": {},
   "source": [
    "## Artists' country of origin"
   ]
  },
  {
   "cell_type": "markdown",
   "metadata": {},
   "source": [
    "Taking only the rows where origin is defined"
   ]
  },
  {
   "cell_type": "code",
   "execution_count": 25,
   "metadata": {
    "collapsed": false
   },
   "outputs": [],
   "source": [
    "origin=artist.dropna(subset = ['origin'])\n",
    "origin.count()\n",
    "origin=origin['origin']"
   ]
  },
  {
   "cell_type": "markdown",
   "metadata": {},
   "source": [
    "USA and UK are sometimes referred by a different name in our dataset"
   ]
  },
  {
   "cell_type": "code",
   "execution_count": 6,
   "metadata": {
    "collapsed": false
   },
   "outputs": [],
   "source": [
    "origin=origin.apply(lambda x: x.lower())\n",
    "origin=origin.apply(lambda x: x.replace('kingdom of',''))\n",
    "origin=origin.apply(lambda x: x.replace(' ',''))\n",
    "\n",
    "origin[origin == 'unitedstatesofamerica'] = 'usa'\n",
    "origin[origin == 'unitedstates'] = 'usa'\n",
    "origin[origin == 'u.s.'] = 'usa'\n",
    "origin[origin=='england'] = 'UK'\n",
    "origin[origin=='unitedkingdom'] = 'UK'\n",
    "\n",
    "\n",
    "origin=origin.apply(lambda x: x.title())\n",
    "\n",
    "\n"
   ]
  },
  {
   "cell_type": "markdown",
   "metadata": {},
   "source": [
    "Creating concatenated text with all the countries in the dataframe "
   ]
  },
  {
   "cell_type": "code",
   "execution_count": 26,
   "metadata": {
    "collapsed": true
   },
   "outputs": [],
   "source": [
    "def createTextFromTokens(text_list):\n",
    "    text = \" \".join(str(x) for x in text_list)\n",
    "    text = text.replace(\"\\n\", \" \") \n",
    "    return text"
   ]
  },
  {
   "cell_type": "code",
   "execution_count": 27,
   "metadata": {
    "collapsed": true
   },
   "outputs": [],
   "source": [
    "all_origin = createTextFromTokens( origin)\n"
   ]
  },
  {
   "cell_type": "markdown",
   "metadata": {},
   "source": [
    "Creating the world cloud"
   ]
  },
  {
   "cell_type": "code",
   "execution_count": 28,
   "metadata": {
    "collapsed": true
   },
   "outputs": [],
   "source": [
    "swiss_mask = np.array(Image.open(\"swiss_map.png\"))"
   ]
  },
  {
   "cell_type": "code",
   "execution_count": 29,
   "metadata": {
    "collapsed": false
   },
   "outputs": [],
   "source": [
    "wc = WordCloud(max_words=1000, mask=swiss_mask, stopwords=None, margin=10, width = 800, height = 400,\n",
    "               random_state=1, background_color=\"white\").generate(all_origin)"
   ]
  },
  {
   "cell_type": "code",
   "execution_count": 30,
   "metadata": {
    "collapsed": false
   },
   "outputs": [
    {
     "data": {
      "text/plain": [
       "<wordcloud.wordcloud.WordCloud at 0x1bcbca05828>"
      ]
     },
     "execution_count": 30,
     "metadata": {},
     "output_type": "execute_result"
    }
   ],
   "source": [
    "wc.to_file(\"swiss_origins.png\")"
   ]
  },
  {
   "cell_type": "markdown",
   "metadata": {},
   "source": [
    "Plotting the world cloud"
   ]
  },
  {
   "cell_type": "code",
   "execution_count": 22,
   "metadata": {
    "collapsed": false,
    "scrolled": false
   },
   "outputs": [
    {
     "data": {
      "image/png": "[encoded data removed]",
      "text/plain": [
       "<matplotlib.figure.Figure at 0x1bcbca1d9e8>"
      ]
     },
     "metadata": {},
     "output_type": "display_data"
    }
   ],
   "source": [
    "def display_cloud(wc) :\n",
    "    default_colors = wc.to_array()\n",
    "    plt.figure()\n",
    "    plt.title(\"Artists' country of origin\")\n",
    "    plt.imshow(default_colors)\n",
    "    plt.axis(\"off\")\n",
    "    plt.show()\n",
    "    return\n",
    "\n",
    "display_cloud(wc)"
   ]
  },
  {
   "cell_type": "markdown",
   "metadata": {},
   "source": [
    "## Artist's genre"
   ]
  },
  {
   "cell_type": "markdown",
   "metadata": {},
   "source": [
    "Dropping rows where genre is not defined"
   ]
  },
  {
   "cell_type": "code",
   "execution_count": 9,
   "metadata": {
    "collapsed": true
   },
   "outputs": [],
   "source": [
    "genre=artist.dropna(subset = ['genre'])\n",
    "genre=genre['genre']"
   ]
  },
  {
   "cell_type": "markdown",
   "metadata": {},
   "source": [
    "Put capitals at beginning of each string of genre and changing hip hop to HipHop so it is considered by the world cloud as one word"
   ]
  },
  {
   "cell_type": "code",
   "execution_count": 10,
   "metadata": {
    "collapsed": false
   },
   "outputs": [],
   "source": [
    "genre=genre.apply(lambda x: x.lower())\n",
    "genre=genre.apply(lambda x: x.replace('/',' '))\n",
    "genre=genre.apply(lambda x: x.replace(',',' '))\n",
    "genre=genre.apply(lambda x: x.replace('hip hop','HipHop'))\n",
    "genre=genre.apply(lambda x: x.title())\n",
    "\n"
   ]
  },
  {
   "cell_type": "markdown",
   "metadata": {},
   "source": [
    "Creating concatenated text with all the genre in the dataframe "
   ]
  },
  {
   "cell_type": "code",
   "execution_count": 11,
   "metadata": {
    "collapsed": true
   },
   "outputs": [],
   "source": [
    "all_genre = createTextFromTokens(genre)"
   ]
  },
  {
   "cell_type": "markdown",
   "metadata": {},
   "source": [
    "Creating world cloud"
   ]
  },
  {
   "cell_type": "code",
   "execution_count": 12,
   "metadata": {
    "collapsed": false
   },
   "outputs": [],
   "source": [
    "wc = WordCloud(max_words=1000, mask=None, stopwords=None, margin=10, width = 800, height = 400,\n",
    "               random_state=1, background_color=\"white\").generate(all_genre)"
   ]
  },
  {
   "cell_type": "markdown",
   "metadata": {},
   "source": [
    "Plotting world cloud"
   ]
  },
  {
   "cell_type": "code",
   "execution_count": 13,
   "metadata": {
    "collapsed": false
   },
   "outputs": [
    {
     "data": {
      "image/png": "[encoded data removed]",
      "text/plain": [
       "<matplotlib.figure.Figure at 0x11563f748>"
      ]
     },
     "metadata": {},
     "output_type": "display_data"
    }
   ],
   "source": [
    "def display_cloud(wc) :\n",
    "    default_colors = wc.to_array()\n",
    "    plt.figure()\n",
    "    plt.title(\"Artists' genre\")\n",
    "    plt.imshow(default_colors)\n",
    "    plt.axis(\"off\")\n",
    "    plt.show()\n",
    "    return\n",
    "\n",
    "display_cloud(wc)"
   ]
  },
  {
   "cell_type": "markdown",
   "metadata": {},
   "source": [
    "# View genre evolution "
   ]
  },
  {
   "cell_type": "markdown",
   "metadata": {},
   "source": [
    "Reading total events file"
   ]
  },
  {
   "cell_type": "code",
   "execution_count": 14,
   "metadata": {
    "collapsed": false
   },
   "outputs": [
    {
     "name": "stderr",
     "output_type": "stream",
     "text": [
      "/Users/Charlotte/anaconda/lib/python3.5/site-packages/IPython/core/interactiveshell.py:2717: DtypeWarning: Columns (0) have mixed types. Specify dtype option on import or set low_memory=False.\n",
      "  interactivity=interactivity, compiler=compiler, result=result)\n"
     ]
    },
    {
     "data": {
      "text/html": [
       "<div>\n",
       "<table border=\"1\" class=\"dataframe\">\n",
       "  <thead>\n",
       "    <tr style=\"text-align: right;\">\n",
       "      <th></th>\n",
       "      <th>Adress</th>\n",
       "      <th>Artist</th>\n",
       "      <th>City</th>\n",
       "      <th>Date</th>\n",
       "      <th>Latitude</th>\n",
       "      <th>Longitude</th>\n",
       "      <th>Venue</th>\n",
       "      <th>genre</th>\n",
       "      <th>origin</th>\n",
       "    </tr>\n",
       "  </thead>\n",
       "  <tbody>\n",
       "    <tr>\n",
       "      <th>0</th>\n",
       "      <td>NaN</td>\n",
       "      <td>DJs Patric Pleasure</td>\n",
       "      <td>Basel</td>\n",
       "      <td>2017-01-20</td>\n",
       "      <td>NaN</td>\n",
       "      <td>NaN</td>\n",
       "      <td>Balz</td>\n",
       "      <td>Rap/Hip Hop</td>\n",
       "      <td>NaN</td>\n",
       "    </tr>\n",
       "    <tr>\n",
       "      <th>1</th>\n",
       "      <td>NaN</td>\n",
       "      <td>Ramon Ramones</td>\n",
       "      <td>Basel</td>\n",
       "      <td>2017-01-20</td>\n",
       "      <td>NaN</td>\n",
       "      <td>NaN</td>\n",
       "      <td>Balz</td>\n",
       "      <td>Rap/Hip Hop</td>\n",
       "      <td>NaN</td>\n",
       "    </tr>\n",
       "    <tr>\n",
       "      <th>2</th>\n",
       "      <td>NaN</td>\n",
       "      <td>Bülent Ceylan</td>\n",
       "      <td>Zürich</td>\n",
       "      <td>2017-01-19</td>\n",
       "      <td>NaN</td>\n",
       "      <td>NaN</td>\n",
       "      <td>Vior Club</td>\n",
       "      <td>Reggae/Ska</td>\n",
       "      <td>Germany</td>\n",
       "    </tr>\n",
       "    <tr>\n",
       "      <th>3</th>\n",
       "      <td>NaN</td>\n",
       "      <td>Raffi Lusso</td>\n",
       "      <td>Zürich</td>\n",
       "      <td>2017-01-19</td>\n",
       "      <td>NaN</td>\n",
       "      <td>NaN</td>\n",
       "      <td>Vior Club</td>\n",
       "      <td>Reggae/Ska</td>\n",
       "      <td>NaN</td>\n",
       "    </tr>\n",
       "    <tr>\n",
       "      <th>4</th>\n",
       "      <td>NaN</td>\n",
       "      <td>Miguel M</td>\n",
       "      <td>Zürich</td>\n",
       "      <td>2017-01-19</td>\n",
       "      <td>NaN</td>\n",
       "      <td>NaN</td>\n",
       "      <td>Vior Club</td>\n",
       "      <td>Reggae/Ska</td>\n",
       "      <td>NaN</td>\n",
       "    </tr>\n",
       "  </tbody>\n",
       "</table>\n",
       "</div>"
      ],
      "text/plain": [
       "  Adress               Artist     City        Date  Latitude  Longitude  \\\n",
       "0    NaN  DJs Patric Pleasure    Basel  2017-01-20       NaN        NaN   \n",
       "1    NaN        Ramon Ramones    Basel  2017-01-20       NaN        NaN   \n",
       "2    NaN        Bülent Ceylan   Zürich  2017-01-19       NaN        NaN   \n",
       "3    NaN          Raffi Lusso   Zürich  2017-01-19       NaN        NaN   \n",
       "4    NaN             Miguel M   Zürich  2017-01-19       NaN        NaN   \n",
       "\n",
       "       Venue        genre   origin  \n",
       "0       Balz  Rap/Hip Hop      NaN  \n",
       "1       Balz  Rap/Hip Hop      NaN  \n",
       "2  Vior Club   Reggae/Ska  Germany  \n",
       "3  Vior Club   Reggae/Ska      NaN  \n",
       "4  Vior Club   Reggae/Ska      NaN  "
      ]
     },
     "execution_count": 14,
     "metadata": {},
     "output_type": "execute_result"
    }
   ],
   "source": [
    "total_events = pd.read_csv(os.path.join('total_events_preprocessed.csv'))\n",
    "total_events.head()\n"
   ]
  },
  {
   "cell_type": "markdown",
   "metadata": {},
   "source": [
    "Dropping columns where genre is not defined"
   ]
  },
  {
   "cell_type": "code",
   "execution_count": 15,
   "metadata": {
    "collapsed": false
   },
   "outputs": [],
   "source": [
    "events=total_events.dropna(subset = ['genre'])"
   ]
  },
  {
   "cell_type": "markdown",
   "metadata": {},
   "source": [
    "Get year from date and add it to the dataframe"
   ]
  },
  {
   "cell_type": "code",
   "execution_count": 16,
   "metadata": {
    "collapsed": false,
    "scrolled": false
   },
   "outputs": [
    {
     "name": "stderr",
     "output_type": "stream",
     "text": [
      "/Users/Charlotte/anaconda/lib/python3.5/site-packages/ipykernel/__main__.py:1: SettingWithCopyWarning: \n",
      "A value is trying to be set on a copy of a slice from a DataFrame.\n",
      "Try using .loc[row_indexer,col_indexer] = value instead\n",
      "\n",
      "See the caveats in the documentation: http://pandas.pydata.org/pandas-docs/stable/indexing.html#indexing-view-versus-copy\n",
      "  if __name__ == '__main__':\n"
     ]
    }
   ],
   "source": [
    "events['year']=events['Date'].apply(lambda x: datetime.strptime(x, '%Y-%m-%d').year)\n"
   ]
  },
  {
   "cell_type": "markdown",
   "metadata": {},
   "source": [
    "Removing rows from dataframe where year is before 2006 as there are too few to be representative"
   ]
  },
  {
   "cell_type": "code",
   "execution_count": 17,
   "metadata": {
    "collapsed": false
   },
   "outputs": [],
   "source": [
    "events= events[['year','genre']]\n",
    "events=events.loc[events['year'] >2005]\n"
   ]
  },
  {
   "cell_type": "markdown",
   "metadata": {},
   "source": [
    "Getting the list of all the genres that appear in the dataframe"
   ]
  },
  {
   "cell_type": "code",
   "execution_count": 18,
   "metadata": {
    "collapsed": false
   },
   "outputs": [
    {
     "data": {
      "text/plain": [
       "Electro        38111\n",
       "Rock           32262\n",
       "Pop            15765\n",
       "Jazz/Blues     15148\n",
       "Rap/Hip Hop    13742\n",
       "Classical       3963\n",
       "Reggae/Ska      3122\n",
       "Folk            2719\n",
       "Latin            682\n",
       "Country          659\n",
       "Other            655\n",
       "Devotional       553\n",
       "Name: genre, dtype: int64"
      ]
     },
     "execution_count": 18,
     "metadata": {},
     "output_type": "execute_result"
    }
   ],
   "source": [
    "genre=events['genre']\n",
    "list_of_genre=genre.value_counts()\n",
    "list_of_genre"
   ]
  },
  {
   "cell_type": "markdown",
   "metadata": {},
   "source": [
    "Function that counts the number of times a genre appears in the dataframe for each year"
   ]
  },
  {
   "cell_type": "code",
   "execution_count": 19,
   "metadata": {
    "collapsed": false
   },
   "outputs": [],
   "source": [
    "def get_frequencies(name):\n",
    "    counted=events[genre == name].groupby('year').count()\n",
    "    dict_=counted.to_dict()['genre']\n",
    "    dict_=collections.OrderedDict(sorted(dict_.items(), key=lambda t: t[0]))\n",
    "    numbers=list(dict_.values())\n",
    "    return (numbers)\n",
    "    "
   ]
  },
  {
   "cell_type": "markdown",
   "metadata": {},
   "source": [
    "Use the function defined above for electro, rock, pop, Jazz/blues, Rap/Hip Hop, Classical, Folk, Latin, Country and Devotional"
   ]
  },
  {
   "cell_type": "code",
   "execution_count": 20,
   "metadata": {
    "collapsed": false
   },
   "outputs": [],
   "source": [
    "electro_numbers=get_frequencies('Electro')\n",
    "rock_numbers=get_frequencies('Rock')\n",
    "pop_numbers=get_frequencies('Pop')\n",
    "jazz_numbers=get_frequencies('Jazz/Blues')\n",
    "rap_numbers=get_frequencies('Rap/Hip Hop')\n",
    "classical_numbers=get_frequencies('Classical')\n",
    "reggae_numbers=get_frequencies('Reggae/Ska')\n",
    "folk_numbers=get_frequencies('Folk')\n",
    "latin_numbers=get_frequencies('Latin')\n",
    "country_numbers=get_frequencies('Country')\n",
    "devotional_numbers=get_frequencies('Devotional')\n",
    "\n",
    "\n",
    "\n",
    "\n",
    "\n",
    "total= [y0 + y1+y2+y3+y4+y5+y6+y7+y8+y9+y10 for y0, y1,y2,y3,y4,y5,y6,y7,y8,y9,y10 in zip(electro_numbers, rock_numbers,pop_numbers,jazz_numbers,rap_numbers,reggae_numbers,folk_numbers,latin_numbers,country_numbers, devotional_numbers,classical_numbers)]\n"
   ]
  },
  {
   "cell_type": "markdown",
   "metadata": {},
   "source": [
    "Dividing by total to get percent"
   ]
  },
  {
   "cell_type": "code",
   "execution_count": 21,
   "metadata": {
    "collapsed": false
   },
   "outputs": [],
   "source": [
    "electro_percents=list(map(truediv,electro_numbers,total))\n",
    "electro_percent = list(map(lambda x: x * 100, electro_percents))\n",
    "\n",
    "rock_percents=list(map(truediv,rock_numbers,total))\n",
    "rock_percent = list(map(lambda x: x * 100, rock_percents))\n",
    "\n",
    "pop_percents=list(map(truediv,pop_numbers,total))\n",
    "pop_percent = list(map(lambda x: x * 100, pop_percents))\n",
    "\n",
    "jazz_percents=list(map(truediv,jazz_numbers,total))\n",
    "jazz_percent = list(map(lambda x: x * 100, jazz_percents))\n",
    "\n",
    "rap_percents=list(map(truediv,rap_numbers,total))\n",
    "rap_percent = list(map(lambda x: x * 100, rap_percents))\n",
    "\n",
    "classical_percents=list(map(truediv,classical_numbers,total))\n",
    "classical_percent = list(map(lambda x: x * 100, classical_percents))\n",
    "\n",
    "reggae_percents=list(map(truediv,reggae_numbers,total))\n",
    "reggae_percent = list(map(lambda x: x * 100, reggae_percents))\n",
    "\n",
    "folk_percents=list(map(truediv,folk_numbers,total))\n",
    "folk_percent = list(map(lambda x: x * 100, folk_percents))\n",
    "\n",
    "latin_percents=list(map(truediv,latin_numbers,total))\n",
    "latin_percent = list(map(lambda x: x * 100, latin_percents))\n",
    "\n",
    "country_percents=list(map(truediv,country_numbers,total))\n",
    "country_percent = list(map(lambda x: x * 100, country_percents))\n",
    "\n",
    "devotional_percents=list(map(truediv,devotional_numbers,total))\n",
    "devotional_percent = list(map(lambda x: x * 100, devotional_percents))\n",
    "\n",
    "\n",
    "##Adding coutry to folk as it is similar\n",
    "folk_percent= [y0 + y1 for y0, y1 in zip(folk_percent, country_percent)]\n"
   ]
  },
  {
   "cell_type": "markdown",
   "metadata": {},
   "source": [
    "## Plotting"
   ]
  },
  {
   "cell_type": "code",
   "execution_count": 22,
   "metadata": {
    "collapsed": false
   },
   "outputs": [
    {
     "data": {
      "text/html": [
       "<iframe id=\"igraph\" scrolling=\"no\" style=\"border:none;\" seamless=\"seamless\" src=\"https://plot.ly/~charlotte.burki/6.embed\" height=\"525px\" width=\"100%\"></iframe>"
      ],
      "text/plain": [
       "<plotly.tools.PlotlyDisplay object>"
      ]
     },
     "execution_count": 22,
     "metadata": {},
     "output_type": "execute_result"
    }
   ],
   "source": [
    "import plotly.plotly as py\n",
    "import plotly.graph_objs as go\n",
    "import plotly \n",
    "import plotly.plotly as py\n",
    "import plotly.graph_objs as go\n",
    "plotly.tools.set_credentials_file(username='charlotte.burki', api_key='rOnSP2MxcVVhx8rHGltM')\n",
    "\n",
    "\n",
    "x=[2006,2007,2008,2009,2010,2011,2012,2013,2014,2015,2016,2017]\n",
    "\n",
    "\n",
    "# Add data to create cumulative stacked values\n",
    "y0_stck=electro_percent\n",
    "y1_stck=[y0+y1 for y0, y1 in zip(y0_stck, rock_percent)]\n",
    "y2_stck=[y0+y1 for y0, y1 in zip(y1_stck, pop_percent)]\n",
    "y3_stck=[y0+y1 for y0, y1 in zip(y2_stck,jazz_percent)]\n",
    "y4_stck=[y0+y1 for y0, y1 in zip(y3_stck, rap_percent)]\n",
    "y5_stck=[y0+y1 for y0, y1 in zip(y4_stck,classical_percent)]\n",
    "y6_stck=[y0+y1 for y0, y1 in zip(y5_stck,reggae_percent)]\n",
    "y7_stck=[y0+y1 for y0, y1 in zip(y6_stck,folk_percent)]\n",
    "y8_stck=[y0+y1 for y0, y1 in zip(y7_stck,latin_percent)]\n",
    "y9_stck=[y0+y1 for y0, y1 in zip(y8_stck,country_percent)]\n",
    "y10_stck=[y0+y1 for y0, y1 in zip(y9_stck,devotional_percent)]\n",
    "\n",
    "\n",
    "\n",
    "\n",
    "\n",
    "# Make original values strings and add % for hover text\n",
    "#y0_txt=[str(y0)+'%' for y0 in y0_org]\n",
    "#y1_txt=[str(y1)+'%' for y1 in y1_org]\n",
    "#y2_txt=[str(y2)+'%' for y2 in y2_org]\n",
    "\n",
    "trace0 = go.Scatter(\n",
    "    x=x,\n",
    "    y=y0_stck,\n",
    "    #text=y0_txt,\n",
    "    hoverinfo='x+text',\n",
    "    mode='lines',\n",
    "    line=dict(width=0.5),\n",
    "              #color='rgb(250, 0, 0)'),\n",
    "    fill='tonexty',\n",
    "    name='Electro'\n",
    ")\n",
    "trace1 = go.Scatter(\n",
    "    x=x,\n",
    "    y=y1_stck,\n",
    "    #text=y1_txt,\n",
    "    hoverinfo='x+text',\n",
    "    mode='lines',\n",
    "    line=dict(width=0.5),\n",
    "              #color='rgb(0, 250, 0)'),\n",
    "    fill='tonexty',\n",
    "    name='Rock'\n",
    ")\n",
    "trace2 = go.Scatter(\n",
    "    x=x,\n",
    "    y=y2_stck,\n",
    "   # text=y2_txt,\n",
    "    hoverinfo='x+text',\n",
    "    mode='lines',\n",
    "    line=dict(width=0.5),\n",
    "              #color='rgb(0, 0, 250)'),\n",
    "    fill='tonexty',\n",
    "    name='Pop'\n",
    ")\n",
    "\n",
    "trace3 = go.Scatter(\n",
    "    x=x,\n",
    "    y=y3_stck,\n",
    "   # text=y2_txt,\n",
    "    hoverinfo='x+text',\n",
    "    mode='lines',\n",
    "    line=dict(width=0.5),\n",
    "              #color='rgb(240, 120, 34)'),\n",
    "    fill='tonexty',\n",
    "    name='Jazz/Blues'\n",
    ")\n",
    "trace4 = go.Scatter(\n",
    "    x=x,\n",
    "    y=y4_stck,\n",
    "   # text=y2_txt,\n",
    "    hoverinfo='x+text',\n",
    "    mode='lines',\n",
    "    line=dict(width=0.5),\n",
    "              #color='rgb(12, 13, 15)'),\n",
    "    fill='tonexty',\n",
    "    name='Rap/Hip Hop'\n",
    ")\n",
    "\n",
    "trace5 = go.Scatter(\n",
    "    x=x,\n",
    "    y=y5_stck,\n",
    "   # text=y2_txt,\n",
    "    hoverinfo='x+text',\n",
    "    mode='lines',\n",
    "    line=dict(width=0.5),\n",
    "              #color='rgb(12, 13, 15)'),\n",
    "    fill='tonexty',\n",
    "    name='Classical'\n",
    ")\n",
    "\n",
    "trace6 = go.Scatter(\n",
    "    x=x,\n",
    "    y=y6_stck,\n",
    "   # text=y2_txt,\n",
    "    hoverinfo='x+text',\n",
    "    mode='lines',\n",
    "    line=dict(width=0.5),\n",
    "              #color='rgb(12, 13, 15)'),\n",
    "    fill='tonexty',\n",
    "    name='Reggae/Ska'\n",
    ")\n",
    "\n",
    "trace7 = go.Scatter(\n",
    "    x=x,\n",
    "    y=y7_stck,\n",
    "   # text=y2_txt,\n",
    "    hoverinfo='x+text',\n",
    "    mode='lines',\n",
    "    line=dict(width=0.5),\n",
    "              #color='rgb(12, 13, 15)'),\n",
    "    fill='tonexty',\n",
    "    name='Folk'\n",
    ")\n",
    "\n",
    "trace8 = go.Scatter(\n",
    "    x=x,\n",
    "    y=y8_stck,\n",
    "   # text=y2_txt,\n",
    "    hoverinfo='x+text',\n",
    "    mode='lines',\n",
    "    line=dict(width=0.5),\n",
    "              #color='rgb(12, 13, 15)'),\n",
    "    fill='tonexty',\n",
    "    name='Latin'\n",
    ")\n",
    "\n",
    "trace9 = go.Scatter(\n",
    "    x=x,\n",
    "    y=y9_stck,\n",
    "   # text=y2_txt,\n",
    "    hoverinfo='x+text',\n",
    "    mode='lines',\n",
    "    line=dict(width=0.5),\n",
    "              #color='rgb(12, 13, 15)'),\n",
    "    fill='tonexty',\n",
    "    name='Country'\n",
    ")\n",
    "\n",
    "trace10 = go.Scatter(\n",
    "    x=x,\n",
    "    y=y10_stck,\n",
    "   # text=y2_txt,\n",
    "    hoverinfo='x+text',\n",
    "    mode='lines',\n",
    "    line=dict(width=0.5),\n",
    "              #color='rgb(12, 13, 15)'),\n",
    "    fill='tonexty',\n",
    "    name='Devational'\n",
    ")\n",
    "\n",
    "layout = go.Layout(\n",
    "\n",
    "    xaxis=dict(\n",
    "        autotick=False,\n",
    "        ticks='outside',\n",
    "        tick0=0,\n",
    "        dtick=1,\n",
    "\n",
    "    )\n",
    "    )\n",
    "data = [trace0, trace1, trace2, trace3, trace4, trace5, trace6, trace7]\n",
    "\n",
    "fig = go.Figure(data=data,layout=layout)\n",
    "py.iplot(fig, filename='axes-ticks')\n",
    "\n"
   ]
  }
 ],
 "metadata": {
  "anaconda-cloud": {},
  "kernelspec": {
   "display_name": "Python [conda root]",
   "language": "python",
   "name": "conda-root-py"
  },
  "language_info": {
   "codemirror_mode": {
    "name": "ipython",
    "version": 3
   },
   "file_extension": ".py",
   "mimetype": "text/x-python",
   "name": "python",
   "nbconvert_exporter": "python",
   "pygments_lexer": "ipython3",
   "version": "3.5.2"
  }
 },
 "nbformat": 4,
 "nbformat_minor": 1
}
