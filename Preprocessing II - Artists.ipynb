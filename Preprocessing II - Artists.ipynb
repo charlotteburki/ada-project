{
 "cells": [
  {
   "cell_type": "markdown",
   "metadata": {},
   "source": [
    "# Preprocessing Artist data\n",
    "In this notebook, second step on our preprocessing pipeline, we'll extract artists from our events dataset, and then try to fill missing values of either musical genre or country of origin, with the help of other web platforms. Obviously we may not succeed in obtaining 100% of it, but the more the better.\n",
    "\n",
    "- MusicGraph\n",
    "- Spotify\n",
    "- Wikipedia"
   ]
  },
  {
   "cell_type": "code",
   "execution_count": 41,
   "metadata": {
    "collapsed": true
   },
   "outputs": [],
   "source": [
    "import pandas as pd\n",
    "import os\n",
    "import glob\n",
    "import urllib\n",
    "import requests\n",
    "import time\n",
    "import json\n",
    "from pandas.io.json import json_normalize\n",
    "from IPython.display import clear_output\n",
    "import numpy as np\n",
    "import bandsInTownHelper as bandsInTownHelper\n",
    "\n",
    "import pycountry\n",
    "import Scripts.country_demonyms"
   ]
  },
  {
   "cell_type": "markdown",
   "metadata": {},
   "source": [
    "## Genres and origins\n",
    "\n",
    "Divide the data we have after calling the MusicGraph API into two subsets : one which has value filled in nicely (~35%) which  we'll call clean, another one with 'assumed' correct artist names but missing genre and origin information, and a third where information is missing, and rows may contain more than one artist in their name. The last subset may require extra handling care with regard to the events frame.\n",
    "BIG PART of exploratory data analysis"
   ]
  },
  {
   "cell_type": "code",
   "execution_count": 6,
   "metadata": {
    "collapsed": false
   },
   "outputs": [
    {
     "name": "stdout",
     "output_type": "stream",
     "text": [
      "Number of entries in the total_musicgraph set 62000\n",
      "Number of entries in the total_eventsch set 16057\n"
     ]
    }
   ],
   "source": [
    "# Get total artists set after attempting to update genres and origins through MusicGraph API\n",
    "total_musicgraph = pd.read_csv(os.path.join('Artists/total_artists_MusicGraph.csv'))\n",
    "\n",
    "\n",
    "# Get genre data acquired from Spotify, discard rows for which nothing was found\n",
    "total_spotify    = pd.read_csv(os.path.join('Artists/total_artists_Spotify.csv'))\n",
    "total_spotify    = total_spotify.loc[pd.isnull(total_spotify['genre']) == False]\n",
    "\n",
    "# Get original Events.ch set to delete duplicates in the total_musicgraph set\n",
    "# and the specific artists set from Events.ch\n",
    "total_eventsch_artist_del = pd.read_csv(os.path.join('Artists/total_eventsch.csv'))\n",
    "total_eventsch_artists = pd.read_csv(os.path.join('Artists/total_eventsch_artists.csv'))\n",
    "\n",
    "print('Number of entries in the total_musicgraph set', total_musicgraph.index.size)\n",
    "print('Number of entries in the total_eventsch set', total_eventsch_artists.index.size)"
   ]
  },
  {
   "cell_type": "markdown",
   "metadata": {},
   "source": [
    "### Events.ch"
   ]
  },
  {
   "cell_type": "code",
   "execution_count": 7,
   "metadata": {
    "collapsed": false
   },
   "outputs": [
    {
     "name": "stdout",
     "output_type": "stream",
     "text": [
      "Number of entries in the total_musicgraph set after deleting duplicates from Events.ch artists 47457\n"
     ]
    }
   ],
   "source": [
    "# In the following, we will set the Artist names as index for simplicity\n",
    "# Prepare deletion of duplicates\n",
    "total_eventsch_artist_del.drop(['Date'], 1, inplace=True)\n",
    "total_eventsch_artist_del.drop(['Genre'], 1, inplace=True)\n",
    "total_eventsch_artist_del.drop(['Venue'], 1, inplace=True)\n",
    "total_eventsch_artist_del.drop(['City'], 1, inplace=True)\n",
    "total_eventsch_artist_del.drop_duplicates(['Artist'], inplace=True)\n",
    "total_eventsch_artist_del.set_index('Artist', drop=True, append=False, inplace=True)\n",
    "del total_eventsch_artist_del.index.name\n",
    "\n",
    "# Set artist name as index for total_musicgraph set\n",
    "total_musicgraph.set_index('name', drop=True, append=False, inplace=True)\n",
    "del total_musicgraph.index.name\n",
    "\n",
    "# Drop duplicates\n",
    "for index in total_eventsch_artist_del.index :\n",
    "        if index in total_musicgraph.index:\n",
    "            total_musicgraph.drop(index, inplace=True)\n",
    "\n",
    "# Set artist name as index for the total_eventsch_artists set\n",
    "total_eventsch_artists.set_index('name', drop=True, append=False, inplace=True)\n",
    "del total_eventsch_artists.index.name\n",
    "\n",
    "print('Number of entries in the total_musicgraph set after deleting duplicates from Events.ch artists', total_musicgraph.index.size)"
   ]
  },
  {
   "cell_type": "code",
   "execution_count": 11,
   "metadata": {
    "collapsed": false
   },
   "outputs": [
    {
     "name": "stdout",
     "output_type": "stream",
     "text": [
      "Missing genres  : 29769\n",
      "Missing origins : 48949\n"
     ]
    }
   ],
   "source": [
    "print('Missing genres  :',(pd.isnull(total_musicgraph.genre).sum())+(pd.isnull(total_eventsch_artists.genre).sum()))\n",
    "print('Missing origins :',(pd.isnull(total_musicgraph.origin).sum())+(pd.isnull(total_eventsch_artists.origin).sum()))"
   ]
  },
  {
   "cell_type": "markdown",
   "metadata": {},
   "source": [
    "#### Filling genres and available origins for artists parsed from Events.ch also present in the total_musicgraph set"
   ]
  },
  {
   "cell_type": "code",
   "execution_count": 12,
   "metadata": {
    "collapsed": false
   },
   "outputs": [
    {
     "name": "stdout",
     "output_type": "stream",
     "text": [
      "genres missing before 29769\n",
      "origins missing before 34056\n",
      "rows in eventsch before 16057\n",
      "genres missing after 29769\n",
      "origins missing after 34056\n",
      "rows in eventsch after 16057\n"
     ]
    }
   ],
   "source": [
    "# We iterate over the artists we parsed from the Events.ch data to see if they also appear\n",
    "# in the rest of the artists set, in which case we can update their genre if needed since\n",
    "# Events.ch has genre for every artist.\n",
    "\n",
    "# Obviously if an artist from events.ch is found in the total_musicgraph set, then we will\n",
    "# update total_musicgraph and remove that artist from total_eventsch as it would become \n",
    "# redundant in the end.\n",
    "\n",
    "print('genres missing before', (pd.isnull(total_musicgraph.genre)).sum())\n",
    "print('origins missing before', (pd.isnull(total_musicgraph.origin)).sum())\n",
    "print('rows in eventsch before', total_eventsch_artists.index.size)\n",
    "i=0\n",
    "for index in total_eventsch_artists.index :\n",
    "    if index in total_musicgraph.index:\n",
    "        if pd.isnull(total_musicgraph.loc[index].genre):\n",
    "            total_musicgraph.set_value(index, 'genre', total_eventsch_artists.loc[index].genre)\n",
    "\n",
    "        if ((pd.isnull(total_eventsch_artists.loc[index].origin) == False) and (pd.isnull(total_musicgraph.loc[index].origin))) :\n",
    "            total_musicgraph.set_value(index, 'origin', total_eventsch_artists.loc[index].origin)\n",
    "                     \n",
    "        total_eventsch_artists.drop(index, inplace=True)    \n",
    "\n",
    "print('genres missing after', (pd.isnull(total_musicgraph.genre)).sum())\n",
    "print('origins missing after', (pd.isnull(total_musicgraph.origin)).sum())\n",
    "print('rows in eventsch after', total_eventsch_artists.index.size)"
   ]
  },
  {
   "cell_type": "code",
   "execution_count": null,
   "metadata": {
    "collapsed": true
   },
   "outputs": [],
   "source": [
    "# Export unique artists from Events.ch for further processing with the music intelligence platforms\n",
    "total_eventsch_artists.index.name = 'name'\n",
    "total_eventsch_artists.reset_index()\n",
    "#Write the DataFrame to a csv file\n",
    "filename = 'Artists/total_eventsch_artists.csv'\n",
    "pd.DataFrame(total_eventsch_artists, columns=list(total_eventsch_artists.columns)).to_csv(filename, index=True, encoding=\"utf-8\")\n",
    "print('Total events data saved to file')"
   ]
  },
  {
   "cell_type": "markdown",
   "metadata": {},
   "source": [
    "### Rest of the artists set"
   ]
  },
  {
   "cell_type": "code",
   "execution_count": 13,
   "metadata": {
    "collapsed": true
   },
   "outputs": [],
   "source": [
    "# Separate missing rows from filled ones\n",
    "musicgraph_missing = total_musicgraph.loc[(pd.isnull(total_musicgraph.genre) | pd.isnull(total_musicgraph.origin))]"
   ]
  },
  {
   "cell_type": "markdown",
   "metadata": {},
   "source": [
    "#### Using Spotify\n",
    "First, we will try to fill in the missing genre values with data acquired from Spotify. To do so, we first have to clean Spotify data, which gives us very specific genres instead of global names such as MusicGenre. Because the complexity of our classification is bound by the simpler model, we have to drop the specificity of Spotify. Some origin information may also be included in the specific genres, which we should look for carefully before simplifying them."
   ]
  },
  {
   "cell_type": "code",
   "execution_count": 14,
   "metadata": {
    "collapsed": false
   },
   "outputs": [
    {
     "data": {
      "text/html": [
       "<div>\n",
       "<table border=\"1\" class=\"dataframe\">\n",
       "  <thead>\n",
       "    <tr style=\"text-align: right;\">\n",
       "      <th></th>\n",
       "      <th>ambigous_result</th>\n",
       "      <th>genre</th>\n",
       "      <th>no_result</th>\n",
       "      <th>origin</th>\n",
       "    </tr>\n",
       "  </thead>\n",
       "  <tbody>\n",
       "    <tr>\n",
       "      <th>Jeff Mills</th>\n",
       "      <td>0</td>\n",
       "      <td>acid house</td>\n",
       "      <td>0</td>\n",
       "      <td>NaN</td>\n",
       "    </tr>\n",
       "    <tr>\n",
       "      <th>Paul Van Dyk</th>\n",
       "      <td>0</td>\n",
       "      <td>disco house</td>\n",
       "      <td>0</td>\n",
       "      <td>NaN</td>\n",
       "    </tr>\n",
       "    <tr>\n",
       "      <th>DJ Hell</th>\n",
       "      <td>0</td>\n",
       "      <td>electroclash</td>\n",
       "      <td>0</td>\n",
       "      <td>NaN</td>\n",
       "    </tr>\n",
       "    <tr>\n",
       "      <th>Willow</th>\n",
       "      <td>0</td>\n",
       "      <td>float house</td>\n",
       "      <td>0</td>\n",
       "      <td>NaN</td>\n",
       "    </tr>\n",
       "    <tr>\n",
       "      <th>Patrick Zigon</th>\n",
       "      <td>0</td>\n",
       "      <td>german techno</td>\n",
       "      <td>0</td>\n",
       "      <td>NaN</td>\n",
       "    </tr>\n",
       "    <tr>\n",
       "      <th>Taucher</th>\n",
       "      <td>0</td>\n",
       "      <td>bubble trance</td>\n",
       "      <td>0</td>\n",
       "      <td>NaN</td>\n",
       "    </tr>\n",
       "    <tr>\n",
       "      <th>Mando Diao</th>\n",
       "      <td>0</td>\n",
       "      <td>garage rock</td>\n",
       "      <td>0</td>\n",
       "      <td>NaN</td>\n",
       "    </tr>\n",
       "    <tr>\n",
       "      <th>Foo Fighters</th>\n",
       "      <td>0</td>\n",
       "      <td>alternative metal</td>\n",
       "      <td>0</td>\n",
       "      <td>NaN</td>\n",
       "    </tr>\n",
       "    <tr>\n",
       "      <th>Agnès</th>\n",
       "      <td>0</td>\n",
       "      <td>minimal tech house</td>\n",
       "      <td>0</td>\n",
       "      <td>NaN</td>\n",
       "    </tr>\n",
       "    <tr>\n",
       "      <th>Mirko Loko</th>\n",
       "      <td>0</td>\n",
       "      <td>minimal tech house</td>\n",
       "      <td>0</td>\n",
       "      <td>NaN</td>\n",
       "    </tr>\n",
       "  </tbody>\n",
       "</table>\n",
       "</div>"
      ],
      "text/plain": [
       "               ambigous_result               genre  no_result  origin\n",
       "Jeff Mills                   0          acid house          0     NaN\n",
       "Paul Van Dyk                 0         disco house          0     NaN\n",
       "DJ Hell                      0        electroclash          0     NaN\n",
       "Willow                       0         float house          0     NaN\n",
       "Patrick Zigon                0       german techno          0     NaN\n",
       "Taucher                      0       bubble trance          0     NaN\n",
       "Mando Diao                   0         garage rock          0     NaN\n",
       "Foo Fighters                 0   alternative metal          0     NaN\n",
       "Agnès                        0  minimal tech house          0     NaN\n",
       "Mirko Loko                   0  minimal tech house          0     NaN"
      ]
     },
     "execution_count": 14,
     "metadata": {},
     "output_type": "execute_result"
    }
   ],
   "source": [
    "total_spotify.set_index('name', drop=True, append=False, inplace=True)\n",
    "del total_spotify.index.name\n",
    "total_spotify.head(10)"
   ]
  },
  {
   "cell_type": "code",
   "execution_count": 15,
   "metadata": {
    "collapsed": true
   },
   "outputs": [],
   "source": [
    "#Create a dict of Country adjective to Country name\n",
    "country_dict = {}\n",
    "for key, value in country_demonyms.COUNTRY_DEMONYMS.items():\n",
    "    country_dict[value.lower()] = key.lower().title()\n",
    "\n",
    "country_name = []\n",
    "country_alpha2 = []\n",
    "country_alpha3 = []\n",
    "for country in list(pycountry.countries) :\n",
    "    if ' ' not in country.name :\n",
    "        country_name.append(country.name)\n",
    "    country_alpha2.append(country.alpha_2)\n",
    "    country_alpha3.append(country.alpha_3)\n",
    "country_alpha2.remove('DJ')\n",
    "country_alpha2.remove('MC') \n",
    "\n",
    "# Add specific words grabbed through exploratory analysis\n",
    "country_dict['persian'] = 'Iran'\n",
    "country_dict['breton'] = 'France'\n",
    "country_dict['argentine'] = 'Argentina'\n",
    "country_dict['fado'] = 'Portugal'\n",
    "country_dict['quebecois'] = 'Canada'\n",
    "country_dict['americana'] = 'United States'\n",
    "country_dict['j-ambient'] = 'Japan'\n",
    "country_dict['k-pop'] = 'Korea'\n",
    "country_dict['uk'] = 'United Kingdom'\n",
    "country_dict['k-indie'] = 'Korea'\n",
    "country_dict['j-reggae'] = 'Japan'\n",
    "country_dict['j-metal'] = 'Japan'\n",
    "country_dict['j-core'] = 'Japan'\n",
    "country_dict['j-punk'] = 'Japan'\n",
    "country_dict['sertanejo'] = 'Brasil'\n",
    "country_dict['japanoise'] = 'Japan'\n",
    "country_dict['magyar'] = 'Hungary'\n",
    "country_dict['j-rock'] = 'Japan'\n",
    "country_dict['francais'] = 'France'\n",
    "country_dict['chalga'] = 'Bulgaria'\n",
    "country_dict['napoletana'] = 'Italy'\n",
    "country_dict['bhangra'] = 'India'\n",
    "country_dict['carnatic'] = 'India'\n",
    "country_dict['forro'] = 'Brasil'\n",
    "country_dict['entehno'] = 'Greece'\n",
    "country_dict['bay'] = 'United States'\n",
    "country_dict['schlager'] = 'Germany'\n",
    "country_dict['coast'] = 'United States'\n",
    "country_dict['j-dance'] = 'Japan'\n",
    "country_dict['k-hop'] = 'Korea'\n",
    "country_dict['francoton'] = 'France'\n",
    "country_dict['corsican'] = 'France'\n",
    "country_dict['british'] = 'United Kingdom'\n",
    "country_dict['c-pop'] = 'China'\n",
    "country_dict['schweizer'] = 'Switzerland'"
   ]
  },
  {
   "cell_type": "code",
   "execution_count": 16,
   "metadata": {
    "collapsed": false
   },
   "outputs": [
    {
     "name": "stdout",
     "output_type": "stream",
     "text": [
      "Total number of genres from Spotify : 837\n",
      "Total helpful lines from Spotify with genre : 3754\n"
     ]
    }
   ],
   "source": [
    "total_spotify = total_spotify.select(lambda x: x in musicgraph_missing.index)\n",
    "print('Total number of genres from Spotify :', total_spotify.genre.unique().size)\n",
    "print('Total helpful lines from Spotify with genre :', total_spotify.index.size)"
   ]
  },
  {
   "cell_type": "markdown",
   "metadata": {},
   "source": [
    "#### Parsing and updating origin information\n",
    "We get roughly 400 origins more"
   ]
  },
  {
   "cell_type": "code",
   "execution_count": 17,
   "metadata": {
    "collapsed": false
   },
   "outputs": [
    {
     "name": "stdout",
     "output_type": "stream",
     "text": [
      "origins missing before 34056\n",
      "origins missing after 33680\n"
     ]
    }
   ],
   "source": [
    "print('origins missing before', (pd.isnull(musicgraph_missing.origin)).sum())\n",
    "\n",
    "for index, genre in zip(total_spotify.index, total_spotify.genre) :\n",
    "    for word in genre.split() :\n",
    "        if word in country_dict :\n",
    "            if index in musicgraph_missing.index :\n",
    "                musicgraph_missing.set_value(index, 'origin', country_dict[word])\n",
    "\n",
    "print('origins missing after', (pd.isnull(musicgraph_missing.origin)).sum())"
   ]
  },
  {
   "cell_type": "markdown",
   "metadata": {},
   "source": [
    "#### Simplifying genres\n",
    "We identified a set of words from exploratory analysis to accelerate the process of replacement."
   ]
  },
  {
   "cell_type": "code",
   "execution_count": 18,
   "metadata": {
    "collapsed": true
   },
   "outputs": [],
   "source": [
    "genre_dict = {}\n",
    "\n",
    "Electronica = ['house','aggrotech','danspunk', 'brostep', 'abstract', 'chillwave','drone', 'chill', 'beats', 'experimental','electropunk',  'turbo', 'balearic','dance-punk', 'ebm','edm', 'j-dance', 'chillstep','darkpsy', 'darkstep', 'chalga', 'japanoise', 'lounge', 'psytrance', 'tekno','indietronica', 'electronica',  'techno','disco', 'j-ambient',   'noise', 'bass', 'electroclash', 'wave', 'trance', 'ambient', 'dancehall', 'beat', 'dance', 'dub', 'electro', 'eurodance', 'dubstep', 'electronic', 'psych', 'industrial', 'microhouse', 'electrofox', ]\n",
    "for key in Electronica:\n",
    "    genre_dict[key] = 'Electronica/Dance'\n",
    "Rock = ['rock','rock-and-roll','neo-progressive','tribute','post-screamo', 'hardstyle', 'speedcore', 'neo-psychedelic', 'ostrock','neo-rockabilly', 'britpop', 'j-punk','grunge','breakcore', 'goregrind','orgcore','j-rock', 'alternative', 'j-core', 'j-metal', 'k-indie', 'screamocore', 'grindcore', 'nerdcore',  'doomcore', 'sludge',   'core','deathcore',  'gamecore', 'metalcore','post-punk', 'garage','thrash','post-metal', 'psychobilly', 'edge', 'mathcore',  'punk', 'emo', 'indie', 'metal', 'hardcore',  'djent', 'doom', 'glam', 'oi', 'nwobhm']\n",
    "for key in Rock:\n",
    "    genre_dict[key] = 'Rock'\n",
    "Pop = ['pop','popgaze', 'idol','etherpop','anti-folk',  'chanson','c-pop', 'k-pop', 'europop', 'neo-synthpop', 'synthpop', 'folk-pop', 'freak', 'eurovision', 'futurepop']\n",
    "for key in Pop:\n",
    "    genre_dict[key] = 'Pop'\n",
    "Reggae = ['reggae', 'ska', 'reggaeton', 'euroska','j-reggae' ]\n",
    "for key in Reggae:\n",
    "    genre_dict[key] = 'Reggae/Ska'\n",
    "Jazz = ['jazz', 'bebop', 'ragtime', 'afrobeat']\n",
    "for key in Jazz:\n",
    "    genre_dict[key] = 'Jazz'\n",
    "World = ['rai','accordeon', 'entehno',  'african','schlager','corsican','breton', 'asian', 'british',  'arab','armenian', 'kurdish',  'balkan', 'world', 'napoletana','bhangra', 'polka', 'folkmusik', 'andean', 'panpipe', 'maghreb','magyar',  'fado','traditional', 'quebecois', 'carnatic', 'native', 'klezmer', 'world', 'celtic', 'bangla', 'pagode', 'flamenco', 'throat', 'medieval', 'capoeira']\n",
    "for key in World:\n",
    "    genre_dict[key] = 'World'\n",
    "RB = ['r&b', 'funk', 'funky', 'soul']\n",
    "for key in RB:\n",
    "    genre_dict[key] = 'Soul/R&B'\n",
    "Country = ['bluegrass', 'country', 'barbershop', 'americana', 'bluegrass', 'cajun']\n",
    "for key in Country:\n",
    "    genre_dict[key] = 'Country'\n",
    "Latin = ['forro' ,'nu-cumbia', 'sertanejo', 'salsa','tango','merengue', 'bachata', 'rumba', 'nova', 'latin', 'cumbia']\n",
    "for key in Latin:\n",
    "    genre_dict[key] = 'Latin'\n",
    "Rap = ['hop', 'rap', 'trap', 'k-hop', 'francoton']\n",
    "for key in Rap:\n",
    "    genre_dict[key] = 'Rap/Hip Hop'\n",
    "Blues = ['blues', 'blues-rock', 'swing', 'boogie-woogie']\n",
    "for key in Blues:\n",
    "    genre_dict[key] = 'Blues'\n",
    "Classical = ['cello','cappella',  'concert', 'opera', 'choral', 'clarinet', 'classical', 'violin', 'harpsichord', 'string', 'brass', 'orchestral', 'baroque', 'harp', 'early']\n",
    "for key in Classical:\n",
    "    genre_dict[key] = 'Classical/Opera'\n",
    "Soundtracks = ['movie', 'tunes', 'hollywood', 'soundtrack' ]\n",
    "for key in Soundtracks:\n",
    "    genre_dict[key] = 'Soundtracks'\n",
    "Gospel = ['gospel', 'christian', 'liturgical', 'christmas', 'ccm', 'worship']\n",
    "for key in Gospel:\n",
    "    genre_dict[key] = 'Christian/Gospel'\n",
    "NewAge = ['age', 'kirtan', 'didgeridoo']\n",
    "for key in NewAge:\n",
    "    genre_dict[key] = 'New Age'"
   ]
  },
  {
   "cell_type": "markdown",
   "metadata": {},
   "source": [
    "####  Updating genres"
   ]
  },
  {
   "cell_type": "code",
   "execution_count": 19,
   "metadata": {
    "collapsed": false
   },
   "outputs": [
    {
     "name": "stdout",
     "output_type": "stream",
     "text": [
      "genres missing before 29769\n",
      "genres missing after 28372\n"
     ]
    }
   ],
   "source": [
    "print('genres missing before', (pd.isnull(musicgraph_missing.genre)).sum())\n",
    "    \n",
    "for index, genre in zip(total_spotify.index, total_spotify.genre) :\n",
    "    for word in genre.split() :\n",
    "        if word in genre_dict :\n",
    "            total_spotify.set_value(index, 'genre', genre_dict[word])\n",
    "            if index in musicgraph_missing.index :\n",
    "                musicgraph_missing.set_value(index, 'genre', genre_dict[word])\n",
    "\n",
    "print('genres missing after', (pd.isnull(musicgraph_missing.genre)).sum())"
   ]
  },
  {
   "cell_type": "markdown",
   "metadata": {},
   "source": [
    "#### Updating the total_musicgraph"
   ]
  },
  {
   "cell_type": "code",
   "execution_count": 20,
   "metadata": {
    "collapsed": false
   },
   "outputs": [
    {
     "name": "stdout",
     "output_type": "stream",
     "text": [
      "genres missing before 29769\n",
      "origins missing before 34056\n"
     ]
    },
    {
     "name": "stderr",
     "output_type": "stream",
     "text": [
      "C:\\Users\\Mathieu\\Anaconda3\\lib\\site-packages\\ipykernel\\__main__.py:9: SettingWithCopyWarning: \n",
      "A value is trying to be set on a copy of a slice from a DataFrame\n",
      "\n",
      "See the caveats in the documentation: http://pandas.pydata.org/pandas-docs/stable/indexing.html#indexing-view-versus-copy\n"
     ]
    },
    {
     "name": "stdout",
     "output_type": "stream",
     "text": [
      "genres missing after 28372\n",
      "origins missing after 33680\n"
     ]
    }
   ],
   "source": [
    "print('genres missing before', (pd.isnull(total_musicgraph.genre)).sum())\n",
    "print('origins missing before', (pd.isnull(total_musicgraph.origin)).sum())\n",
    "\n",
    "for index in musicgraph_missing.index :\n",
    "    if  (pd.isnull(musicgraph_missing.loc[index].genre)==False) :\n",
    "        total_musicgraph.set_value(index, 'genre', musicgraph_missing.loc[index].genre)\n",
    "        if (pd.isnull(musicgraph_missing.loc[index].origin)==False) :\n",
    "            total_musicgraph.set_value(index, 'origin', musicgraph_missing.loc[index].origin)\n",
    "            musicgraph_missing.drop(index, inplace=True)\n",
    "    elif (pd.isnull(musicgraph_missing.loc[index].origin)==False) :\n",
    "            total_musicgraph.set_value(index, 'origin', musicgraph_missing.loc[index].origin)   \n",
    "\n",
    "print('genres missing after', (pd.isnull(total_musicgraph.genre)).sum())\n",
    "print('origins missing after', (pd.isnull(total_musicgraph.origin)).sum())"
   ]
  },
  {
   "cell_type": "markdown",
   "metadata": {},
   "source": [
    "### Second data updating step"
   ]
  },
  {
   "cell_type": "code",
   "execution_count": 21,
   "metadata": {
    "collapsed": true
   },
   "outputs": [],
   "source": [
    "# Load Wikipedia data and MusicGraph data obtained for Events.ch artists, and set indices\n",
    "total_eventsch_artists_wiki = pd.read_csv(os.path.join('Artists/total_eventsch_artists_wiki.csv'))\n",
    "total_artists_MusicGraph_eventsCH = pd.read_csv(os.path.join('Artists/total_eventsch_artists_MusicGraph.csv'))\n",
    "\n",
    "total_eventsch_artists_wiki.set_index('name', drop=True, append=False, inplace=True)\n",
    "del total_eventsch_artists_wiki.index.name\n",
    "\n",
    "total_artists_MusicGraph_eventsCH.set_index('name', drop=True, append=False, inplace=True)\n",
    "del total_artists_MusicGraph_eventsCH.index.name"
   ]
  },
  {
   "cell_type": "markdown",
   "metadata": {},
   "source": [
    "#### Update origins of Events.ch artists with Wikipedia data\n",
    "We get a mere 350 more origins after scraping Wikipedia"
   ]
  },
  {
   "cell_type": "code",
   "execution_count": 22,
   "metadata": {
    "collapsed": false
   },
   "outputs": [
    {
     "name": "stdout",
     "output_type": "stream",
     "text": [
      "origins missing before 14893\n",
      "origins missing after 14548\n"
     ]
    }
   ],
   "source": [
    "print('origins missing before', (pd.isnull(total_eventsch_artists.origin)).sum())\n",
    "for index in total_eventsch_artists_wiki.index :\n",
    "        if index in total_eventsch_artists.index :\n",
    "            if pd.isnull(total_eventsch_artists.loc[index].origin):\n",
    "                if (pd.isnull(total_eventsch_artists_wiki.loc[index].origin)==False):\n",
    "                    total_eventsch_artists.set_value(index, 'origin', total_eventsch_artists_wiki.loc[index].origin)\n",
    "                \n",
    "print('origins missing after', (pd.isnull(total_eventsch_artists.origin)).sum())"
   ]
  },
  {
   "cell_type": "code",
   "execution_count": 23,
   "metadata": {
    "collapsed": false
   },
   "outputs": [
    {
     "name": "stdout",
     "output_type": "stream",
     "text": [
      "16057\n",
      "16057\n"
     ]
    }
   ],
   "source": [
    "# Maintnance : drop duplicate rows\n",
    "total_artists_MusicGraph_eventsCH = total_artists_MusicGraph_eventsCH[~total_artists_MusicGraph_eventsCH.index.duplicated(keep='first')]\n",
    "print(total_eventsch_artists.index.size)\n",
    "print(total_artists_MusicGraph_eventsCH.index.size)"
   ]
  },
  {
   "cell_type": "markdown",
   "metadata": {},
   "source": [
    "#### Update origins of Events.ch artists with MusicGraph data\n",
    "MusicGraph gets ~us 1700 more origins"
   ]
  },
  {
   "cell_type": "code",
   "execution_count": 24,
   "metadata": {
    "collapsed": false
   },
   "outputs": [
    {
     "name": "stdout",
     "output_type": "stream",
     "text": [
      "origins missing before 14548\n",
      "origins missing after 12806\n"
     ]
    }
   ],
   "source": [
    "#total_artists_MusicGraph_eventsCH\n",
    "# MusicGraph gets us ~1700 origins \n",
    "\n",
    "print('origins missing before', (pd.isnull(total_eventsch_artists.origin)).sum())\n",
    "for index in total_artists_MusicGraph_eventsCH.index :\n",
    "        if index in total_eventsch_artists.index :\n",
    "            if pd.isnull(total_eventsch_artists.loc[index].origin):\n",
    "                if (pd.isnull(total_artists_MusicGraph_eventsCH.loc[index].origin)==False):\n",
    "                    total_eventsch_artists.set_value(index, 'origin', total_artists_MusicGraph_eventsCH.loc[index].origin)\n",
    "                \n",
    "print('origins missing after', (pd.isnull(total_eventsch_artists.origin)).sum())"
   ]
  },
  {
   "cell_type": "markdown",
   "metadata": {},
   "source": [
    "### Updating total_events with Events.ch artists' informations"
   ]
  },
  {
   "cell_type": "code",
   "execution_count": 30,
   "metadata": {
    "collapsed": true
   },
   "outputs": [],
   "source": [
    "# Loading total_events\n",
    "total_events = pd.read_csv(os.path.join('Events/total_events.csv'))\n",
    "total_events.rename(columns={'Genre': 'genre'}, inplace=True)"
   ]
  },
  {
   "cell_type": "code",
   "execution_count": 31,
   "metadata": {
    "collapsed": false
   },
   "outputs": [
    {
     "name": "stdout",
     "output_type": "stream",
     "text": [
      "origins missing before 202062\n",
      "genres missing before 170200\n",
      "origins missing after 191068\n",
      "genres missing after 170200\n"
     ]
    }
   ],
   "source": [
    "#Update total_events with Events.ch artist data\n",
    "\n",
    "print('origins missing before', (pd.isnull(total_events.origin)).sum())\n",
    "print('genres missing before', (pd.isnull(total_events.genre)).sum())\n",
    "\n",
    "\n",
    "for index, artist in zip(total_events.index, total_events.Artist) :\n",
    "    if artist in total_eventsch_artists.index :\n",
    "        if ((pd.isnull(total_events.loc[index].origin)) & (pd.isnull(total_eventsch_artists.loc[artist].origin) == False)) :\n",
    "            total_events.set_value(index, 'origin', total_eventsch_artists.loc[artist].origin)\n",
    "        if ((pd.isnull(total_events.loc[index].genre)) & (pd.isnull(total_eventsch_artists.loc[artist].genre) == False)) :\n",
    "            total_events.set_value(index, 'origin', total_eventsch_artists.loc[artist].genre)\n",
    "            \n",
    "print('origins missing after', (pd.isnull(total_events.origin)).sum())\n",
    "print('genres missing after', (pd.isnull(total_events.genre)).sum())"
   ]
  },
  {
   "cell_type": "markdown",
   "metadata": {},
   "source": [
    "### Other artists"
   ]
  },
  {
   "cell_type": "code",
   "execution_count": 32,
   "metadata": {
    "collapsed": true
   },
   "outputs": [],
   "source": [
    "# Load Wikipedia data\n",
    "total_musicgraph_processed_wiki    = pd.read_csv(os.path.join('Artists/total_musicgraph_processed_wiki.csv'))\n",
    "\n",
    "# Get new Spotify genre data after some minor fixes\n",
    "total_spotify    = pd.read_csv(os.path.join('Artists/total_artists_Spotify_processed_accents.csv'))\n",
    "total_spotify    = total_spotify.loc[pd.isnull(total_spotify['genre']) == False]\n",
    "\n",
    "# Set indices\n",
    "total_musicgraph_processed_wiki.set_index('name', drop=True, append=False, inplace=True)\n",
    "del total_musicgraph_processed_wiki.index.name\n",
    "\n",
    "total_spotify.set_index('name', drop=True, append=False, inplace=True)\n",
    "del total_spotify.index.name"
   ]
  },
  {
   "cell_type": "markdown",
   "metadata": {},
   "source": [
    "#### Updating total_musicgraph with Wikipedia data"
   ]
  },
  {
   "cell_type": "code",
   "execution_count": 33,
   "metadata": {
    "collapsed": false
   },
   "outputs": [
    {
     "name": "stdout",
     "output_type": "stream",
     "text": [
      "genres missing before 28372\n",
      "origins missing before 33680\n",
      "genres missing before 27350\n",
      "origins missing before 32687\n"
     ]
    }
   ],
   "source": [
    "# Wikipedia gets us 240 genre and ~900 origins\n",
    "\n",
    "print('genres missing before', (pd.isnull(total_musicgraph.genre)).sum())\n",
    "print('origins missing before', (pd.isnull(total_musicgraph.origin)).sum())\n",
    "for index in total_musicgraph_processed_wiki.index :\n",
    "        if index in total_musicgraph.index :\n",
    "            if pd.isnull(total_musicgraph.loc[index].origin):\n",
    "                if (pd.isnull(total_musicgraph_processed_wiki.loc[index].origin)==False):\n",
    "                    total_musicgraph.set_value(index, 'origin', total_musicgraph_processed_wiki.loc[index].origin)\n",
    "            if pd.isnull(total_musicgraph.loc[index].genre):\n",
    "                if (pd.isnull(total_musicgraph_processed_wiki.loc[index].genre)==False):\n",
    "                    total_musicgraph.set_value(index, 'genre', total_musicgraph_processed_wiki.loc[index].genre)\n",
    "                \n",
    "print('genres missing after', (pd.isnull(total_musicgraph.genre)).sum())\n",
    "print('origins missing after', (pd.isnull(total_musicgraph.origin)).sum())"
   ]
  },
  {
   "cell_type": "markdown",
   "metadata": {},
   "source": [
    "#### Updating total_musicgraph with Spotify data"
   ]
  },
  {
   "cell_type": "code",
   "execution_count": 34,
   "metadata": {
    "collapsed": false
   },
   "outputs": [
    {
     "name": "stdout",
     "output_type": "stream",
     "text": [
      "origins missing before 7156\n",
      "origins missing after 7143\n",
      "nb of genres before 192\n",
      "nb of genres after 136\n"
     ]
    }
   ],
   "source": [
    "print('origins missing before', (pd.isnull(total_spotify.origin)).sum())\n",
    "\n",
    "# Extract origins likewise\n",
    "for index, genre in zip(total_spotify.index, total_spotify.genre) :\n",
    "    for word in genre.split() :\n",
    "        if word in country_dict :\n",
    "            if pd.isnull(total_spotify.loc[index].origin): \n",
    "                total_spotify.set_value(index, 'origin', country_dict[word])            \n",
    "\n",
    "print('origins missing after', (pd.isnull(total_spotify.origin)).sum())\n",
    "\n",
    "# Clean spotify genre names\n",
    "print('nb of genres before', total_spotify.genre.unique().size)\n",
    "    \n",
    "for index, genre in zip(total_spotify.index, total_spotify.genre) :\n",
    "    for word in genre.split() :\n",
    "        if word in genre_dict :\n",
    "            total_spotify.set_value(index, 'genre', genre_dict[word])\n",
    "            \n",
    "print('nb of genres after', total_spotify.genre.unique().size)"
   ]
  },
  {
   "cell_type": "code",
   "execution_count": 35,
   "metadata": {
    "collapsed": false
   },
   "outputs": [
    {
     "name": "stdout",
     "output_type": "stream",
     "text": [
      "20118\n",
      "20117\n"
     ]
    }
   ],
   "source": [
    "# Maintenance : drop duplicate rows\n",
    "print(total_spotify.index.size)\n",
    "total_spotify = total_spotify[~total_spotify.index.duplicated(keep='first')]\n",
    "print(total_spotify.index.size)\n"
   ]
  },
  {
   "cell_type": "markdown",
   "metadata": {},
   "source": [
    "### Updating total_events with Spotify"
   ]
  },
  {
   "cell_type": "code",
   "execution_count": 36,
   "metadata": {
    "collapsed": false
   },
   "outputs": [
    {
     "name": "stdout",
     "output_type": "stream",
     "text": [
      "origins missing before 191068\n",
      "genres missing before 170200\n",
      "origins missing after 140427\n",
      "genres missing after 84575\n"
     ]
    }
   ],
   "source": [
    "print('origins missing before', (pd.isnull(total_events.origin)).sum())\n",
    "print('genres missing before', (pd.isnull(total_events.genre)).sum())\n",
    "\n",
    "\n",
    "for index, artist in zip(total_events.index, total_events.Artist) :\n",
    "    if artist in total_spotify.index :\n",
    "        if ((pd.isnull(total_events.loc[index].origin)) & (pd.isnull(total_spotify.loc[artist].origin) == False)) :\n",
    "            total_events.set_value(index, 'origin', total_spotify.loc[artist].origin)\n",
    "        if ((pd.isnull(total_events.loc[index].genre)) & (pd.isnull(total_spotify.loc[artist].genre) == False)) :\n",
    "            total_events.set_value(index, 'genre', total_spotify.loc[artist].genre)\n",
    "            \n",
    "print('origins missing after', (pd.isnull(total_events.origin)).sum())\n",
    "print('genres missing after', (pd.isnull(total_events.genre)).sum())"
   ]
  },
  {
   "cell_type": "markdown",
   "metadata": {},
   "source": [
    "### Updating total_events with MusicGraph"
   ]
  },
  {
   "cell_type": "code",
   "execution_count": 37,
   "metadata": {
    "collapsed": false
   },
   "outputs": [
    {
     "name": "stdout",
     "output_type": "stream",
     "text": [
      "origins missing before 140427\n",
      "genres missing before 84575\n",
      "origins missing after 135150\n",
      "genres missing after 84118\n"
     ]
    }
   ],
   "source": [
    "print('origins missing before', (pd.isnull(total_events.origin)).sum())\n",
    "print('genres missing before', (pd.isnull(total_events.genre)).sum())\n",
    "\n",
    "\n",
    "for index, artist in zip(total_events.index, total_events.Artist) :\n",
    "    if artist in total_musicgraph.index :\n",
    "        if ((pd.isnull(total_events.loc[index].origin)) & (pd.isnull(total_musicgraph.loc[artist].origin) == False)) :\n",
    "            total_events.set_value(index, 'origin', total_musicgraph.loc[artist].origin)\n",
    "        if ((pd.isnull(total_events.loc[index].genre)) & (pd.isnull(total_musicgraph.loc[artist].genre) == False)) :\n",
    "            total_events.set_value(index, 'genre', total_musicgraph.loc[artist].genre)\n",
    "            \n",
    "print('origins missing after', (pd.isnull(total_events.origin)).sum())\n",
    "print('genres missing after', (pd.isnull(total_events.genre)).sum())"
   ]
  },
  {
   "cell_type": "markdown",
   "metadata": {},
   "source": [
    "## Final step : cleaning up genres and origins names\n",
    "Because of the diversity of sources used to gather and enrich data, we end up with a messy categorization of artists' genres and origins. Therefore, this maintenance step is dramatically important for the coherence of our analysis and visualisations.\n",
    "\n",
    "#### Origins cleaning\n",
    "After a bit of exploration, we identify the origin names that divert from the country names we're after (most often scrapping errors from Wikipedia) and either match them to country names, or simply ditch them."
   ]
  },
  {
   "cell_type": "code",
   "execution_count": 38,
   "metadata": {
    "collapsed": false,
    "scrolled": true
   },
   "outputs": [
    {
     "data": {
      "text/plain": [
       "array([nan, 'Germany', 'USA', 'Italy', 'UK', 'Switzerland', 'Sweden',\n",
       "       'Jamaica', 'France', 'Egypt', 'Canada', 'New Zealand', 'Colombia',\n",
       "       'Finland', 'Mali', 'Australia', 'Belgium', 'Greece', 'Argentina',\n",
       "       'Russia', 'Brazil', 'Iceland', 'South Africa', 'Cuba', 'Benin',\n",
       "       'Senegal', 'Guinea', 'Spain', 'India', 'Poland', 'Netherlands',\n",
       "       'Romania', 'Serbia', 'Hungary', 'Macedonia', 'Malaysia', 'Chile',\n",
       "       'Mexico', 'Belarus', 'Israel', 'Japan',\n",
       "       'Rock, Indie, Punk, Heavy Metal, Gothic', 'Denmark', 'Indonesia',\n",
       "       'Austria', 'Ireland', 'Burkina Faso', 'Tunisia', 'Bahia', 'Pop',\n",
       "       'Scotland', \"Hip Hop, R'n'B\", 'Jazz, Blues, Soul', 'Algeria',\n",
       "       'Ivory Coast', 'Niger', 'Norway', 'Croatia', 'Taiwan', 'Portugal',\n",
       "       'Cape Verde', 'Czech Republic', 'Cameroon', 'South Korea',\n",
       "       'Lithuania', 'Nigeria', 'Ragga, Reggae, African Music, Dancehall',\n",
       "       'Turkey', 'Lebanon', 'Slovenia', 'Bangladesh', 'Latvia',\n",
       "       'Faroe Islands', 'Estonia', 'Puerto Rico', 'Zaire', 'Peru', 'China',\n",
       "       'Moldova', 'Electronic', 'Angola', 'Philippines', 'Morocco',\n",
       "       'Ukraine', 'Andorra', 'Venezuela', 'Slovakia', 'Thailand',\n",
       "       'Albania', 'Somalia', 'Bulgaria', 'Costa Rica', 'Palestine',\n",
       "       ' Canada', 'Trinidad and Tobago', 'Montenegro', 'Ethiopia',\n",
       "       'Georgia', 'Ghana', 'Bosnia and Herzegovina', 'Uruguay',\n",
       "       'Dominican Republic', 'Armenia', 'Congo', 'Malta', 'Luxembourg',\n",
       "       'Bolivia', 'Rwanda', 'Guadeloupe', 'United Arab Emirates',\n",
       "       'San Marino', 'Singapore', 'Ecuador', 'Iran', 'Zimbabwe', 'Kosovo',\n",
       "       'Martinique', 'Nepal', 'Liechtenstein', 'Kenya', 'Vietnam',\n",
       "       'Belize', 'Paraguay', 'Honduras', 'Maldives', 'Afghanistan',\n",
       "       'Malawi', 'Jordan', 'Azerbaijan', 'Guyana', 'Cyprus', 'Haiti',\n",
       "       'Kazakhstan', 'Uganda', 'Danemark', 'Mongolia', 'Gambia', 'Panama',\n",
       "       'Sudan', 'Syria', 'Fiji', 'Greenland', 'Australia / Germany',\n",
       "       'Pakistan', 'Mauritania'], dtype=object)"
      ]
     },
     "execution_count": 38,
     "metadata": {},
     "output_type": "execute_result"
    }
   ],
   "source": [
    "total_events.origin = total_events.origin.str.strip()\n",
    "total_events.replace({'origin': {'United States of America': 'USA', 'U.S.':'USA', 'Hong Kong':'China', 'Arabic': np.nan, 'Alma mater': np.nan,\n",
    "                                'Congo, The Democratic Republic of the': 'Congo', 'United States':'USA', 'Soviet Union (now Russia)':'Russia',\n",
    "                                'Alberta': 'Canada', 'Germany / Switzerland' : 'Switzerland', 'West Germany':'Germany', 'US':'USA', \n",
    "                                'Czechia':'Czech Republic', ')': np.nan, 'Russian Federation':'Russia', 'Czechoslovakia': 'Czech Republic',\n",
    "                                'Hesse':'Germany', 'ɑːˈliː/' : 'Switzerland', 'California':'USA', 'Glasperlenspiel' : 'Germany', 'History':'Switzerland',\n",
    "                                'New York City':'USA', '(age\\xa026)':'Ghana', 'British Columbia':'Canada', 'China Television (CTV)':'China',\n",
    "                                'Surrey': 'UK', 'North London':'UK', 'England / United Kingdom':'UK', 'United Kingdom':'UK', 'Latin Continuum': np.nan,\n",
    "                                'Ancient Germanic': 'Germany', 'Alabama':'USA', 'Manchester':'UK', 'okeh':'Switzerland', '/ɔːˈɡʌstᵻn/':'Switzerland',\n",
    "                                'Peter':'Switzerland', 'Greek':'Greece', 'Telesistema Mexicano':'Mexico', 'Massachusetts':'USA', '1998 Nagano':'Switzerland',\n",
    "                                'West Africa': 'Guinea', 'Japanese':'Japan', 'Quebec':'Canada', 'Native American':'USA', '/ˈpeɪlᵻn/':np.nan,\n",
    "                                '(age\\xa045)':np.nan, 'Soviet Union':'Russia', '1976 Montréal':'Canada', 'Ontario':'Canada','Anathoth':np.nan, 'Wales':'UK',\n",
    "                                'MTV':np.nan, 'Korea, Republic of':'South Korea', 'Republic of Venice':'Italy', 'Africa':'Ivory Coast', 'Europe':np.nan, 'Bohemia':np.nan,\n",
    "                                '(unknown)':np.nan, 'Kosovo)':'Kosovo', 'European Union':np.nan, '\"':np.nan, 'Ring name(s)':np.nan, 'meaning \"man\".':np.nan, '2006':'Switzerland',\n",
    "                                'Okinawa':'Japan', 'Guernsey':'UK', 'Hebrew via Greek and Latin.': np.nan, 'British America':'Canada', 'Hebrew: יוֹסֵף': 'Israel',\n",
    "                                'Famous warrior':np.nan, '2':np.nan, 'Syndication':np.nan, 'Venezuela, Bolivarian Republic of':'Venezuela', 'North Carolina State University': 'USA',\n",
    "                                'Democratic Republic of the Congo' : 'Congo', 'Stockholm':'Sweden', 'French':'France', '[citation needed]':'Germany', '[1]':'Switzerland',\n",
    "                                'Germanic':'Germany', 'Jewish':'Israel', '流逝':'China', '(age\\xa050)':np.nan, 'Jersey':'UK', 'Eisenach':'Germany',\n",
    "                                'Austria-Hungary': 'Austria', 'Ma\\'ale Adumim':np.nan, 'Lanarkshire':'UK', 'Sabah':np.nan, 'Sweden and Norway':'Sweden',\n",
    "                                'Nigeria / Germany':'Nigeria', 'Krasnoyarsk':'Russia', 'North Carolina':'USA', 'CAN':'Canada', 'Rouen':'France', 'Sweden / Europe':'Sweden',\n",
    "                                'Turkish':'Turkey', 'West London': 'UK', 'South Yorkshire':'UK', 'Κύριλλος (Kyrillos)':'Greece', 'German Empire':'Germany',\n",
    "                                'Arizona':'USA','Nickelodeon':'USA', 'Persian Empire':'Iran', 'Kingdom of Hungary':'Hungary', 'South America':'Brasil', \n",
    "                                'Third Reich':'Germany', 'Oklahoma':'USA', 'Portuguese':'Portugal', 'Illinois - USA' : 'USA', 'Latin and Greek':'Greece',\n",
    "                                'French Polynesia':'France', 'East Germany':'Germany', 'Vancouver':'Canada', 'Tel Aviv':'Israel', 'Old Norse':'Iceland',\n",
    "                                'Pennsylvania':'USA', 'Austro-Hungarian Empire':'Austria', 'Indiana':'USA', 'Siam':'Thailand', 'Paris':'France', 'Los Angeles':'USA',\n",
    "                                'Oregon':'USA', 'South London':'UK', 'Norwegian':'Norway', 'United States of America / Sweden / Finland / Slovenia / Austria':'USA',\n",
    "                                'United States of America / Canada':'USA','United States of America / Sweden / Finland / Slovenia / Austria':'USA', 'North Africa':'Algeria',\n",
    "                                'Somalia / United States of America':'Somalia', 'Navajo':'USA', 'Hamburg':'Germany', 'México':'Mexico', 'Côte d\\'Ivoire':'Ivory Coast',\n",
    "                                'Pembury':'UK', 'Réunion':'France', 'SFR Yugoslavia':'Serbia', 'Holland':'Netherlands', 'United States of America / England':'UK',\n",
    "                                'Tuva / Asia':'Russia', 'Kerala':'India', 'New Jersey':'USA', 'French Cameroon':'Cameroon', 'Prague':'Czech Republic', 'English':'UK',\n",
    "                                'Gibraltar':'UK', 'Taiwan, Province Of China':'Taiwan', 'Danish':'Danemark', 'Wisconsin':'USA', 'Wales / England':'UK',\n",
    "                                '.':np.nan, '(age\\xa063)':np.nan, '(age\\xa035)':np.nan, '(age\\xa049)':np.nan, 'D.C.':'USA', 'Curaçao':'Netherlands',\n",
    "                                'France / Guadeloupe':'France', 'Saint Barthélemy':'France', 'Germany / United States of America':'Germany', 'Italian':'Italy',\n",
    "                                'Normandy':'France', 'Cape Verde / Portugal':'Cape Verde', 'Northern Ireland':'UK', 'Kingdom of France':'France', 'USSR':'Russia',\n",
    "                                'Dutch':'Netherlands', 'South Africa / Africa' : 'South Africa', 'Florida':'USA', 'Georgia Russian Empire':'Georgia', 'Siberia':'Russia',\n",
    "                                'Papal States of Italy':'Italy', 'US.':'USA', 'FL':'USA', 'Berlin\\nGerman Empire':'Germany', '':np.nan,\n",
    "                                'Geneva':'Switzerland', 'Korea':'South Korea', 'Ireland / Czech Republic':'Ireland', 'Yugoslavia':'Serbia',\n",
    "                                '(age\\xa021)':np.nan, 'Canada / United States of America': ' Canada', 'Great Britain':'UK', 'New York': 'USA', 'Texas\\nUnited States':'USA',\n",
    "                                'Bagnols-sur-Cèze\\nGard\\nFrance':'France', 'Schweizer Fernsehen':'Switzerland', '(Finland)':'Finland', 'Greek via Latin':'Greece',\n",
    "                                'Austria / Germany':'Austria', 'U.K.':'UK', 'Discovery Channel': np.nan, 'Newfoundland and Labrador':np.nan, 'Brazil / Latin Continuum': 'Brazil',\n",
    "                                'Newfoundland':'Canada', 'Germany / Poland' : 'Germany', 'Barbados':'Jamaica', 'Zürich':'Switzerland',\n",
    "                                'Louisiana':'USA', 'Brazil / United States of America':'Brazil', 'meaning \\\"from France\\\"':'France',\n",
    "                                'Canada[1]':'Canada', '\\u200e (Mikha\\'el)': np.nan,'leader of elves': np.nan,'(age\\xa032)': np.nan, 'Antonia':'USA',\n",
    "                                'Pacifica': np.nan, 'Srivilliputhur': np.nan, 'Sassari': np.nan, 'Sîngerei': np.nan,'Tree of heaven': np.nan, 'holy\\\"': np.nan,\n",
    "                                'Die Blechtrommel': 'Germany', '1913': np.nan, '/ˈdʒoʊ.əkɪm/': np.nan, 'Middle East': np.nan, '1997\\xa0(1997-02-03)': np.nan,\n",
    "                                'Zadig ou la Destinée': 'France', 'West Indies': 'UK', '2007': np.nan, '1962': np.nan, 'GMA Network': 'USA', 'Feng County': 'China',\n",
    "                                'Nepali': 'Nepal', 'British Columbia / Canada':'Canada', 'Germany / England / United States of America': 'Germany', 'Sky Sports F1': 'UK', \n",
    "                                 'Televen':'Venezuela', 'Anthony':np.nan, 'Indian Diaspora':'India', 'Slavic':'Russia', 'blossom':np.nan, 'Sahel':'Burkina Faso',\n",
    "                                '/moʊlˈjɛər/' : np.nan, '691':np.nan, '10 Downing Street':'UK', 'UNITEDSTATESOFAMERICA':'USA', 'United States of America / Denmark':'USA',\n",
    "                                '/ˈhɒrəs/': np.nan, '1997': np.nan, 'Pacifica': np.nan, '(age\\xa038)': np.nan, '/ˈmɔːr/': np.nan, 'Minnesota':'USA', 'ABC':np.nan,\n",
    "                                'Serbian': 'Serbia', '2016':np.nan, '[3]':np.nan, 'Caazapá': np.nan, 'Italy / United States of America': 'Italy', '[clarification needed]': np.nan,\n",
    "                                'Electorate of Cologne' : 'Germany', 'Grampian Television': np.nan, 'Heyfield':'UK', 'Scandinavia':'Sweden', 'Caldillo de congrio':np.nan,\n",
    "                                'England / United States of America': 'England', 'BET':np.nan, 'MTV2':np.nan,'CBeebies':np.nan,'space rock':np.nan,'/ˈtæmərleɪn/':np.nan,\n",
    "                                'Saxony':'UK', 'Corsica':'France', 'NBC':np.nan, 'April 1976':np.nan, 'U.S.[1]': 'USA', 'Disney Channel Latin America':np.nan, 'Gypsy':'Romania',\n",
    "                                'Caribbean':np.nan, '(age\\xa067)':np.nan, 'DR':np.nan, '1994':np.nan, '(MBA)':np.nan, 'Latin':np.nan, 'shrine':np.nan,\n",
    "                                'Ayodhya':np.nan, 'September 1993':np.nan, 'September 1979':np.nan, 'Canal J':np.nan, '(1977)':np.nan, 'Latin':np.nan,\n",
    "                                'E!':np.nan, 'HBO':np.nan, 'Old-Slavic native':np.nan, 'Sky1':np.nan, 'À rebours':np.nan, 'Free State of the Three Leagues':np.nan,\n",
    "                                '/ˈθeɪliːz/':np.nan, 'Fox':np.nan, 'Life of Pi':np.nan, '\\\"ruler of the spear\\\"':np.nan, '(age\\xa037)':np.nan, '2005':np.nan, '(age\\xa042)':np.nan,\n",
    "                                'Venezuela / United States of America' : 'Venezuela', '1986 Königssee':'Germany', 'United States of America / Germany':'USA', 'United Kingdoms':'UK',\n",
    "                                'Texas':'USA', '2012 London':'UK', 'Hebrew':'Israel', '119 AD':np.nan, 'Wollo province Ambassel Region at ‘Egua’':np.nan, 'The Threepenny Opera':np.nan, 'Starz':np.nan,\n",
    "                                'Sudan / France' : 'Sudan', '(age\\xa037)': np.nan, 'Latin America':np.nan, 'Channel 4':np.nan, 'Der Process[1]':np.nan, '(1963)':np.nan,\n",
    "                                'Sebastian Trüg':np.nan, 'La Planète des Singes':np.nan, '\\\"Der Sandmann\\\"':np.nan, 'Missouri':'USA', 'FPR Yugoslavia':'Serbia', '/ˈsɒfəkliːz/':np.nan,\n",
    "                                'Das Glasperlenspiel': 'Germany', 'Norway / United States of America' :'Norway', 'De Principatibus / Il Principe': np.nan,\n",
    "                                'Mediterranean':np.nan, 'De Principatibus / Il Principe':np.nan, 'Bongo Soe':np.nan, 'In office':np.nan, 'Maryland': 'USA',\n",
    "                                'Die Wahlverwandtschaften': np.nan, '3 January 1953':np.nan, 'Bear':np.nan, 'PBS Kids':np.nan, '– February 2014':np.nan,\n",
    "                                'Le Petit Prince':np.nan, 'October 2004':np.nan, 'BBC HD':np.nan,'(age\\xa034)':np.nan, '3 January 1953':np.nan, \n",
    "                                'Netherlands Antilles': 'Netherlands', 'United Kingdom / England': 'UK' }}, inplace=True)\n",
    "\n",
    "# Done separately to avoid conflicts\n",
    "total_events.replace({'origin': {'Brasil': 'Brazil', 'England': 'UK'}}, inplace=True)\n",
    "                              \n",
    "total_events.origin.unique()"
   ]
  },
  {
   "cell_type": "markdown",
   "metadata": {},
   "source": [
    "Fixing a minor issue where genre was set as origin"
   ]
  },
  {
   "cell_type": "code",
   "execution_count": 39,
   "metadata": {
    "collapsed": false
   },
   "outputs": [
    {
     "data": {
      "text/plain": [
       "array([nan, 'Germany', 'USA', 'Italy', 'UK', 'Switzerland', 'Sweden',\n",
       "       'Jamaica', 'France', 'Egypt', 'Canada', 'New Zealand', 'Colombia',\n",
       "       'Finland', 'Mali', 'Australia', 'Belgium', 'Greece', 'Argentina',\n",
       "       'Russia', 'Brazil', 'Iceland', 'South Africa', 'Cuba', 'Benin',\n",
       "       'Senegal', 'Guinea', 'Spain', 'India', 'Poland', 'Netherlands',\n",
       "       'Romania', 'Serbia', 'Hungary', 'Macedonia', 'Malaysia', 'Chile',\n",
       "       'Mexico', 'Belarus', 'Israel', 'Japan', 'Denmark', 'Indonesia',\n",
       "       'Austria', 'Ireland', 'Burkina Faso', 'Tunisia', 'Bahia',\n",
       "       'Scotland', 'Algeria', 'Ivory Coast', 'Niger', 'Norway', 'Croatia',\n",
       "       'Taiwan', 'Portugal', 'Cape Verde', 'Czech Republic', 'Cameroon',\n",
       "       'South Korea', 'Lithuania', 'Nigeria', 'Turkey', 'Lebanon',\n",
       "       'Slovenia', 'Bangladesh', 'Latvia', 'Faroe Islands', 'Estonia',\n",
       "       'Puerto Rico', 'Zaire', 'Peru', 'China', 'Moldova', 'Angola',\n",
       "       'Philippines', 'Morocco', 'Ukraine', 'Andorra', 'Venezuela',\n",
       "       'Slovakia', 'Thailand', 'Albania', 'Somalia', 'Bulgaria',\n",
       "       'Costa Rica', 'Palestine', ' Canada', 'Trinidad and Tobago',\n",
       "       'Montenegro', 'Ethiopia', 'Georgia', 'Ghana',\n",
       "       'Bosnia and Herzegovina', 'Uruguay', 'Dominican Republic',\n",
       "       'Armenia', 'Congo', 'Malta', 'Luxembourg', 'Bolivia', 'Rwanda',\n",
       "       'Guadeloupe', 'United Arab Emirates', 'San Marino', 'Singapore',\n",
       "       'Ecuador', 'Iran', 'Zimbabwe', 'Kosovo', 'Martinique', 'Nepal',\n",
       "       'Liechtenstein', 'Kenya', 'Vietnam', 'Belize', 'Paraguay',\n",
       "       'Honduras', 'Maldives', 'Afghanistan', 'Malawi', 'Jordan',\n",
       "       'Azerbaijan', 'Guyana', 'Cyprus', 'Haiti', 'Kazakhstan', 'Uganda',\n",
       "       'Danemark', 'Mongolia', 'Gambia', 'Panama', 'Sudan', 'Syria',\n",
       "       'Fiji', 'Greenland', 'Australia / Germany', 'Pakistan', 'Mauritania'], dtype=object)"
      ]
     },
     "execution_count": 39,
     "metadata": {},
     "output_type": "execute_result"
    }
   ],
   "source": [
    "for index, origin in zip(total_events.index, total_events.origin):\n",
    "    if origin == 'Rock, Indie, Punk, Heavy Metal, Gothic':\n",
    "        total_events.set_value(index, 'genre', origin)\n",
    "    if origin == 'Hip Hop, R\\'n\\'B':\n",
    "        total_events.set_value(index, 'genre', origin)\n",
    "    if origin == 'Jazz, Blues, Soul':\n",
    "        total_events.set_value(index, 'genre', origin)\n",
    "    if origin == 'Ragga, Reggae, African Music, Dancehall':\n",
    "        total_events.set_value(index, 'genre', origin)        \n",
    "    if origin == 'Electronic':\n",
    "        total_events.set_value(index, 'genre', origin)        \n",
    "    if origin == 'Pop':\n",
    "        total_events.set_value(index, 'genre', origin)          \n",
    "        \n",
    "total_events.replace({'origin': {'Rock, Indie, Punk, Heavy Metal, Gothic': np.nan, 'Hip Hop, R\\'n\\'B':np.nan, 'Jazz, Blues, Soul':np.nan,\n",
    "                                  'Ragga, Reggae, African Music, Dancehall':np.nan, 'Electronic' : np.nan, 'Pop':np.nan}}, inplace=True)\n",
    "total_events.origin.unique()"
   ]
  },
  {
   "cell_type": "markdown",
   "metadata": {},
   "source": [
    "#### Genre cleaning\n",
    "We proceed the same way to get artists genre down to the simple yet most complex achievable categorization, given the simplest of our sources"
   ]
  },
  {
   "cell_type": "code",
   "execution_count": 40,
   "metadata": {
    "collapsed": false
   },
   "outputs": [
    {
     "data": {
      "text/plain": [
       "array(['Electro', nan, 'Rock', 'Pop', 'Reggae/Ska', 'Jazz/Blues', 'Folk',\n",
       "       'Rap/Hip Hop', 'Other', 'Classical'], dtype=object)"
      ]
     },
     "execution_count": 40,
     "metadata": {},
     "output_type": "execute_result"
    }
   ],
   "source": [
    "total_events.replace({'genre': {'Hip Hop, R\\'n\\'B' :'Rap/Hip Hop',\n",
    "                                'Classic' : 'Classical',\n",
    "                               \"Hip Hop, R\\'n\\'B\"  :'Rap/Hip Hop', 'Ragga, Reggae, African Music, Dancehall' : 'Reggae/Ska',\n",
    "                               'Jazz, Blues, Soul': 'Jazz/Blues', 'Rock, Indie, Punk, Heavy Metal, Gothic': 'Rock',\n",
    "                               'Electronic' : 'Electro',  'Comedy/Spoken Word' : 'Other',\n",
    "                               'Alternative/Indie' : 'Rock', 'Electronica/Dance' : 'Electro', \n",
    "                               'pixie' : 'Electro', 'electronica/dance' : 'Electro', 'alternative/indie' : 'Rock',\n",
    "                               'folk' : 'Folk', 'World' : 'Folk', 'Soul/R&B' : 'Jazz/Blues',\n",
    "                                \"Children's\" : 'Other', 'christian/gospel' : 'Devotional', 'Christian/Gospel' : 'Devotional',\n",
    "                               'Classical/Opera': 'Classical', 'Metalcore': 'Rock', 'Hip hop':'Rap/Hip Hop', 'lithumania':'Other',\n",
    "                                'Instrumental' : 'Jazz', 'New Age' : 'Devotional', 'big room' : 'Electro', 'Vocals':'Jazz', 'groove room':'Electro',\n",
    "                                'discofox' : 'Electro', 'Seasonal':'Other', 'deep big room' : 'Electro', 'beatdown' : 'Electro', 'commons' : 'Other',\n",
    "                                'c64': 'Other', 'Progressive rock': 'Rock', 'tracestep' : 'Electro', 'Rock Metal' : 'Rock', 'comedy' : 'Other',\n",
    "                               'Noise rock': 'Rock', 'Tribute act' : 'Rock', 'reggae/ska' :'Reggae/Ska', 'coupe decale' :'Other',\n",
    "                               'voidgaze' : 'Electro', 'Soundtracks' : 'Other', 'Industrial' : 'Electro', 'kabarett' : 'Other', 'bmore' : 'Other',\n",
    "                               'Americana' : 'Country', 'stomp and whittle' : 'Other', 'Electro house' : 'Electro', 'ukulele' : 'Folk',\n",
    "                               'oshare kei' : 'Other', 'mashup' : 'Electro', 'lo star' : 'Electro', 'EMI Music' : 'Electro', 'catstep' : 'Electro', 'fake' : 'Other',\n",
    "                                'classical/opera': 'Classical', 'Experimental' : 'Electro', 'consort' : 'Other', 'Operatic pop' : 'Pop',\n",
    "                               'demoscene' : 'Other', 'soul/r&b' : 'Jazz/Blues', 'Electronica' : 'Electro', 'Ethio-jazz': 'Jazz/Blues', 'Chali 2na' : 'Other',\n",
    "                                  'mandible' : 'Other', 'comic':'Other', 'Concord Jazz' : 'Jazz/Blues', 'Kel tamashek':'Other',\n",
    "                               'synthwave' : 'Electro', 'Indie pop' : 'Pop', 'vapor twitch' : 'Electro', 'Art rock' : 'Rock', 'neo mellow':'Other',\n",
    "                               \"children's\" :'Other', 'Hard rock' : 'Rock', 'Rapcore' : 'Rap/Hip Hop', 'bassline' : 'Electro', 'Post-hardcore' : 'Rock',\n",
    "                              'moombahton' :'Other', 'Technical death metal': 'Rock', 'www.willeandthebandits.com' :'Other',\n",
    "                                'necrogrind': 'Rock', 'Indie rock': 'Rock', 'pop' : 'Pop', 'Heavy metal': 'Rock', 'karneval':'Other',\n",
    "                                'Avant-Garde' : 'Electro', 'Son' :'Other', 'Rap' : 'Rap/Hip Hop', 'Alternative rock' : 'Rock',\n",
    "                                'scratch' : 'Electro', 'Folk metal' : 'Rock', 'healing' : 'Devotional', 'mpb':'Other', 'jam band':'Other', 'zapstep' : 'Electro',\n",
    "                                'Dance-punk' : 'Electro', 'kizomba' : 'Pop', 'Hardcore punk': 'Rock', 'Garage rock': 'Rock',\n",
    "                                'Lounge music' : 'Electro', 'World Tropical' : 'Folk', 'African hip hop' : 'Rap/Hip Hop', 'jump up' :'Other',\n",
    "                                'Punk rock': 'Rock', 'Cast Recordings/Cabaret' :'Other', 'Genres' :'Other',\n",
    "                                'Psychedelic folk' : 'Folk', 'cellist': 'Classical', 'Drone metal': 'Rock', 'Melodic death metal': 'Rock',\n",
    "                                'hauntology' : 'Electro', 'mod revival' :'Other', 'Alternative hip hop' : 'Rap/Hip Hop', 'blaskapelle':'Other',\n",
    "                                'Post-punk': 'Rock', 'sega' : 'Electro', 'electroacoustic improvisation' : 'Jazz/Blues', 'House' : 'Electro',\n",
    "                                'comedy/spoken word':'Other', 'classical music': 'Classical', 'azontobeats' : 'Electro',\n",
    "                                'instrumental': 'Jazz/Blues', 'christelijk' :'Other', 'austropop' : 'Pop', 'Alternative metal': 'Rock',\n",
    "                                'musical theatre':'Other', 'grime':'Other', 'Disco' : 'Electro', 'Psychedelic rock': 'Rock',\n",
    "                                'Thrash metal': 'Rock', 'pipe band' : 'Folk', 'Celtic punk': 'Rock', 'timba' : 'Folk', 'arabesk' : 'Folk',\n",
    "                                'hatecore' : 'Rock', 'liedermacher' : 'Classical', 'Alt-country' : 'Country', 'hoerspiel' :'Other',\n",
    "                                'dark cabaret':'Other', 'Funk' : 'Jazz/Blues', 'axe':'Other', 'neue deutsche welle':'Other', 'Film scores':'Classical',\n",
    "                                'adult standards':'Other', 'Trip hop':'Rap/Hip Hop', 'Rumpelstilz':'Other', 'deep full on':'Other',\n",
    "                                'Galant music':'Other', 'kuduro':'Folk', 'full on':'Other', 'Electropop': 'Pop', 'cabaret':'Other',\n",
    "                                'World Hindustani':'Folk', 'contemporary post-bop':'Jazz/Blues', 'alt-pop':'Pop',\n",
    "                                'Indie music': 'Rock', 'europop':'Pop', 'patriciakopatchinskaja.com':'Other',\n",
    "                                'Shock rock': 'Rock', 'New Weird America':'Country', 'Death metal': 'Rock', 'French hip hop' : 'Rap/Hip Hop',\n",
    "                                'http://www.cillianvallely.com':'Other', 'http://www.bricecatherin.org':'Other',\n",
    "                                'folk rock': 'Rock', 'Desert rock': 'Rock', 'new jack smooth':'Other', 'Irish folk' : 'Folk',\n",
    "                                'Singer-songwriter' : 'Folk', 'escape room':'Other', 'accordion' : 'Folk', 'Reggae' : 'Ska/Reggae',\n",
    "                                'deep freestyle' : 'Electro', 'Glam rock': 'Rock', 'Psychobilly': 'Rock', 'ectofolk' : 'Pop',\n",
    "                                'modern downshift' : 'Electro', 'Electric Light Orchestra' : 'Electro', 'chamame' :'Other',\n",
    "                                'big band' : 'Classical', 'Southern rock': 'Rock', 'new tribe' : 'Electro', 'neo honky tonk':'Other', 'Indie': 'Rock',\n",
    "                                'soundtracks':'Other', 'louvor':'Other', 'Neo soul' : 'Jazz/Blues', 'aussietronica' : 'Electro', 'austindie': 'Rock',\n",
    "                                'Mundart':'Other', 'fluxwork':'Other', 'Electric blues' : 'Jazz/Blues', 'Afrobeat' : 'Pop', 'bolero':'Folk',\n",
    "                                'http://www.saez.mu':'Other', 'acousmatic':'Electro', 'Electronic rock': 'Rock', 'Ranchera':'Country',\n",
    "                                'Symphonic black metal': 'Rock', 'Folk rock': 'Rock', 'kindermusik':'Other',\n",
    "                                'Ethiopian music' : 'Folk', 'reading':'Other', 'motown':'Other', 'Neo-progressive rock': 'Rock',\n",
    "                                'seasonal':'Other', 'breakbeat' : 'Electro', 'neurofunk' : 'Jazz/Blues', 'Eurodance' : 'Electro', 'deep liquid' : 'Electro',\n",
    "                                'Latin pop' : 'Latin', 'Indie folk' : 'Folk', 'French house' : 'Electro',\n",
    "                                'progressive post-hardcore' : 'Rock', 'vocaloid':'Other', 'Rhythm and blues' : 'Jazz/Blues',\n",
    "                                'fallen angel':'Other', 'New wave' : 'Electro', 'schranz':'Other', 'footwork':'Other', 'crunk':'Other',\n",
    "                                'Detroit techno' : 'Electro', 'gabba':'Other', 'house' : 'Electro', 'ambeat' : 'Electro', 'Dubstep' : 'Electro',\n",
    "                                'sampler' : 'Electro', 'wonky':'Other' }}, inplace=True)\n",
    "\n",
    "# Done separately to avoid conflicts\n",
    "total_events.replace({'genre': {'Jazz' : 'Jazz/Blues', 'Blues':'Jazz/Blues', 'Ska/Reggae':'Reggae/Ska' }}, inplace=True)\n",
    "total_events.replace({'genre': {'Country' : 'Folk', 'Devotional':'Folk', 'Latin':'Folk' }}, inplace=True)\n",
    "\n",
    "total_events.genre.unique()"
   ]
  },
  {
   "cell_type": "markdown",
   "metadata": {},
   "source": [
    "### Exporting the whole updated events dataset\n",
    "If we need insight on artist data later on, it will be easy to extract from the event dataset."
   ]
  },
  {
   "cell_type": "code",
   "execution_count": null,
   "metadata": {
    "collapsed": true
   },
   "outputs": [],
   "source": [
    "#Write the DataFrame to a csv file\n",
    "filename = 'Events/total_events_preprocessed.csv'\n",
    "pd.DataFrame(total_events, columns=list(total_events.columns)).to_csv(filename, index=False, encoding=\"utf-8\")\n",
    "print('Total events data saved to file')"
   ]
  }
 ],
 "metadata": {
  "anaconda-cloud": {},
  "kernelspec": {
   "display_name": "Python [conda root]",
   "language": "python",
   "name": "conda-root-py"
  },
  "language_info": {
   "codemirror_mode": {
    "name": "ipython",
    "version": 3
   },
   "file_extension": ".py",
   "mimetype": "text/x-python",
   "name": "python",
   "nbconvert_exporter": "python",
   "pygments_lexer": "ipython3",
   "version": "3.5.2"
  }
 },
 "nbformat": 4,
 "nbformat_minor": 2
}
