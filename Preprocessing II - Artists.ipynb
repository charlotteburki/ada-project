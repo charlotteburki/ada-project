{
 "cells": [
  {
   "cell_type": "markdown",
   "metadata": {},
   "source": [
    "# Preprocessing Artist data\n",
    "In this notebook, second step on our preprocessing pipeline, we'll extract artists from our events dataset, and then try to fill missing values of either musical genre or country of origin, with the help of other web platforms. Obviously we may not succeed in obtaining 100% of it, but the more the better.\n",
    "\n",
    "- MusicGraph\n",
    "- Spotify\n",
    "- Wikipedia"
   ]
  },
  {
   "cell_type": "code",
   "execution_count": 1,
   "metadata": {
    "collapsed": true
   },
   "outputs": [],
   "source": [
    "import pandas as pd\n",
    "import os\n",
    "import glob\n",
    "import urllib\n",
    "import requests\n",
    "import time\n",
    "import json\n",
    "from pandas.io.json import json_normalize\n",
    "from IPython.display import clear_output\n",
    "import numpy as np\n",
    "import bandsInTownHelper as bandsInTownHelper\n",
    "\n",
    "import pycountry\n",
    "import country_demonyms"
   ]
  },
  {
   "cell_type": "markdown",
   "metadata": {},
   "source": [
    "## Genres and origins\n",
    "\n",
    "Divide the data we have after calling the MusicGraph API into two subsets : one which has value filled in nicely (~35%) which  we'll call clean, another one with 'assumed' correct artist names but missing genre and origin information, and a third where information is missing, and rows may contain more than one artist in their name. The last subset may require extra handling care with regard to the events frame.\n",
    "BIG PART of exploratory data analysis"
   ]
  },
  {
   "cell_type": "code",
   "execution_count": 6,
   "metadata": {
    "collapsed": false
   },
   "outputs": [
    {
     "name": "stdout",
     "output_type": "stream",
     "text": [
      "Number of entries in the total_musicgraph set 62000\n",
      "Number of entries in the total_eventsch set 16057\n"
     ]
    }
   ],
   "source": [
    "# Get total artists set after attempting to update genres and origins through MusicGraph API\n",
    "total_musicgraph = pd.read_csv(os.path.join('./total_artists_MusicGraph.csv'))\n",
    "\n",
    "\n",
    "# Get genre data acquired from Spotify, discard rows for which nothing was found\n",
    "total_spotify    = pd.read_csv(os.path.join('./total_artists_Spotify.csv'))\n",
    "total_spotify    = total_spotify.loc[pd.isnull(total_spotify['genre']) == False]\n",
    "\n",
    "# Get original Events.ch set to delete duplicates in the total_musicgraph set\n",
    "# and the specific artists set from Events.ch\n",
    "total_eventsch_artist_del = pd.read_csv(os.path.join('./total_eventsch.csv'))\n",
    "total_eventsch_artists = pd.read_csv(os.path.join('./total_eventsch_artists.csv'))\n",
    "\n",
    "print('Number of entries in the total_musicgraph set', total_musicgraph.index.size)\n",
    "print('Number of entries in the total_eventsch set', total_eventsch_artists.index.size)"
   ]
  },
  {
   "cell_type": "markdown",
   "metadata": {},
   "source": [
    "### Events.ch"
   ]
  },
  {
   "cell_type": "code",
   "execution_count": 7,
   "metadata": {
    "collapsed": false
   },
   "outputs": [
    {
     "name": "stdout",
     "output_type": "stream",
     "text": [
      "Number of entries in the total_musicgraph set after deleting duplicates from Events.ch artists 47457\n"
     ]
    }
   ],
   "source": [
    "# In the following, we will set the Artist names as index for simplicity\n",
    "# Prepare deletion of duplicates\n",
    "total_eventsch_artist_del.drop(['Date'], 1, inplace=True)\n",
    "total_eventsch_artist_del.drop(['Genre'], 1, inplace=True)\n",
    "total_eventsch_artist_del.drop(['Venue'], 1, inplace=True)\n",
    "total_eventsch_artist_del.drop(['City'], 1, inplace=True)\n",
    "total_eventsch_artist_del.drop_duplicates(['Artist'], inplace=True)\n",
    "total_eventsch_artist_del.set_index('Artist', drop=True, append=False, inplace=True)\n",
    "del total_eventsch_artist_del.index.name\n",
    "\n",
    "# Set artist name as index for total_musicgraph set\n",
    "total_musicgraph.set_index('name', drop=True, append=False, inplace=True)\n",
    "del total_musicgraph.index.name\n",
    "\n",
    "# Drop duplicates\n",
    "for index in total_eventsch_artist_del.index :\n",
    "        if index in total_musicgraph.index:\n",
    "            total_musicgraph.drop(index, inplace=True)\n",
    "\n",
    "# Set artist name as index for the total_eventsch_artists set\n",
    "total_eventsch_artists.set_index('name', drop=True, append=False, inplace=True)\n",
    "del total_eventsch_artists.index.name\n",
    "\n",
    "print('Number of entries in the total_musicgraph set after deleting duplicates from Events.ch artists', total_musicgraph.index.size)"
   ]
  },
  {
   "cell_type": "code",
   "execution_count": 11,
   "metadata": {
    "collapsed": false
   },
   "outputs": [
    {
     "name": "stdout",
     "output_type": "stream",
     "text": [
      "Missing genres  : 29769\n",
      "Missing origins : 48949\n"
     ]
    }
   ],
   "source": [
    "print('Missing genres  :',(pd.isnull(total_musicgraph.genre).sum())+(pd.isnull(total_eventsch_artists.genre).sum()))\n",
    "print('Missing origins :',(pd.isnull(total_musicgraph.origin).sum())+(pd.isnull(total_eventsch_artists.origin).sum()))"
   ]
  },
  {
   "cell_type": "markdown",
   "metadata": {},
   "source": [
    "#### Filling genres and available origins for artists parsed from Events.ch also present in the total_musicgraph set"
   ]
  },
  {
   "cell_type": "code",
   "execution_count": 12,
   "metadata": {
    "collapsed": false
   },
   "outputs": [
    {
     "name": "stdout",
     "output_type": "stream",
     "text": [
      "genres missing before 29769\n",
      "origins missing before 34056\n",
      "rows in eventsch before 16057\n",
      "genres missing after 29769\n",
      "origins missing after 34056\n",
      "rows in eventsch after 16057\n"
     ]
    }
   ],
   "source": [
    "# We iterate over the artists we parsed from the Events.ch data to see if they also appear\n",
    "# in the rest of the artists set, in which case we can update their genre if needed since\n",
    "# Events.ch has genre for every artist.\n",
    "\n",
    "# Obviously if an artist from events.ch is found in the total_musicgraph set, then we will\n",
    "# update total_musicgraph and remove that artist from total_eventsch as it would become \n",
    "# redundant in the end.\n",
    "\n",
    "print('genres missing before', (pd.isnull(total_musicgraph.genre)).sum())\n",
    "print('origins missing before', (pd.isnull(total_musicgraph.origin)).sum())\n",
    "print('rows in eventsch before', total_eventsch_artists.index.size)\n",
    "i=0\n",
    "for index in total_eventsch_artists.index :\n",
    "    if index in total_musicgraph.index:\n",
    "        if pd.isnull(total_musicgraph.loc[index].genre):\n",
    "            total_musicgraph.set_value(index, 'genre', total_eventsch_artists.loc[index].genre)\n",
    "\n",
    "        if ((pd.isnull(total_eventsch_artists.loc[index].origin) == False) and (pd.isnull(total_musicgraph.loc[index].origin))) :\n",
    "            total_musicgraph.set_value(index, 'origin', total_eventsch_artists.loc[index].origin)\n",
    "                     \n",
    "        total_eventsch_artists.drop(index, inplace=True)    \n",
    "\n",
    "print('genres missing after', (pd.isnull(total_musicgraph.genre)).sum())\n",
    "print('origins missing after', (pd.isnull(total_musicgraph.origin)).sum())\n",
    "print('rows in eventsch after', total_eventsch_artists.index.size)"
   ]
  },
  {
   "cell_type": "code",
   "execution_count": null,
   "metadata": {
    "collapsed": true
   },
   "outputs": [],
   "source": [
    "# Export unique artists from Events.ch for further processing with the music intelligence platforms\n",
    "total_eventsch_artists.index.name = 'name'\n",
    "total_eventsch_artists.reset_index()\n",
    "#Write the DataFrame to a csv file\n",
    "filename = 'total_eventsch_artists.csv'\n",
    "pd.DataFrame(total_eventsch_artists, columns=list(total_eventsch_artists.columns)).to_csv(filename, index=True, encoding=\"utf-8\")\n",
    "print('Total events data saved to file')"
   ]
  },
  {
   "cell_type": "markdown",
   "metadata": {},
   "source": [
    "### Rest of the artists set"
   ]
  },
  {
   "cell_type": "code",
   "execution_count": 13,
   "metadata": {
    "collapsed": true
   },
   "outputs": [],
   "source": [
    "# Separate missing rows from filled ones\n",
    "musicgraph_missing = total_musicgraph.loc[(pd.isnull(total_musicgraph.genre) | pd.isnull(total_musicgraph.origin))]"
   ]
  },
  {
   "cell_type": "markdown",
   "metadata": {},
   "source": [
    "#### Using Spotify\n",
    "First, we will try to fill in the missing genre values with data acquired from Spotify. To do so, we first have to clean Spotify data, which gives us very specific genres instead of global names such as MusicGenre. Because the complexity of our classification is bound by the simpler model, we have to drop the specificity of Spotify. Some origin information may also be included in the specific genres, which we should look for carefully before simplifying them."
   ]
  },
  {
   "cell_type": "code",
   "execution_count": 14,
   "metadata": {
    "collapsed": false
   },
   "outputs": [
    {
     "data": {
      "text/html": [
       "<div>\n",
       "<table border=\"1\" class=\"dataframe\">\n",
       "  <thead>\n",
       "    <tr style=\"text-align: right;\">\n",
       "      <th></th>\n",
       "      <th>ambigous_result</th>\n",
       "      <th>genre</th>\n",
       "      <th>no_result</th>\n",
       "      <th>origin</th>\n",
       "    </tr>\n",
       "  </thead>\n",
       "  <tbody>\n",
       "    <tr>\n",
       "      <th>Jeff Mills</th>\n",
       "      <td>0</td>\n",
       "      <td>acid house</td>\n",
       "      <td>0</td>\n",
       "      <td>NaN</td>\n",
       "    </tr>\n",
       "    <tr>\n",
       "      <th>Paul Van Dyk</th>\n",
       "      <td>0</td>\n",
       "      <td>disco house</td>\n",
       "      <td>0</td>\n",
       "      <td>NaN</td>\n",
       "    </tr>\n",
       "    <tr>\n",
       "      <th>DJ Hell</th>\n",
       "      <td>0</td>\n",
       "      <td>electroclash</td>\n",
       "      <td>0</td>\n",
       "      <td>NaN</td>\n",
       "    </tr>\n",
       "    <tr>\n",
       "      <th>Willow</th>\n",
       "      <td>0</td>\n",
       "      <td>float house</td>\n",
       "      <td>0</td>\n",
       "      <td>NaN</td>\n",
       "    </tr>\n",
       "    <tr>\n",
       "      <th>Patrick Zigon</th>\n",
       "      <td>0</td>\n",
       "      <td>german techno</td>\n",
       "      <td>0</td>\n",
       "      <td>NaN</td>\n",
       "    </tr>\n",
       "    <tr>\n",
       "      <th>Taucher</th>\n",
       "      <td>0</td>\n",
       "      <td>bubble trance</td>\n",
       "      <td>0</td>\n",
       "      <td>NaN</td>\n",
       "    </tr>\n",
       "    <tr>\n",
       "      <th>Mando Diao</th>\n",
       "      <td>0</td>\n",
       "      <td>garage rock</td>\n",
       "      <td>0</td>\n",
       "      <td>NaN</td>\n",
       "    </tr>\n",
       "    <tr>\n",
       "      <th>Foo Fighters</th>\n",
       "      <td>0</td>\n",
       "      <td>alternative metal</td>\n",
       "      <td>0</td>\n",
       "      <td>NaN</td>\n",
       "    </tr>\n",
       "    <tr>\n",
       "      <th>Agnès</th>\n",
       "      <td>0</td>\n",
       "      <td>minimal tech house</td>\n",
       "      <td>0</td>\n",
       "      <td>NaN</td>\n",
       "    </tr>\n",
       "    <tr>\n",
       "      <th>Mirko Loko</th>\n",
       "      <td>0</td>\n",
       "      <td>minimal tech house</td>\n",
       "      <td>0</td>\n",
       "      <td>NaN</td>\n",
       "    </tr>\n",
       "  </tbody>\n",
       "</table>\n",
       "</div>"
      ],
      "text/plain": [
       "               ambigous_result               genre  no_result  origin\n",
       "Jeff Mills                   0          acid house          0     NaN\n",
       "Paul Van Dyk                 0         disco house          0     NaN\n",
       "DJ Hell                      0        electroclash          0     NaN\n",
       "Willow                       0         float house          0     NaN\n",
       "Patrick Zigon                0       german techno          0     NaN\n",
       "Taucher                      0       bubble trance          0     NaN\n",
       "Mando Diao                   0         garage rock          0     NaN\n",
       "Foo Fighters                 0   alternative metal          0     NaN\n",
       "Agnès                        0  minimal tech house          0     NaN\n",
       "Mirko Loko                   0  minimal tech house          0     NaN"
      ]
     },
     "execution_count": 14,
     "metadata": {},
     "output_type": "execute_result"
    }
   ],
   "source": [
    "total_spotify.set_index('name', drop=True, append=False, inplace=True)\n",
    "del total_spotify.index.name\n",
    "total_spotify.head(10)"
   ]
  },
  {
   "cell_type": "code",
   "execution_count": 15,
   "metadata": {
    "collapsed": true
   },
   "outputs": [],
   "source": [
    "#Create a dict of Country adjective to Country name\n",
    "country_dict = {}\n",
    "for key, value in country_demonyms.COUNTRY_DEMONYMS.items():\n",
    "    country_dict[value.lower()] = key.lower().title()\n",
    "\n",
    "country_name = []\n",
    "country_alpha2 = []\n",
    "country_alpha3 = []\n",
    "for country in list(pycountry.countries) :\n",
    "    if ' ' not in country.name :\n",
    "        country_name.append(country.name)\n",
    "    country_alpha2.append(country.alpha_2)\n",
    "    country_alpha3.append(country.alpha_3)\n",
    "country_alpha2.remove('DJ')\n",
    "country_alpha2.remove('MC') \n",
    "\n",
    "# Add specific words grabbed through exploratory analysis\n",
    "country_dict['persian'] = 'Iran'\n",
    "country_dict['breton'] = 'France'\n",
    "country_dict['argentine'] = 'Argentina'\n",
    "country_dict['fado'] = 'Portugal'\n",
    "country_dict['quebecois'] = 'Canada'\n",
    "country_dict['americana'] = 'United States'\n",
    "country_dict['j-ambient'] = 'Japan'\n",
    "country_dict['k-pop'] = 'Korea'\n",
    "country_dict['uk'] = 'United Kingdom'\n",
    "country_dict['k-indie'] = 'Korea'\n",
    "country_dict['j-reggae'] = 'Japan'\n",
    "country_dict['j-metal'] = 'Japan'\n",
    "country_dict['j-core'] = 'Japan'\n",
    "country_dict['j-punk'] = 'Japan'\n",
    "country_dict['sertanejo'] = 'Brasil'\n",
    "country_dict['japanoise'] = 'Japan'\n",
    "country_dict['magyar'] = 'Hungary'\n",
    "country_dict['j-rock'] = 'Japan'\n",
    "country_dict['francais'] = 'France'\n",
    "country_dict['chalga'] = 'Bulgaria'\n",
    "country_dict['napoletana'] = 'Italy'\n",
    "country_dict['bhangra'] = 'India'\n",
    "country_dict['carnatic'] = 'India'\n",
    "country_dict['forro'] = 'Brasil'\n",
    "country_dict['entehno'] = 'Greece'\n",
    "country_dict['bay'] = 'United States'\n",
    "country_dict['schlager'] = 'Germany'\n",
    "country_dict['coast'] = 'United States'\n",
    "country_dict['j-dance'] = 'Japan'\n",
    "country_dict['k-hop'] = 'Korea'\n",
    "country_dict['francoton'] = 'France'\n",
    "country_dict['corsican'] = 'France'\n",
    "country_dict['british'] = 'United Kingdom'\n",
    "country_dict['c-pop'] = 'China'\n",
    "country_dict['schweizer'] = 'Switzerland'"
   ]
  },
  {
   "cell_type": "code",
   "execution_count": 16,
   "metadata": {
    "collapsed": false
   },
   "outputs": [
    {
     "name": "stdout",
     "output_type": "stream",
     "text": [
      "Total number of genres from Spotify : 837\n",
      "Total helpful lines from Spotify with genre : 3754\n"
     ]
    }
   ],
   "source": [
    "total_spotify = total_spotify.select(lambda x: x in musicgraph_missing.index)\n",
    "print('Total number of genres from Spotify :', total_spotify.genre.unique().size)\n",
    "print('Total helpful lines from Spotify with genre :', total_spotify.index.size)"
   ]
  },
  {
   "cell_type": "markdown",
   "metadata": {},
   "source": [
    "#### Parsing and updating origin information\n",
    "We get roughly 400 origins more"
   ]
  },
  {
   "cell_type": "code",
   "execution_count": 17,
   "metadata": {
    "collapsed": false
   },
   "outputs": [
    {
     "name": "stdout",
     "output_type": "stream",
     "text": [
      "origins missing before 34056\n",
      "origins missing after 33680\n"
     ]
    }
   ],
   "source": [
    "print('origins missing before', (pd.isnull(musicgraph_missing.origin)).sum())\n",
    "\n",
    "for index, genre in zip(total_spotify.index, total_spotify.genre) :\n",
    "    for word in genre.split() :\n",
    "        if word in country_dict :\n",
    "            if index in musicgraph_missing.index :\n",
    "                musicgraph_missing.set_value(index, 'origin', country_dict[word])\n",
    "\n",
    "print('origins missing after', (pd.isnull(musicgraph_missing.origin)).sum())"
   ]
  },
  {
   "cell_type": "markdown",
   "metadata": {},
   "source": [
    "#### Simplifying genres\n",
    "We identified a set of words from exploratory analysis to accelerate the process of replacement."
   ]
  },
  {
   "cell_type": "code",
   "execution_count": 18,
   "metadata": {
    "collapsed": true
   },
   "outputs": [],
   "source": [
    "genre_dict = {}\n",
    "\n",
    "Electronica = ['house','aggrotech','danspunk', 'brostep', 'abstract', 'chillwave','drone', 'chill', 'beats', 'experimental','electropunk',  'turbo', 'balearic','dance-punk', 'ebm','edm', 'j-dance', 'chillstep','darkpsy', 'darkstep', 'chalga', 'japanoise', 'lounge', 'psytrance', 'tekno','indietronica', 'electronica',  'techno','disco', 'j-ambient',   'noise', 'bass', 'electroclash', 'wave', 'trance', 'ambient', 'dancehall', 'beat', 'dance', 'dub', 'electro', 'eurodance', 'dubstep', 'electronic', 'psych', 'industrial', 'microhouse', 'electrofox', ]\n",
    "for key in Electronica:\n",
    "    genre_dict[key] = 'Electronica/Dance'\n",
    "Rock = ['rock','rock-and-roll','neo-progressive','tribute','post-screamo', 'hardstyle', 'speedcore', 'neo-psychedelic', 'ostrock','neo-rockabilly', 'britpop', 'j-punk','grunge','breakcore', 'goregrind','orgcore','j-rock', 'alternative', 'j-core', 'j-metal', 'k-indie', 'screamocore', 'grindcore', 'nerdcore',  'doomcore', 'sludge',   'core','deathcore',  'gamecore', 'metalcore','post-punk', 'garage','thrash','post-metal', 'psychobilly', 'edge', 'mathcore',  'punk', 'emo', 'indie', 'metal', 'hardcore',  'djent', 'doom', 'glam', 'oi', 'nwobhm']\n",
    "for key in Rock:\n",
    "    genre_dict[key] = 'Rock'\n",
    "Pop = ['pop','popgaze', 'idol','etherpop','anti-folk',  'chanson','c-pop', 'k-pop', 'europop', 'neo-synthpop', 'synthpop', 'folk-pop', 'freak', 'eurovision', 'futurepop']\n",
    "for key in Pop:\n",
    "    genre_dict[key] = 'Pop'\n",
    "Reggae = ['reggae', 'ska', 'reggaeton', 'euroska','j-reggae' ]\n",
    "for key in Reggae:\n",
    "    genre_dict[key] = 'Reggae/Ska'\n",
    "Jazz = ['jazz', 'bebop', 'ragtime', 'afrobeat']\n",
    "for key in Jazz:\n",
    "    genre_dict[key] = 'Jazz'\n",
    "World = ['rai','accordeon', 'entehno',  'african','schlager','corsican','breton', 'asian', 'british',  'arab','armenian', 'kurdish',  'balkan', 'world', 'napoletana','bhangra', 'polka', 'folkmusik', 'andean', 'panpipe', 'maghreb','magyar',  'fado','traditional', 'quebecois', 'carnatic', 'native', 'klezmer', 'world', 'celtic', 'bangla', 'pagode', 'flamenco', 'throat', 'medieval', 'capoeira']\n",
    "for key in World:\n",
    "    genre_dict[key] = 'World'\n",
    "RB = ['r&b', 'funk', 'funky', 'soul']\n",
    "for key in RB:\n",
    "    genre_dict[key] = 'Soul/R&B'\n",
    "Country = ['bluegrass', 'country', 'barbershop', 'americana', 'bluegrass', 'cajun']\n",
    "for key in Country:\n",
    "    genre_dict[key] = 'Country'\n",
    "Latin = ['forro' ,'nu-cumbia', 'sertanejo', 'salsa','tango','merengue', 'bachata', 'rumba', 'nova', 'latin', 'cumbia']\n",
    "for key in Latin:\n",
    "    genre_dict[key] = 'Latin'\n",
    "Rap = ['hop', 'rap', 'trap', 'k-hop', 'francoton']\n",
    "for key in Rap:\n",
    "    genre_dict[key] = 'Rap/Hip Hop'\n",
    "Blues = ['blues', 'blues-rock', 'swing', 'boogie-woogie']\n",
    "for key in Blues:\n",
    "    genre_dict[key] = 'Blues'\n",
    "Classical = ['cello','cappella',  'concert', 'opera', 'choral', 'clarinet', 'classical', 'violin', 'harpsichord', 'string', 'brass', 'orchestral', 'baroque', 'harp', 'early']\n",
    "for key in Classical:\n",
    "    genre_dict[key] = 'Classical/Opera'\n",
    "Soundtracks = ['movie', 'tunes', 'hollywood', 'soundtrack' ]\n",
    "for key in Soundtracks:\n",
    "    genre_dict[key] = 'Soundtracks'\n",
    "Gospel = ['gospel', 'christian', 'liturgical', 'christmas', 'ccm', 'worship']\n",
    "for key in Gospel:\n",
    "    genre_dict[key] = 'Christian/Gospel'\n",
    "NewAge = ['age', 'kirtan', 'didgeridoo']\n",
    "for key in NewAge:\n",
    "    genre_dict[key] = 'New Age'"
   ]
  },
  {
   "cell_type": "markdown",
   "metadata": {},
   "source": [
    "####  Updating genres"
   ]
  },
  {
   "cell_type": "code",
   "execution_count": 19,
   "metadata": {
    "collapsed": false
   },
   "outputs": [
    {
     "name": "stdout",
     "output_type": "stream",
     "text": [
      "genres missing before 29769\n",
      "genres missing after 28372\n"
     ]
    }
   ],
   "source": [
    "print('genres missing before', (pd.isnull(musicgraph_missing.genre)).sum())\n",
    "    \n",
    "for index, genre in zip(total_spotify.index, total_spotify.genre) :\n",
    "    for word in genre.split() :\n",
    "        if word in genre_dict :\n",
    "            total_spotify.set_value(index, 'genre', genre_dict[word])\n",
    "            if index in musicgraph_missing.index :\n",
    "                musicgraph_missing.set_value(index, 'genre', genre_dict[word])\n",
    "\n",
    "print('genres missing after', (pd.isnull(musicgraph_missing.genre)).sum())"
   ]
  },
  {
   "cell_type": "markdown",
   "metadata": {},
   "source": [
    "#### Updating the total_musicgraph"
   ]
  },
  {
   "cell_type": "code",
   "execution_count": 20,
   "metadata": {
    "collapsed": false
   },
   "outputs": [
    {
     "name": "stdout",
     "output_type": "stream",
     "text": [
      "genres missing before 29769\n",
      "origins missing before 34056\n"
     ]
    },
    {
     "name": "stderr",
     "output_type": "stream",
     "text": [
      "C:\\Users\\Mathieu\\Anaconda3\\lib\\site-packages\\ipykernel\\__main__.py:9: SettingWithCopyWarning: \n",
      "A value is trying to be set on a copy of a slice from a DataFrame\n",
      "\n",
      "See the caveats in the documentation: http://pandas.pydata.org/pandas-docs/stable/indexing.html#indexing-view-versus-copy\n"
     ]
    },
    {
     "name": "stdout",
     "output_type": "stream",
     "text": [
      "genres missing after 28372\n",
      "origins missing after 33680\n"
     ]
    }
   ],
   "source": [
    "print('genres missing before', (pd.isnull(total_musicgraph.genre)).sum())\n",
    "print('origins missing before', (pd.isnull(total_musicgraph.origin)).sum())\n",
    "\n",
    "for index in musicgraph_missing.index :\n",
    "    if  (pd.isnull(musicgraph_missing.loc[index].genre)==False) :\n",
    "        total_musicgraph.set_value(index, 'genre', musicgraph_missing.loc[index].genre)\n",
    "        if (pd.isnull(musicgraph_missing.loc[index].origin)==False) :\n",
    "            total_musicgraph.set_value(index, 'origin', musicgraph_missing.loc[index].origin)\n",
    "            musicgraph_missing.drop(index, inplace=True)\n",
    "    elif (pd.isnull(musicgraph_missing.loc[index].origin)==False) :\n",
    "            total_musicgraph.set_value(index, 'origin', musicgraph_missing.loc[index].origin)   \n",
    "\n",
    "print('genres missing after', (pd.isnull(total_musicgraph.genre)).sum())\n",
    "print('origins missing after', (pd.isnull(total_musicgraph.origin)).sum())"
   ]
  },
  {
   "cell_type": "code",
   "execution_count": null,
   "metadata": {
    "collapsed": true
   },
   "outputs": [],
   "source": []
  }
 ],
 "metadata": {
  "anaconda-cloud": {},
  "kernelspec": {
   "display_name": "Python [conda root]",
   "language": "python",
   "name": "conda-root-py"
  },
  "language_info": {
   "codemirror_mode": {
    "name": "ipython",
    "version": 3
   },
   "file_extension": ".py",
   "mimetype": "text/x-python",
   "name": "python",
   "nbconvert_exporter": "python",
   "pygments_lexer": "ipython3",
   "version": "3.5.2"
  }
 },
 "nbformat": 4,
 "nbformat_minor": 2
}
