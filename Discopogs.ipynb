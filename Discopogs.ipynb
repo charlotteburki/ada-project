{
 "cells": [
  {
   "cell_type": "code",
   "execution_count": 1,
   "metadata": {
    "collapsed": true
   },
   "outputs": [],
   "source": [
    "import discogs_client\n",
    "from difflib import SequenceMatcher\n",
    "import discogsHelper as discogsHelper\n",
    "import time"
   ]
  },
  {
   "cell_type": "code",
   "execution_count": 2,
   "metadata": {
    "collapsed": true
   },
   "outputs": [],
   "source": [
    "d = discogs_client.Client('ExampleApplication/0.1')\n",
    "d = discogs_client.Client('my_user_agent/0.1', user_token='wlbkELOypkJdzgymfLaoAtjLZtSeNMBLPIvsTIeO')"
   ]
  },
  {
   "cell_type": "code",
   "execution_count": 3,
   "metadata": {
    "collapsed": false
   },
   "outputs": [
    {
     "name": "stdout",
     "output_type": "stream",
     "text": [
      "34.15058708190918\n"
     ]
    }
   ],
   "source": [
    "start=time.time()\n",
    "c=discogsHelper.discogs('Eminem',d)\n",
    "e=discogsHelper.discogs('Dj kaboul',d)\n",
    "f=discogsHelper.discogs('Matt Pokora',d)\n",
    "g=discogsHelper.discogs('sal&eme',d)\n",
    "h=discogsHelper.discogs('Prince',d)\n",
    "i=discogsHelper.discogs('The xx',d)\n",
    "j=discogsHelper.discogs('hja',d)\n",
    "k=discogsHelper.discogs('Paleo',d)\n",
    "l=discogsHelper.discogs('77 Bombay Street',d)\n",
    "m=discogsHelper.discogs('Mr oizo',d)\n",
    "\n",
    "\n",
    "\n",
    "\n",
    "end=time.time()\n",
    "print(end-start)"
   ]
  },
  {
   "cell_type": "code",
   "execution_count": 13,
   "metadata": {
    "collapsed": false
   },
   "outputs": [
    {
     "data": {
      "text/plain": [
       "'Electronic'"
      ]
     },
     "execution_count": 13,
     "metadata": {},
     "output_type": "execute_result"
    }
   ],
   "source": [
    "m"
   ]
  },
  {
   "cell_type": "code",
   "execution_count": null,
   "metadata": {
    "collapsed": true
   },
   "outputs": [],
   "source": []
  }
 ],
 "metadata": {
  "anaconda-cloud": {},
  "kernelspec": {
   "display_name": "Python [conda root]",
   "language": "python",
   "name": "conda-root-py"
  },
  "language_info": {
   "codemirror_mode": {
    "name": "ipython",
    "version": 3
   },
   "file_extension": ".py",
   "mimetype": "text/x-python",
   "name": "python",
   "nbconvert_exporter": "python",
   "pygments_lexer": "ipython3",
   "version": "3.5.2"
  }
 },
 "nbformat": 4,
 "nbformat_minor": 1
}
