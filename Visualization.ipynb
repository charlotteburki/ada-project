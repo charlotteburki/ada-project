{
 "cells": [
  {
   "cell_type": "markdown",
   "metadata": {},
   "source": [
    "# Visualization\n",
    "\n",
    "In this notebook we are going to visualize interesting results"
   ]
  },
  {
   "cell_type": "code",
   "execution_count": 8,
   "metadata": {
    "collapsed": true
   },
   "outputs": [],
   "source": [
    "import pandas as pd\n",
    "import bokeh\n",
    "from folium import plugins\n",
    "import folium\n",
    "import numpy as np\n",
    "import math\n",
    "import os\n",
    "#import warnings\n",
    "#warnings.filterwarnings('ignore')"
   ]
  },
  {
   "cell_type": "markdown",
   "metadata": {},
   "source": [
    "# Preprocess"
   ]
  },
  {
   "cell_type": "code",
   "execution_count": 9,
   "metadata": {
    "collapsed": false
   },
   "outputs": [],
   "source": [
    "def createHeatMap(df_array):\n",
    "    lats = []\n",
    "    lons = []\n",
    "    for df in df_array:\n",
    "        lats.append(df['Latitude'].values)\n",
    "        lons.append(df['Longitude'].values)\n",
    "    \n",
    "    ## HeatMap\n",
    "    heatmap = folium.Map(location=[np.mean(lats), np.mean(lons)], zoom_start=8, tiles = 'cartodbdark_matter',\n",
    "               min_zoom=8,min_lat=45,max_lat=48,min_lon=5,max_lon=11)\n",
    "    \n",
    "    return heatmap\n",
    "\n",
    "def createHeatMapLayer(df_array, name_array, heatmap):\n",
    "    for df,name in zip(df_array, name_array):\n",
    "        lats = df['Latitude'].values\n",
    "        lons = df['Longitude'].values\n",
    "\n",
    "        heatmapLayer1 = plugins.HeatMap(zip(lats, lons), radius = 10,min_opacity=0.7,blur=15)\n",
    "        heatmap.add_children(heatmapLayer1)\n",
    "\n",
    "        heatmapLayer1.layer_name = name\n",
    "    \n",
    "    folium.LayerControl().add_to(heatmap)\n",
    "    \n",
    "    return heatmap\n",
    "    \n",
    "def createDetailedMap(df_array):\n",
    "    lats = []\n",
    "    lons = []\n",
    "    for df in df_array:\n",
    "        lats.append(df['Latitude'].values)\n",
    "        lons.append(df['Longitude'].values)\n",
    "        \n",
    "    ## DetailedMap\n",
    "    map_detailed = folium.Map(location=[np.mean(lats), np.mean(lons)], zoom_start=8, tiles = 'cartodbdark_matter',\n",
    "               min_zoom=8,min_lat=45,max_lat=48,min_lon=5,max_lon=11)\n",
    "\n",
    "    return map_detailed\n",
    "    \n",
    "def createDetailedMapLayer(df_array, name_array, map_detailed):\n",
    "    \n",
    "    for df,name in zip(df_array, name_array):\n",
    "        df_grouped = df.groupby(['Venue'])\n",
    "        aggregation = {'Latitude':'mean',\n",
    "                   'Longitude':'mean',\n",
    "                   'Artist':'count'\n",
    "                  }\n",
    "        df_p = df_grouped.agg(aggregation)\n",
    "        popups, locations = [], []\n",
    "\n",
    "\n",
    "        marker_clusterLayer = folium.MarkerCluster()\n",
    "        marker_clusterLayer.layer_name = name\n",
    "        \n",
    "        map_detailed.add_children(marker_clusterLayer)\n",
    "        #marker_clusterLayer.add_to(map_detailed)\n",
    "        #Marker creation\n",
    "        for i in range(len(df_p)):\n",
    "            popuptext = df_p.ix[i].name+' - '+str(math.floor(df_p.ix[i].Artist))+' artists'\n",
    "            folium.CircleMarker(location=[df_p.ix[i].Latitude, df_p.ix[i].Longitude], \n",
    "                                radius=10,\n",
    "                            popup=popuptext, color='#3186cc',\n",
    "                            fill_color='#3186cc').add_to(marker_clusterLayer)\n",
    "    \n",
    "    folium.LayerControl().add_to(map_detailed)\n",
    "\n",
    "    return map_detailed\n"
   ]
  },
  {
   "cell_type": "code",
   "execution_count": null,
   "metadata": {
    "collapsed": false
   },
   "outputs": [
    {
     "name": "stdout",
     "output_type": "stream",
     "text": [
      "There are  602  missing venues coordinates in the dataset, which represent  0.294 % of the total\n"
     ]
    }
   ],
   "source": [
    "total_events = pd.read_csv(os.path.join('./FinalResults/total_eventsFinal.csv'))\n",
    "missing_coord = sum(pd.isnull(total_events['Latitude']))\n",
    "missing_coord_percentage = round(100*missing_coord/len(total_events),3)\n",
    "print('There are ',missing_coord, ' missing venues coordinates in the dataset, which represent ',\n",
    "      missing_coord_percentage, '% of the total')\n",
    "\n",
    "total_events.dropna(inplace = True)\n",
    "total_events.drop(['Date','City'], axis = 1, inplace = True)\n",
    "folderData = 'FoliumData'\n",
    "folderResults = 'FinalResults'\n",
    "\n",
    "## HeatMap\n",
    "heatmap = createHeatMap([total_events])\n",
    "heatMap_all = createHeatMapLayer([total_events], ['2006 - 2016 / All Genres'], heatmap)\n",
    "\n",
    "\n",
    "## DetailedMap\n",
    "detailedMap = createDetailedMap([total_events])\n",
    "detailedMap_all = createDetailedMapLayer([total_events], ['2006 - 2016 / All Genres'], detailedMap)\n"
   ]
  },
  {
   "cell_type": "markdown",
   "metadata": {},
   "source": [
    "# For all years, all genres"
   ]
  },
  {
   "cell_type": "markdown",
   "metadata": {},
   "source": [
    "## Heat Map\n",
    "\n",
    "This map shows the number of concerts. The more red, the higher number of concerts happenned. It allows to immediatley see the areas with a lot of musical events.\n",
    "\n",
    "**The map is too heavy to be vizualized inside a notebook. Click here to see it.**"
   ]
  },
  {
   "cell_type": "code",
   "execution_count": null,
   "metadata": {
    "collapsed": false
   },
   "outputs": [],
   "source": [
    "destinationFileName = os.path.join(folderResults, 'heatMap_all.html')    \n",
    "heatMap_all.save(destinationFileName)"
   ]
  },
  {
   "cell_type": "markdown",
   "metadata": {},
   "source": [
    "## Detailed Map\n",
    "This map shows the number of concerts. The bigger the circle, the higher number of concerts happened. This map is interractive, we can click on the circle to obtain the name of the venue and the number of concerts.\n",
    "\n",
    "**The map is too heavy to be vizualized inside a notebook. Click here to see it.**"
   ]
  },
  {
   "cell_type": "code",
   "execution_count": null,
   "metadata": {
    "collapsed": false
   },
   "outputs": [],
   "source": [
    "destinationFileName = os.path.join(folderResults, 'detailedMap_all.html')    \n",
    "detailedMap_all.save(destinationFileName)\n"
   ]
  },
  {
   "cell_type": "markdown",
   "metadata": {
    "collapsed": true
   },
   "source": [
    "## Per genre, for all years"
   ]
  },
  {
   "cell_type": "code",
   "execution_count": null,
   "metadata": {
    "collapsed": false
   },
   "outputs": [],
   "source": [
    "# Just for test, to be deleted later:\n",
    "df1 = total_events[:500] \n",
    "df2 =  total_events[500:] \n",
    "df1['genre']= 'Rock'\n",
    "df2['genre']= 'Electro'"
   ]
  },
  {
   "cell_type": "code",
   "execution_count": null,
   "metadata": {
    "collapsed": true
   },
   "outputs": [],
   "source": [
    "total_events['genre']"
   ]
  },
  {
   "cell_type": "code",
   "execution_count": null,
   "metadata": {
    "collapsed": false
   },
   "outputs": [],
   "source": [
    "## HeatMap\n",
    "heatmap2 = createHeatMap()\n",
    "heatMap_all = createHeatMapLayer([df1, df2], ['2006 - 2016 / Rock', '2006 - 2016 / Electro'], heatmap2)\n",
    "\n",
    "heatMap_all"
   ]
  },
  {
   "cell_type": "code",
   "execution_count": null,
   "metadata": {
    "collapsed": false
   },
   "outputs": [],
   "source": [
    "detailedMap2 = createDetailedMap()\n",
    "detailedMap_all = createDetailedMapLayer([df1, df2], ['2006 - 2016 / Rock', '2006 - 2016 / Electro'], detailedMap2)\n",
    "detailedMap_all"
   ]
  },
  {
   "cell_type": "code",
   "execution_count": null,
   "metadata": {
    "collapsed": true
   },
   "outputs": [],
   "source": []
  }
 ],
 "metadata": {
  "anaconda-cloud": {},
  "kernelspec": {
   "display_name": "Python [default]",
   "language": "python",
   "name": "python3"
  },
  "language_info": {
   "codemirror_mode": {
    "name": "ipython",
    "version": 3
   },
   "file_extension": ".py",
   "mimetype": "text/x-python",
   "name": "python",
   "nbconvert_exporter": "python",
   "pygments_lexer": "ipython3",
   "version": "3.5.2"
  }
 },
 "nbformat": 4,
 "nbformat_minor": 2
}
