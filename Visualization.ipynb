{
 "cells": [
  {
   "cell_type": "markdown",
   "metadata": {},
   "source": [
    "# Visualization\n",
    "\n",
    "In this notebook we are going to visualize interesting results"
   ]
  },
  {
   "cell_type": "code",
   "execution_count": 1,
   "metadata": {
    "collapsed": true
   },
   "outputs": [],
   "source": [
    "import pandas as pd\n",
    "import bokeh\n",
    "from folium import plugins\n",
    "import folium\n",
    "import numpy as np\n",
    "import math\n",
    "import os\n",
    "#import warnings\n",
    "#warnings.filterwarnings('ignore')"
   ]
  },
  {
   "cell_type": "markdown",
   "metadata": {},
   "source": [
    "# Preprocess"
   ]
  },
  {
   "cell_type": "code",
   "execution_count": 2,
   "metadata": {
    "collapsed": false
   },
   "outputs": [],
   "source": [
    "def createHeatMap():\n",
    "    lats = 47.000142\n",
    "    lons = 8.330078\n",
    "    \n",
    "    ## HeatMap\n",
    "    heatmap = folium.Map(location=[np.mean(lats), np.mean(lons)], zoom_start=8, tiles = 'cartodbdark_matter',\n",
    "               min_zoom=8,min_lat=45,max_lat=48,min_lon=5,max_lon=11)\n",
    "    \n",
    "    return heatmap\n",
    "\n",
    "def createHeatMapLayer(df_array, name_array, heatmap):\n",
    "    for df,name in zip(df_array, name_array):\n",
    "        lats = df['Latitude'].values\n",
    "        lons = df['Longitude'].values\n",
    "\n",
    "        heatmapLayer1 = plugins.HeatMap(zip(lats, lons), radius = 12,min_opacity=0.5,blur=20)\n",
    "        heatmap.add_children(heatmapLayer1)\n",
    "\n",
    "        heatmapLayer1.layer_name = name\n",
    "    \n",
    "    folium.LayerControl().add_to(heatmap)\n",
    "    \n",
    "    return heatmap\n",
    "    \n",
    "def createDetailedMap():\n",
    "    lats = 47.000142\n",
    "    lons = 8.330078\n",
    "        \n",
    "    ## DetailedMap\n",
    "    map_detailed = folium.Map(location=[np.mean(lats), np.mean(lons)], zoom_start=8, tiles = 'cartodbdark_matter',\n",
    "               min_zoom=8,min_lat=45,max_lat=48,min_lon=5,max_lon=11)\n",
    "\n",
    "    return map_detailed\n",
    "    \n",
    "def createDetailedMapLayer(df_array, name_array, map_detailed):\n",
    "    \n",
    "    for df,name in zip(df_array, name_array):\n",
    "        df_grouped = df.groupby(['Venue'])\n",
    "        aggregation = {'Latitude':'mean',\n",
    "                   'Longitude':'mean',\n",
    "                   'Artist':'count'\n",
    "                  }\n",
    "        df_p = df_grouped.agg(aggregation)\n",
    "        popups, locations = [], []\n",
    "\n",
    "\n",
    "        marker_clusterLayer = folium.MarkerCluster()\n",
    "        marker_clusterLayer.layer_name = name\n",
    "        \n",
    "        map_detailed.add_children(marker_clusterLayer)\n",
    "        #marker_clusterLayer.add_to(map_detailed)\n",
    "        #Marker creation\n",
    "        for i in range(len(df_p)):\n",
    "            popuptext = df_p.ix[i].name+' - '+str(math.floor(df_p.ix[i].Artist))+' artists'\n",
    "            folium.CircleMarker(location=[df_p.ix[i].Latitude, df_p.ix[i].Longitude], \n",
    "                                radius=50,\n",
    "                            popup=popuptext, color='#3186cc',\n",
    "                            fill_color='#3186cc').add_to(marker_clusterLayer)\n",
    "    \n",
    "    folium.LayerControl().add_to(map_detailed)\n",
    "\n",
    "    return map_detailed\n"
   ]
  },
  {
   "cell_type": "code",
   "execution_count": 3,
   "metadata": {
    "collapsed": false
   },
   "outputs": [
    {
     "name": "stdout",
     "output_type": "stream",
     "text": [
      "There are  602  missing venues coordinates in the dataset, which represent  0.294 % of the total\n"
     ]
    }
   ],
   "source": [
    "total_events = pd.read_csv(os.path.join('./FinalResults/total_eventsFinal.csv'))\n",
    "\n",
    "# Assigning unknown genres\n",
    "total_events['genre'].fillna('Unknown',inplace = True)\n",
    "\n",
    "#counting Na values of latitude/longitude\n",
    "missing_coord = sum(pd.isnull(total_events['Latitude']))\n",
    "missing_coord_percentage = round(100*missing_coord/len(total_events),3)\n",
    "print('There are ',missing_coord, ' missing venues coordinates in the dataset, which represent ',\n",
    "      missing_coord_percentage, '% of the total')\n",
    "\n",
    "total_events.dropna(inplace = True)\n",
    "total_events.drop(['Date','City'], axis = 1, inplace = True)\n",
    "folderData = 'FoliumData'\n",
    "folderResults = 'FinalResults'"
   ]
  },
  {
   "cell_type": "markdown",
   "metadata": {},
   "source": [
    "We have 10 unique genres"
   ]
  },
  {
   "cell_type": "code",
   "execution_count": 4,
   "metadata": {
    "collapsed": false
   },
   "outputs": [
    {
     "name": "stdout",
     "output_type": "stream",
     "text": [
      "['Reggae/Ska' 'Jazz/Blues' 'Rap/Hip Hop' 'Rock' 'Pop' 'Electro' 'Classical'\n",
      " 'Unknown' 'Other' 'Folk']\n"
     ]
    }
   ],
   "source": [
    "print(total_events['genre'].unique())"
   ]
  },
  {
   "cell_type": "code",
   "execution_count": 5,
   "metadata": {
    "collapsed": false
   },
   "outputs": [],
   "source": [
    "# Just for test, to be deleted later:\n",
    "df1 = total_events[total_events['genre'] == 'Reggae/Ska'] \n",
    "name1 = '2006 - 2016 / Reggae/Ska'\n",
    "df2 = total_events[total_events['genre'] == 'Jazz/Blues'] \n",
    "name2 = '2006 - 2016 / Jazz/Blues'\n",
    "df3 = total_events[total_events['genre'] == 'Rap/Hip Hop'] \n",
    "name3 = '2006 - 2016 / Rap/Hip Hop'\n",
    "df4 = total_events[total_events['genre'] == 'Rock'] \n",
    "name4 = '2006 - 2016 / Rock'\n",
    "df5 = total_events[total_events['genre'] == 'Pop'] \n",
    "name5 = '2006 - 2016 / Pop'\n",
    "df6 = total_events[total_events['genre'] == 'Electro'] \n",
    "name6 = '2006 - 2016 / Electro'\n",
    "df7 = total_events[total_events['genre'] == 'Classical'] \n",
    "name7 = '2006 - 2016 / Classical'\n",
    "df8= total_events[total_events['genre'] == 'Folk'] \n",
    "name8 = '2006 - 2016 / Folk'\n",
    "df9 = total_events[total_events['genre'] == 'Other'] \n",
    "name9 = '2006 - 2016 / Other'\n",
    "df10 = total_events[total_events['genre'] == 'Unknown'] \n",
    "name10 = '2006 - 2016 / Unknown'"
   ]
  },
  {
   "cell_type": "markdown",
   "metadata": {},
   "source": [
    "## Heat Map\n",
    "\n",
    "This map shows the number of concerts. The more red, the higher number of concerts happenned. It allows to immediatley see the areas with a lot of musical events.\n",
    "\n",
    "**The map is too heavy to be vizualized inside a notebook. [Click here to see it.](http://nbviewer.jupyter.org/github/sareban/ada-project/blob/master/FinalResults/heatmap_swissmusic.html)**"
   ]
  },
  {
   "cell_type": "code",
   "execution_count": 6,
   "metadata": {
    "collapsed": false
   },
   "outputs": [
    {
     "name": "stderr",
     "output_type": "stream",
     "text": [
      "ERROR:root:Internal Python error in the inspect module.\n",
      "Below is the traceback from this internal error.\n",
      "\n"
     ]
    },
    {
     "name": "stdout",
     "output_type": "stream",
     "text": [
      "Traceback (most recent call last):\n",
      "  File \"/Users/peco/anaconda/lib/python3.5/site-packages/IPython/core/interactiveshell.py\", line 2881, in run_code\n",
      "    exec(code_obj, self.user_global_ns, self.user_ns)\n",
      "  File \"<ipython-input-6-6d2b05cc29be>\", line 5, in <module>\n",
      "    heatmap2)\n",
      "  File \"<ipython-input-2-c5083b943b19>\", line 16, in createHeatMapLayer\n",
      "    heatmapLayer1 = plugins.HeatMap(zip(lats, lons), radius = 12,min_opacity=0.5,blur=20)\n",
      "  File \"/Users/peco/anaconda/lib/python3.5/site-packages/folium/plugins/heat_map.py\", line 47, in __init__\n",
      "    self.data = [[x for x in line] for line in data]\n",
      "  File \"/Users/peco/anaconda/lib/python3.5/site-packages/folium/plugins/heat_map.py\", line 47, in <listcomp>\n",
      "    self.data = [[x for x in line] for line in data]\n",
      "  File \"/Users/peco/anaconda/lib/python3.5/site-packages/folium/plugins/heat_map.py\", line 47, in <listcomp>\n",
      "    self.data = [[x for x in line] for line in data]\n",
      "KeyboardInterrupt\n",
      "\n",
      "During handling of the above exception, another exception occurred:\n",
      "\n",
      "Traceback (most recent call last):\n",
      "  File \"/Users/peco/anaconda/lib/python3.5/site-packages/IPython/core/interactiveshell.py\", line 1821, in showtraceback\n",
      "    stb = value._render_traceback_()\n",
      "AttributeError: 'KeyboardInterrupt' object has no attribute '_render_traceback_'\n",
      "\n",
      "During handling of the above exception, another exception occurred:\n",
      "\n",
      "Traceback (most recent call last):\n",
      "  File \"/Users/peco/anaconda/lib/python3.5/site-packages/IPython/core/ultratb.py\", line 1132, in get_records\n",
      "    return _fixed_getinnerframes(etb, number_of_lines_of_context, tb_offset)\n",
      "  File \"/Users/peco/anaconda/lib/python3.5/site-packages/IPython/core/ultratb.py\", line 313, in wrapped\n",
      "    return f(*args, **kwargs)\n",
      "  File \"/Users/peco/anaconda/lib/python3.5/site-packages/IPython/core/ultratb.py\", line 358, in _fixed_getinnerframes\n",
      "    records = fix_frame_records_filenames(inspect.getinnerframes(etb, context))\n",
      "  File \"/Users/peco/anaconda/lib/python3.5/inspect.py\", line 1453, in getinnerframes\n",
      "    frameinfo = (tb.tb_frame,) + getframeinfo(tb, context)\n",
      "  File \"/Users/peco/anaconda/lib/python3.5/inspect.py\", line 1410, in getframeinfo\n",
      "    filename = getsourcefile(frame) or getfile(frame)\n",
      "  File \"/Users/peco/anaconda/lib/python3.5/inspect.py\", line 672, in getsourcefile\n",
      "    if getattr(getmodule(object, filename), '__loader__', None) is not None:\n",
      "  File \"/Users/peco/anaconda/lib/python3.5/inspect.py\", line 718, in getmodule\n",
      "    os.path.realpath(f)] = module.__name__\n",
      "  File \"/Users/peco/anaconda/lib/python3.5/posixpath.py\", line 372, in realpath\n",
      "    path, ok = _joinrealpath(filename[:0], filename, {})\n",
      "  File \"/Users/peco/anaconda/lib/python3.5/posixpath.py\", line 406, in _joinrealpath\n",
      "    if not islink(newpath):\n",
      "  File \"/Users/peco/anaconda/lib/python3.5/posixpath.py\", line 161, in islink\n",
      "    st = os.lstat(path)\n",
      "KeyboardInterrupt\n"
     ]
    },
    {
     "ename": "KeyboardInterrupt",
     "evalue": "",
     "output_type": "error",
     "traceback": [
      "\u001b[0;31m---------------------------------------------------------------------------\u001b[0m"
     ]
    }
   ],
   "source": [
    "## HeatMap\n",
    "heatmap2 = createHeatMap()\n",
    "heatMap_genre = createHeatMapLayer([total_events, df1, df2, df3, df4, df5, df6, df7, df8, df9, df10], \n",
    "                                 ['2006 - 2016 / All Genres',name1,name2,name3,name4,name5,name6,name7,name8,name9, name10], \n",
    "                                 heatmap2)\n",
    "\n",
    "destinationFileName = os.path.join(folderResults, 'heatmap_swissmusic.html')    \n",
    "heatMap_genre.save(destinationFileName)"
   ]
  },
  {
   "cell_type": "markdown",
   "metadata": {},
   "source": [
    "## Detailed Map\n",
    "This map shows the number of concerts. The bigger the circle, the higher number of concerts happened. This map is interractive, we can click on the circle to obtain the name of the venue and the number of concerts.\n",
    "\n",
    "**The map is too heavy to be vizualized inside a notebook. [Click here to see it.](http://nbviewer.jupyter.org/github/sareban/ada-project/blob/master/FinalResults/detailedmap_swissmusic.html)**"
   ]
  },
  {
   "cell_type": "code",
   "execution_count": null,
   "metadata": {
    "collapsed": false
   },
   "outputs": [],
   "source": [
    "## DetailedMap\n",
    "detailedMap2 = createDetailedMap()\n",
    "detailedMap_genre = createDetailedMapLayer([total_events, df1, df2, df3, df4, df5, df6, df7, df8, df9, df10], \n",
    "                                 ['2006 - 2016 / All Genres', name1,name2,name3,name4,name5,name6,name7,name8,name9, name10], \n",
    "                                 detailedMap2)\n",
    "destinationFileName = os.path.join(folderResults, 'detailedmap_swissmusic.html')    \n",
    "detailedMap_genre.save(destinationFileName)"
   ]
  },
  {
   "cell_type": "code",
   "execution_count": null,
   "metadata": {
    "collapsed": true
   },
   "outputs": [],
   "source": []
  }
 ],
 "metadata": {
  "anaconda-cloud": {},
  "kernelspec": {
   "display_name": "Python [default]",
   "language": "python",
   "name": "python3"
  },
  "language_info": {
   "codemirror_mode": {
    "name": "ipython",
    "version": 3
   },
   "file_extension": ".py",
   "mimetype": "text/x-python",
   "name": "python",
   "nbconvert_exporter": "python",
   "pygments_lexer": "ipython3",
   "version": "3.5.2"
  }
 },
 "nbformat": 4,
 "nbformat_minor": 2
}
