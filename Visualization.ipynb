{
 "cells": [
  {
   "cell_type": "markdown",
   "metadata": {},
   "source": [
    "# Visualization\n",
    "\n",
    "In this notebook we are going to visualize interesting results"
   ]
  },
  {
   "cell_type": "code",
   "execution_count": 20,
   "metadata": {
    "collapsed": true
   },
   "outputs": [],
   "source": [
    "import pandas as pd\n",
    "import bokeh\n",
    "from folium import plugins\n",
    "import folium\n",
    "import numpy as np\n",
    "import math\n",
    "import os\n",
    "#import warnings\n",
    "#warnings.filterwarnings('ignore')"
   ]
  },
  {
   "cell_type": "markdown",
   "metadata": {},
   "source": [
    "# Preprocess"
   ]
  },
  {
   "cell_type": "code",
   "execution_count": 21,
   "metadata": {
    "collapsed": false
   },
   "outputs": [],
   "source": [
    "def createHeatMap():\n",
    "    lats = 47.000142\n",
    "    lons = 8.330078\n",
    "    \n",
    "    ## HeatMap\n",
    "    heatmap = folium.Map(location=[np.mean(lats), np.mean(lons)], zoom_start=8, tiles = 'cartodbdark_matter',\n",
    "               min_zoom=8,min_lat=45,max_lat=48,min_lon=5,max_lon=11)\n",
    "    \n",
    "    return heatmap\n",
    "\n",
    "def createHeatMapLayer(df_array, name_array, heatmap):\n",
    "    for df,name in zip(df_array, name_array):\n",
    "        lats = df['Latitude'].values\n",
    "        lons = df['Longitude'].values\n",
    "\n",
    "        heatmapLayer1 = plugins.HeatMap(zip(lats, lons), radius = 12,min_opacity=0.5,blur=20)\n",
    "        heatmap.add_children(heatmapLayer1)\n",
    "\n",
    "        heatmapLayer1.layer_name = name\n",
    "    \n",
    "    folium.LayerControl().add_to(heatmap)\n",
    "    \n",
    "    return heatmap\n",
    "    \n",
    "def createDetailedMap():\n",
    "    lats = 47.000142\n",
    "    lons = 8.330078\n",
    "        \n",
    "    ## DetailedMap\n",
    "    map_detailed = folium.Map(location=[np.mean(lats), np.mean(lons)], zoom_start=8, tiles = 'cartodbdark_matter',\n",
    "               min_zoom=8,min_lat=45,max_lat=48,min_lon=5,max_lon=11)\n",
    "\n",
    "    return map_detailed\n",
    "    \n",
    "def createDetailedMapLayer(df_array, name_array, map_detailed):\n",
    "    \n",
    "    for df,name in zip(df_array, name_array):\n",
    "        df_grouped = df.groupby(['Venue'])\n",
    "        aggregation = {'Latitude':'mean',\n",
    "                   'Longitude':'mean',\n",
    "                   'Artist':'count'\n",
    "                  }\n",
    "        df_p = df_grouped.agg(aggregation)\n",
    "        popups, locations = [], []\n",
    "\n",
    "\n",
    "        marker_clusterLayer = folium.MarkerCluster()\n",
    "        marker_clusterLayer.layer_name = name\n",
    "        \n",
    "        map_detailed.add_children(marker_clusterLayer)\n",
    "        #marker_clusterLayer.add_to(map_detailed)\n",
    "        #Marker creation\n",
    "        for i in range(len(df_p)):\n",
    "            popuptext = df_p.ix[i].name+' - '+str(math.floor(df_p.ix[i].Artist))+' artists'\n",
    "            folium.CircleMarker(location=[df_p.ix[i].Latitude, df_p.ix[i].Longitude], \n",
    "                                radius=50,\n",
    "                            popup=popuptext, color='#3186cc',\n",
    "                            fill_color='#3186cc').add_to(marker_clusterLayer)\n",
    "    \n",
    "    folium.LayerControl().add_to(map_detailed)\n",
    "\n",
    "    return map_detailed\n"
   ]
  },
  {
   "cell_type": "code",
   "execution_count": 22,
   "metadata": {
    "collapsed": false
   },
   "outputs": [
    {
     "name": "stdout",
     "output_type": "stream",
     "text": [
      "There are  602  missing venues coordinates in the dataset, which represent  0.294 % of the total\n"
     ]
    }
   ],
   "source": [
    "total_events = pd.read_csv(os.path.join('./FinalResults/total_eventsFinal.csv'))\n",
    "missing_coord = sum(pd.isnull(total_events['Latitude']))\n",
    "missing_coord_percentage = round(100*missing_coord/len(total_events),3)\n",
    "print('There are ',missing_coord, ' missing venues coordinates in the dataset, which represent ',\n",
    "      missing_coord_percentage, '% of the total')\n",
    "\n",
    "total_events.dropna(inplace = True)\n",
    "total_events.drop(['Date','City'], axis = 1, inplace = True)\n",
    "folderData = 'FoliumData'\n",
    "folderResults = 'FinalResults'"
   ]
  },
  {
   "cell_type": "markdown",
   "metadata": {},
   "source": [
    "# For all years, all genres"
   ]
  },
  {
   "cell_type": "markdown",
   "metadata": {},
   "source": [
    "## Heat Map\n",
    "\n",
    "This map shows the number of concerts. The more red, the higher number of concerts happenned. It allows to immediatley see the areas with a lot of musical events.\n",
    "\n",
    "**The map is too heavy to be vizualized inside a notebook. [Click here to see it.](http://nbviewer.jupyter.org/github/sareban/ada-project/blob/master/FinalResults/heatMap_all.html)**"
   ]
  },
  {
   "cell_type": "code",
   "execution_count": 4,
   "metadata": {
    "collapsed": false
   },
   "outputs": [],
   "source": [
    "heatmap = createHeatMap()\n",
    "heatMap_all = createHeatMapLayer([total_events], ['2006 - 2016 / All Genres'], heatmap)\n",
    "\n",
    "destinationFileName = os.path.join(folderResults, 'heatMap_all.html')    \n",
    "heatMap_all.save(destinationFileName)"
   ]
  },
  {
   "cell_type": "markdown",
   "metadata": {},
   "source": [
    "## Detailed Map\n",
    "This map shows the number of concerts. The bigger the circle, the higher number of concerts happened. This map is interractive, we can click on the circle to obtain the name of the venue and the number of concerts.\n",
    "\n",
    "**The map is too heavy to be vizualized inside a notebook. [Click here to see it.](http://nbviewer.jupyter.org/github/sareban/ada-project/blob/master/FinalResults/detailedMap_all.html)**"
   ]
  },
  {
   "cell_type": "code",
   "execution_count": null,
   "metadata": {
    "collapsed": false
   },
   "outputs": [],
   "source": [
    "detailedMap = createDetailedMap()\n",
    "detailedMap_all = createDetailedMapLayer([total_events], ['2006 - 2016 / All Genres'], detailedMap)\n",
    "\n",
    "destinationFileName = os.path.join(folderResults, 'detailedMap_all.html')    \n",
    "detailedMap_all.save(destinationFileName)"
   ]
  },
  {
   "cell_type": "markdown",
   "metadata": {
    "collapsed": true
   },
   "source": [
    "# Per genre, for all years\n",
    "\n",
    "We have 9 unique genres:"
   ]
  },
  {
   "cell_type": "code",
   "execution_count": null,
   "metadata": {
    "collapsed": false
   },
   "outputs": [],
   "source": [
    "total_events['genre'].unique()"
   ]
  },
  {
   "cell_type": "code",
   "execution_count": null,
   "metadata": {
    "collapsed": false
   },
   "outputs": [],
   "source": [
    "# Just for test, to be deleted later:\n",
    "df1 = total_events[total_events['genre'] == 'Reggae/Ska'] \n",
    "name1 = '2006 - 2016 / Reggae/Ska'\n",
    "df2 = total_events[total_events['genre'] == 'Jazz/Blues'] \n",
    "name2 = '2006 - 2016 / Jazz/Blues'\n",
    "df3 = total_events[total_events['genre'] == 'Rap/Hip Hop'] \n",
    "name3 = '2006 - 2016 / Rap/Hip Hop'\n",
    "df4 = total_events[total_events['genre'] == 'Rock'] \n",
    "name4 = '2006 - 2016 / Rock'\n",
    "df5 = total_events[total_events['genre'] == 'Pop'] \n",
    "name5 = '2006 - 2016 / Pop'\n",
    "df6 = total_events[total_events['genre'] == 'Electro'] \n",
    "name6 = '2006 - 2016 / Electro'\n",
    "df7 = total_events[total_events['genre'] == 'Classical'] \n",
    "name7 = '2006 - 2016 / Classical'\n",
    "df8= total_events[total_events['genre'] == 'Folk'] \n",
    "name8 = '2006 - 2016 / Folk'\n",
    "df9 = total_events[total_events['genre'] == 'Other'] \n",
    "name9 = '2006 - 2016 / Other'"
   ]
  },
  {
   "cell_type": "markdown",
   "metadata": {},
   "source": [
    "## Heat Map\n",
    "\n",
    "This map shows the number of concerts. The more red, the higher number of concerts happenned. It allows to immediatley see the areas with a lot of musical events.\n",
    "\n",
    "**The map is too heavy to be vizualized inside a notebook. [Click here to see it.](http://nbviewer.jupyter.org/github/sareban/ada-project/blob/master/FinalResults/heatMap_genre.html)**"
   ]
  },
  {
   "cell_type": "code",
   "execution_count": 8,
   "metadata": {
    "collapsed": false
   },
   "outputs": [],
   "source": [
    "## HeatMap\n",
    "heatmap2 = createHeatMap()\n",
    "heatMap_genre = createHeatMapLayer([df1, df2, df3, df4, df5, df6, df7, df8, df9], \n",
    "                                 [name1,name2,name3,name4,name5,name6,name7,name8,name9], \n",
    "                                 heatmap2)\n",
    "\n",
    "destinationFileName = os.path.join(folderResults, 'heatMap_genre.html')    \n",
    "heatMap_genre.save(destinationFileName)"
   ]
  },
  {
   "cell_type": "markdown",
   "metadata": {},
   "source": [
    "## Detailed Map\n",
    "This map shows the number of concerts. The bigger the circle, the higher number of concerts happened. This map is interractive, we can click on the circle to obtain the name of the venue and the number of concerts.\n",
    "\n",
    "**The map is too heavy to be vizualized inside a notebook. [Click here to see it.](http://nbviewer.jupyter.org/github/sareban/ada-project/blob/master/FinalResults/detailedMap_genre.html)**"
   ]
  },
  {
   "cell_type": "code",
   "execution_count": null,
   "metadata": {
    "collapsed": false
   },
   "outputs": [],
   "source": [
    "## DetailedMap\n",
    "detailedMap2 = createDetailedMap()\n",
    "detailedMap_genre = createDetailedMapLayer([df1, df2, df3, df4, df5, df6, df7, df8, df9], \n",
    "                                 [name1,name2,name3,name4,name5,name6,name7,name8,name9], \n",
    "                                 detailedMap2)\n",
    "destinationFileName = os.path.join(folderResults, 'detailedMap_genre.html')    \n",
    "detailedMap_genre.save(destinationFileName)"
   ]
  },
  {
   "cell_type": "code",
   "execution_count": null,
   "metadata": {
    "collapsed": true
   },
   "outputs": [],
   "source": []
  }
 ],
 "metadata": {
  "anaconda-cloud": {},
  "kernelspec": {
   "display_name": "Python [default]",
   "language": "python",
   "name": "python3"
  },
  "language_info": {
   "codemirror_mode": {
    "name": "ipython",
    "version": 3
   },
   "file_extension": ".py",
   "mimetype": "text/x-python",
   "name": "python",
   "nbconvert_exporter": "python",
   "pygments_lexer": "ipython3",
   "version": "3.5.2"
  }
 },
 "nbformat": 4,
 "nbformat_minor": 2
}
