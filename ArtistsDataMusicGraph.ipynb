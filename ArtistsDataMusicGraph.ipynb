{
 "cells": [
  {
   "cell_type": "markdown",
   "metadata": {},
   "source": [
    "# Artists Music Graph\n",
    "\n",
    "\n",
    "\n",
    "Here we will get the genres and origin of the artists.\n",
    "We will use the file that contains all the artists who played in Switzerland that comes from the different sources.\n",
    "\n",
    "\n",
    "We will use [musicgraph API](http://musicgraph.com/#/home).\n",
    "**API KEY is expired as the number of call limit is 5000, and we are over this limit. We should create a new account on the website, and copy the API key in the musicGraphHelper file**\n",
    "\n",
    "Data:\n",
    "- artist name\n",
    "- artist genre\n",
    "- artist origin\n",
    "- no_result\n",
    "- ambigous_result\n",
    "\n",
    "If we can't find an artist we will put '1' in the value 'no_result'\n",
    "If we find several artists with the same name we will put '1' in the value 'ambigous_result'\n",
    "\n",
    "\n"
   ]
  },
  {
   "cell_type": "code",
   "execution_count": 1,
   "metadata": {
    "collapsed": false
   },
   "outputs": [],
   "source": [
    "import pandas as pd\n",
    "import musicGraphHelper as musicGraphHelper\n",
    "import bandsInTownHelper as bandsInTownHelper\n",
    "import csv"
   ]
  },
  {
   "cell_type": "code",
   "execution_count": null,
   "metadata": {
    "collapsed": false
   },
   "outputs": [],
   "source": [
    "df = pd.read_csv('total_artists.csv', encoding='utf-8', error_bad_lines=False, usecols=[0,1,2,3,4])\n",
    "df.shape\n",
    "df = df[:31]"
   ]
  },
  {
   "cell_type": "code",
   "execution_count": null,
   "metadata": {
    "collapsed": false,
    "scrolled": false
   },
   "outputs": [
    {
     "name": "stdout",
     "output_type": "stream",
     "text": [
      "14 / 30\n",
      "   ambigous_result  genre         name  no_result  origin\n",
      "0                0    NaN  Massive Jay          1     NaN\n"
     ]
    }
   ],
   "source": [
    "api_key = '713e1e102705dfd6364b267932879f03'\n",
    "df_artist_musicgraph = musicGraphHelper.getDataMusicGraph(df, api_key)\n"
   ]
  },
  {
   "cell_type": "code",
   "execution_count": null,
   "metadata": {
    "collapsed": false
   },
   "outputs": [],
   "source": [
    "df_artist_musicgraph"
   ]
  },
  {
   "cell_type": "code",
   "execution_count": null,
   "metadata": {
    "collapsed": true
   },
   "outputs": [],
   "source": []
  }
 ],
 "metadata": {
  "anaconda-cloud": {},
  "kernelspec": {
   "display_name": "Python [default]",
   "language": "python",
   "name": "python3"
  },
  "language_info": {
   "codemirror_mode": {
    "name": "ipython",
    "version": 3
   },
   "file_extension": ".py",
   "mimetype": "text/x-python",
   "name": "python",
   "nbconvert_exporter": "python",
   "pygments_lexer": "ipython3",
   "version": "3.5.2"
  }
 },
 "nbformat": 4,
 "nbformat_minor": 1
}
