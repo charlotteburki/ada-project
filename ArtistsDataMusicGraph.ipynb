{
 "cells": [
  {
   "cell_type": "markdown",
   "metadata": {},
   "source": [
    "# Artists Music Graph\n",
    "\n",
    "\n",
    "\n",
    "Here we will get the genres and origin of the artists.\n",
    "We will use the file that contains all the artists who played in Switzerland that comes from the different sources.\n",
    "\n",
    "\n",
    "We will use [musicgraph API](http://musicgraph.com/#/home).\n",
    "**API KEY is expired as the number of call limit is 5000, and we are over this limit. We should create a new account on the website, and copy the API key in the musicGraphHelper file**\n",
    "\n",
    "Data:\n",
    "- artist name\n",
    "- artist genre\n",
    "- artist origin\n",
    "- no_result\n",
    "- ambigous_result\n",
    "\n",
    "If we can't find an artist we will put '1' in the value 'no_result'\n",
    "If we find several artists with the same name we will put '1' in the value 'ambigous_result'\n",
    "\n",
    "\n"
   ]
  },
  {
   "cell_type": "code",
   "execution_count": 1,
   "metadata": {
    "collapsed": false
   },
   "outputs": [],
   "source": [
    "import pandas as pd\n",
    "import musicGraphHelper as musicGraphHelper\n",
    "import bandsInTownHelper as bandsInTownHelper"
   ]
  },
  {
   "cell_type": "code",
   "execution_count": 2,
   "metadata": {
    "collapsed": false
   },
   "outputs": [],
   "source": [
    "df = pd.read_csv('total_artists_Spotify.csv')"
   ]
  },
  {
   "cell_type": "code",
   "execution_count": 3,
   "metadata": {
    "collapsed": false
   },
   "outputs": [
    {
     "name": "stdout",
     "output_type": "stream",
     "text": [
      "0 / 34208\n",
      "Maximum number of API calls exceded\n"
     ]
    },
    {
     "ename": "SystemExit",
     "evalue": "Maximum number of API calls exceded",
     "output_type": "error",
     "traceback": [
      "An exception has occurred, use %tb to see the full traceback.\n",
      "\u001b[0;31mSystemExit\u001b[0m\u001b[0;31m:\u001b[0m Maximum number of API calls exceded\n"
     ]
    }
   ],
   "source": [
    "df_artist_musicgraph = musicGraphHelper.getDataMusicGraph(df)"
   ]
  },
  {
   "cell_type": "code",
   "execution_count": null,
   "metadata": {
    "collapsed": true
   },
   "outputs": [],
   "source": []
  },
  {
   "cell_type": "code",
   "execution_count": null,
   "metadata": {
    "collapsed": true
   },
   "outputs": [],
   "source": []
  }
 ],
 "metadata": {
  "anaconda-cloud": {},
  "kernelspec": {
   "display_name": "Python [default]",
   "language": "python",
   "name": "python3"
  },
  "language_info": {
   "codemirror_mode": {
    "name": "ipython",
    "version": 3
   },
   "file_extension": ".py",
   "mimetype": "text/x-python",
   "name": "python",
   "nbconvert_exporter": "python",
   "pygments_lexer": "ipython3",
   "version": "3.5.2"
  }
 },
 "nbformat": 4,
 "nbformat_minor": 1
}
