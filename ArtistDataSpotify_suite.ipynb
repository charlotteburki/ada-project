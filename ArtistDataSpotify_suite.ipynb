{
 "cells": [
  {
   "cell_type": "markdown",
   "metadata": {},
   "source": [
    "# Artists \n",
    "\n",
    "This notebook manages a bread of the scrapping. It will start from where it has stopped. \n",
    "\n",
    "Here we will get the genres and origin of the artists.\n",
    "We will use the file that contains all the artists who played in Switzerland that comes from the different sources.\n",
    "\n",
    "\n",
    "We will use [Spotify API](https://developer.spotify.com).\n",
    "\n",
    "Data:\n",
    "- artist name\n",
    "- artist genre\n",
    "- artist origin\n",
    "- no_result\n",
    "- ambigous_result\n",
    "\n",
    "If we can't find an artist we will put '1' in the value 'no_result'\n",
    "If we find several artists with the same name we will put '1' in the value 'ambigous_result'\n",
    "\n",
    "Spotify can only specify genres.\n",
    "\n",
    "\n"
   ]
  },
  {
   "cell_type": "code",
   "execution_count": null,
   "metadata": {
    "collapsed": false
   },
   "outputs": [],
   "source": [
    "import pandas as pd\n",
    "import numpy as np\n",
    "import os\n",
    "import spotifyHelper as spotifyHelper\n",
    "import artistsHelper as artistsHelper\n",
    "import multiprocessing\n",
    "import time"
   ]
  },
  {
   "cell_type": "code",
   "execution_count": null,
   "metadata": {
    "collapsed": false
   },
   "outputs": [],
   "source": [
    "df = pd.read_csv('total_artists.csv')\n",
    "starting_index = 0\n",
    "df = df.ix[starting_index:]\n",
    "\n",
    "df1, df2, df3, df4 = spotifyHelper.splitDataFrames(df)"
   ]
  },
  {
   "cell_type": "code",
   "execution_count": null,
   "metadata": {
    "collapsed": true
   },
   "outputs": [],
   "source": [
    "df1.reset_index(inplace=True, drop=True)\n",
    "df2.reset_index(inplace=True, drop=True)\n",
    "df3.reset_index(inplace=True, drop=True)\n",
    "df4.reset_index(inplace=True, drop=True)\n",
    "\n",
    "df_csv1 = pd.read_csv('SpotifyData/total_artists_Spotify1.csv')\n",
    "df_csv2 = pd.read_csv('SpotifyData/total_artists_Spotify2.csv')\n",
    "df_csv3 = pd.read_csv('SpotifyData/total_artists_Spotify3.csv')\n",
    "df_csv4 = pd.read_csv('SpotifyData/total_artists_Spotify4.csv')\n",
    "\n",
    "df1 = df1[df_csv1.last_valid_index()+1:]\n",
    "df2 = df2[df_csv2.last_valid_index()+1:]\n",
    "df3 = df3[df_csv3.last_valid_index()+1:]\n",
    "df4 = df4[df_csv4.last_valid_index()+1:]"
   ]
  },
  {
   "cell_type": "code",
   "execution_count": null,
   "metadata": {
    "collapsed": false,
    "scrolled": false
   },
   "outputs": [],
   "source": [
    "# Parrallel multiprocessing\n",
    "num_cores = multiprocessing.cpu_count()\n",
    "pool = multiprocessing.Pool(num_cores)\n",
    "start_time = time.time()\n",
    "p1 = pool.Process(target = spotifyHelper.getDataSpotifyGraph, args=(df1,'1suite'))\n",
    "p1.start()\n",
    "p2 = pool.Process(target = spotifyHelper.getDataSpotifyGraph, args=(df2,'2suite'))\n",
    "p2.start()\n",
    "p3 = pool.Process(target = spotifyHelper.getDataSpotifyGraph, args=(df3,'3suite'))\n",
    "p3.start()\n",
    "p4 = pool.Process(target = spotifyHelper.getDataSpotifyGraph, args=(df4,'4suite'))\n",
    "p4.start()\n",
    "\n"
   ]
  },
  {
   "cell_type": "code",
   "execution_count": null,
   "metadata": {
    "collapsed": true
   },
   "outputs": [],
   "source": [
    "spotifyHelper.concatSameData(1)\n",
    "spotifyHelper.concatSameData(2)\n",
    "spotifyHelper.concatSameData(3)\n",
    "spotifyHelper.concatSameData(4)"
   ]
  },
  {
   "cell_type": "markdown",
   "metadata": {},
   "source": [
    "** Delete files '\\*1suite', '\\*2suite.csv','\\*3suite.csv','\\*4suite.csv' ** They are now merged into files 1,2,3,4\n",
    "Then do the concat"
   ]
  },
  {
   "cell_type": "code",
   "execution_count": null,
   "metadata": {
    "collapsed": false,
    "scrolled": false
   },
   "outputs": [],
   "source": [
    "dfconcat = spotifyHelper.concatDataSpotify()\n"
   ]
  },
  {
   "cell_type": "code",
   "execution_count": null,
   "metadata": {
    "collapsed": false
   },
   "outputs": [],
   "source": [
    "dfconcat"
   ]
  },
  {
   "cell_type": "code",
   "execution_count": null,
   "metadata": {
    "collapsed": true
   },
   "outputs": [],
   "source": []
  }
 ],
 "metadata": {
  "anaconda-cloud": {},
  "kernelspec": {
   "display_name": "Python [default]",
   "language": "python",
   "name": "python3"
  },
  "language_info": {
   "codemirror_mode": {
    "name": "ipython",
    "version": 3
   },
   "file_extension": ".py",
   "mimetype": "text/x-python",
   "name": "python",
   "nbconvert_exporter": "python",
   "pygments_lexer": "ipython3",
   "version": "3.5.2"
  }
 },
 "nbformat": 4,
 "nbformat_minor": 1
}
