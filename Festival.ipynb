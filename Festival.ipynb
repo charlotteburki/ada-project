{
 "cells": [
  {
   "cell_type": "markdown",
   "metadata": {},
   "source": [
    "Here, we will get the festival happening in Switzerland, using data from:\n",
    "[Festigo](https://www.festigo.ch/#!/fr).\n",
    "\n",
    "## 1. Scrapping\n",
    "Data that will be received and stored:\n",
    "- total count\n",
    "- per festival:\n",
    "    - \"name\"\n",
    "    - \"description\"\n",
    "    - \"information\"\n",
    "    - \"meta_desc\"\n",
    "    - \"website\"\n",
    "    - \"facebook_link\"\n",
    "    - \"ticket_link\"\n",
    "    - \"start_date\"\n",
    "    - \"end_date\"\n",
    "    - \"min_price\"\n",
    "    - \"max_price\"\n",
    "    - \"capacity\"\n",
    "    - \"is_free\"\n",
    "    - \"postal_code\"\n",
    "    - \"city\"\n",
    "    - \"canton\"\n",
    "    - \"coord_x\"\n",
    "    - \"coord_y\""
   ]
  },
  {
   "cell_type": "code",
   "execution_count": 1,
   "metadata": {
    "collapsed": false
   },
   "outputs": [
    {
     "ename": "ImportError",
     "evalue": "No module named 'festigoHelper.py'; 'festigoHelper' is not a package",
     "output_type": "error",
     "traceback": [
      "\u001b[0;31m---------------------------------------------------------------------------\u001b[0m",
      "\u001b[0;31mImportError\u001b[0m                               Traceback (most recent call last)",
      "\u001b[0;32m<ipython-input-1-c2f3965bdcf8>\u001b[0m in \u001b[0;36m<module>\u001b[0;34m()\u001b[0m\n\u001b[1;32m      1\u001b[0m \u001b[0;32mimport\u001b[0m \u001b[0mpandas\u001b[0m \u001b[0;32mas\u001b[0m \u001b[0mpd\u001b[0m\u001b[0;34m\u001b[0m\u001b[0m\n\u001b[0;32m----> 2\u001b[0;31m \u001b[0;32mimport\u001b[0m \u001b[0mfestigoHelper\u001b[0m\u001b[0;34m.\u001b[0m\u001b[0mpy\u001b[0m \u001b[0;32mas\u001b[0m \u001b[0mfestigoHelper\u001b[0m\u001b[0;34m\u001b[0m\u001b[0m\n\u001b[0m",
      "\u001b[0;31mImportError\u001b[0m: No module named 'festigoHelper.py'; 'festigoHelper' is not a package"
     ]
    }
   ],
   "source": [
    "import pandas as pd\n",
    "import festigoHelper as festigoHelper"
   ]
  },
  {
   "cell_type": "code",
   "execution_count": null,
   "metadata": {
    "collapsed": false
   },
   "outputs": [],
   "source": [
    "festigoHelper.getDataFestigo()"
   ]
  },
  {
   "cell_type": "code",
   "execution_count": null,
   "metadata": {
    "collapsed": true
   },
   "outputs": [],
   "source": [
    "# to continue"
   ]
  }
 ],
 "metadata": {
  "anaconda-cloud": {},
  "kernelspec": {
   "display_name": "Python [default]",
   "language": "python",
   "name": "python3"
  },
  "language_info": {
   "codemirror_mode": {
    "name": "ipython",
    "version": 3
   },
   "file_extension": ".py",
   "mimetype": "text/x-python",
   "name": "python",
   "nbconvert_exporter": "python",
   "pygments_lexer": "ipython3",
   "version": "3.5.2"
  }
 },
 "nbformat": 4,
 "nbformat_minor": 1
}
