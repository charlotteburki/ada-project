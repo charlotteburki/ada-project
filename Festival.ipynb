{
 "cells": [
  {
   "cell_type": "markdown",
   "metadata": {},
   "source": [
    "Here, we will get the festival happening in Switzerland, using data from:\n",
    "[Festigo](https://www.festigo.ch/#!/fr) and Postman Interceptor.\n",
    "\n",
    "\n",
    "Data that will be received and stored:\n",
    "- total count\n",
    "- per festival:\n",
    "    - \"name\"\n",
    "    - \"long_name\"\n",
    "    - \"edition\"\n",
    "    - \"description\"\n",
    "    - \"information\": \"\"\n",
    "    - \"meta_desc\"\n",
    "    - \"website\"\n",
    "    - \"facebook_link\"\n",
    "    - \"ticket_link\"\n",
    "    - \"start_date\"\n",
    "    - \"end_date\"\n",
    "    - \"min_price\"\n",
    "    - \"max_price\"\n",
    "    - \"rating\"\n",
    "    - \"capacity\"\n",
    "    - \"is_free\"\n",
    "    - \"postal_code\"\n",
    "    - \"city\"\n",
    "    - \"canton\"\n",
    "    - \"coord_x\"\n",
    "    - \"coord_y\"\n",
    "    - genre1\n",
    "    - genre2\n",
    "    - genre3\n",
    "    - genre4\n",
    "    - genre5\n",
    "    - genre6\n",
    "    - genre7\n",
    "    - genre8\n",
    "    - genre9\n",
    "    - genre10\n",
    "\n",
    "  \n"
   ]
  },
  {
   "cell_type": "code",
   "execution_count": null,
   "metadata": {
    "collapsed": true
   },
   "outputs": [],
   "source": []
  }
 ],
 "metadata": {
  "anaconda-cloud": {},
  "kernelspec": {
   "display_name": "Python [default]",
   "language": "python",
   "name": "python3"
  },
  "language_info": {
   "codemirror_mode": {
    "name": "ipython",
    "version": 3
   },
   "file_extension": ".py",
   "mimetype": "text/x-python",
   "name": "python",
   "nbconvert_exporter": "python",
   "pygments_lexer": "ipython3",
   "version": "3.5.2"
  }
 },
 "nbformat": 4,
 "nbformat_minor": 1
}
