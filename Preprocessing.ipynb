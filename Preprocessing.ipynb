{
 "cells": [
  {
   "cell_type": "markdown",
   "metadata": {
    "collapsed": true
   },
   "source": [
    "# Preprocessing pipeline\n",
    "In this notebook, we will clean and agglomerate the data acquired from several platforms to be used conveniently for analysis."
   ]
  },
  {
   "cell_type": "code",
   "execution_count": 93,
   "metadata": {
    "collapsed": true
   },
   "outputs": [],
   "source": [
    "import pandas as pd\n",
    "import os\n",
    "import glob\n",
    "import urllib\n",
    "import requests\n",
    "import time\n",
    "import json\n",
    "from pandas.io.json import json_normalize\n",
    "from IPython.display import clear_output\n",
    "import numpy as np\n",
    "import bandsInTownHelper as bandsInTownHelper\n",
    "\n",
    "import pycountry\n",
    "import country_demonyms"
   ]
  },
  {
   "cell_type": "code",
   "execution_count": 3,
   "metadata": {
    "collapsed": false
   },
   "outputs": [],
   "source": [
    "#Load the total_x events data into several DataFrame.\n",
    "\n",
    "total_eventsch = pd.read_csv(os.path.join('./total_eventsch.csv'))\n",
    "total_bands_in_town = pd.read_csv(os.path.join('./total_bands_in_town.csv'))\n",
    "total_residentadvisor = pd.read_csv(os.path.join('./total_residentadvisor.csv'))\n",
    "total_routedesfestivals = pd.read_csv(os.path.join('./total_routedesfestivals.csv'))"
   ]
  },
  {
   "cell_type": "markdown",
   "metadata": {},
   "source": [
    "## Unifying the representation\n",
    "The data gathered on several platforms came in a handful of shapes that we should now normalize while retaining as much information. We will discards platforms only'ids."
   ]
  },
  {
   "cell_type": "markdown",
   "metadata": {},
   "source": [
    "#### Events.ch\n",
    "à compléter"
   ]
  },
  {
   "cell_type": "code",
   "execution_count": 4,
   "metadata": {
    "collapsed": false
   },
   "outputs": [],
   "source": [
    "total_eventsch['Date'] = pd.to_datetime(total_eventsch['Date'])\n",
    "total_eventsch['Date'] = total_eventsch['Date'].apply( lambda x: x.date() )"
   ]
  },
  {
   "cell_type": "markdown",
   "metadata": {},
   "source": [
    "#### BandsInTown\n",
    "à compléter"
   ]
  },
  {
   "cell_type": "code",
   "execution_count": 5,
   "metadata": {
    "collapsed": false,
    "scrolled": true
   },
   "outputs": [],
   "source": [
    "total_bands_in_town.drop(['artist_url', 'event_id', 'event_url', 'event_venue.region', 'event_venue.url', 'event_venue.id'], 1, inplace=True)\n",
    "\n",
    "#Convert time column to datetime objects\n",
    "total_bands_in_town['event_datetime'] = pd.to_datetime(total_bands_in_town['event_datetime'])\n",
    "#Remove time from dates\n",
    "total_bands_in_town['event_datetime'] = total_bands_in_town['event_datetime'].apply( lambda x: x.date() )"
   ]
  },
  {
   "cell_type": "code",
   "execution_count": 6,
   "metadata": {
    "collapsed": false
   },
   "outputs": [
    {
     "data": {
      "text/html": [
       "<div>\n",
       "<table border=\"1\" class=\"dataframe\">\n",
       "  <thead>\n",
       "    <tr style=\"text-align: right;\">\n",
       "      <th></th>\n",
       "      <th>artist_name</th>\n",
       "      <th>event_datetime</th>\n",
       "      <th>event_venue.city</th>\n",
       "      <th>event_venue.latitude</th>\n",
       "      <th>event_venue.longitude</th>\n",
       "      <th>event_venue.name</th>\n",
       "    </tr>\n",
       "  </thead>\n",
       "  <tbody>\n",
       "    <tr>\n",
       "      <th>0</th>\n",
       "      <td>Groombridge</td>\n",
       "      <td>2006-01-06</td>\n",
       "      <td>Langenthal</td>\n",
       "      <td>47.212060</td>\n",
       "      <td>7.789998</td>\n",
       "      <td>Rock in Church</td>\n",
       "    </tr>\n",
       "    <tr>\n",
       "      <th>1</th>\n",
       "      <td>Painhead</td>\n",
       "      <td>2006-01-07</td>\n",
       "      <td>Rorschach</td>\n",
       "      <td>47.477928</td>\n",
       "      <td>9.495190</td>\n",
       "      <td>Hafenbuffet</td>\n",
       "    </tr>\n",
       "    <tr>\n",
       "      <th>2</th>\n",
       "      <td>shEver</td>\n",
       "      <td>2006-01-14</td>\n",
       "      <td>Zug</td>\n",
       "      <td>47.182220</td>\n",
       "      <td>8.520760</td>\n",
       "      <td>Industrie 45</td>\n",
       "    </tr>\n",
       "    <tr>\n",
       "      <th>3</th>\n",
       "      <td>Painhead</td>\n",
       "      <td>2006-01-15</td>\n",
       "      <td>Gossau (Sankt Gallen)</td>\n",
       "      <td>47.414415</td>\n",
       "      <td>9.254950</td>\n",
       "      <td>The Office</td>\n",
       "    </tr>\n",
       "    <tr>\n",
       "      <th>4</th>\n",
       "      <td>Mando Diao</td>\n",
       "      <td>2006-01-21</td>\n",
       "      <td>Laax</td>\n",
       "      <td>46.800000</td>\n",
       "      <td>9.250000</td>\n",
       "      <td>PALACE CLUB AT RIDERS PALACE</td>\n",
       "    </tr>\n",
       "    <tr>\n",
       "      <th>5</th>\n",
       "      <td>Foo Fighters</td>\n",
       "      <td>2006-01-25</td>\n",
       "      <td>Winterthur</td>\n",
       "      <td>47.495655</td>\n",
       "      <td>8.748480</td>\n",
       "      <td>Eishalle Duetwag</td>\n",
       "    </tr>\n",
       "    <tr>\n",
       "      <th>6</th>\n",
       "      <td>Groombridge</td>\n",
       "      <td>2006-01-27</td>\n",
       "      <td>Burgdorf</td>\n",
       "      <td>47.050000</td>\n",
       "      <td>7.616667</td>\n",
       "      <td>Gymfest</td>\n",
       "    </tr>\n",
       "    <tr>\n",
       "      <th>7</th>\n",
       "      <td>Groombridge</td>\n",
       "      <td>2007-01-01</td>\n",
       "      <td>Berne</td>\n",
       "      <td>46.948432</td>\n",
       "      <td>7.440461</td>\n",
       "      <td>ONO</td>\n",
       "    </tr>\n",
       "    <tr>\n",
       "      <th>8</th>\n",
       "      <td>Painhead</td>\n",
       "      <td>2007-01-06</td>\n",
       "      <td>Sommeri</td>\n",
       "      <td>47.566667</td>\n",
       "      <td>9.283333</td>\n",
       "      <td>Löwenarena</td>\n",
       "    </tr>\n",
       "    <tr>\n",
       "      <th>9</th>\n",
       "      <td>shEver</td>\n",
       "      <td>2007-01-13</td>\n",
       "      <td>Zurich</td>\n",
       "      <td>47.386620</td>\n",
       "      <td>8.534380</td>\n",
       "      <td>Werk21</td>\n",
       "    </tr>\n",
       "  </tbody>\n",
       "</table>\n",
       "</div>"
      ],
      "text/plain": [
       "    artist_name event_datetime       event_venue.city  event_venue.latitude  \\\n",
       "0   Groombridge     2006-01-06             Langenthal             47.212060   \n",
       "1      Painhead     2006-01-07              Rorschach             47.477928   \n",
       "2        shEver     2006-01-14                    Zug             47.182220   \n",
       "3      Painhead     2006-01-15  Gossau (Sankt Gallen)             47.414415   \n",
       "4    Mando Diao     2006-01-21                   Laax             46.800000   \n",
       "5  Foo Fighters     2006-01-25             Winterthur             47.495655   \n",
       "6   Groombridge     2006-01-27               Burgdorf             47.050000   \n",
       "7   Groombridge     2007-01-01                  Berne             46.948432   \n",
       "8      Painhead     2007-01-06                Sommeri             47.566667   \n",
       "9        shEver     2007-01-13                 Zurich             47.386620   \n",
       "\n",
       "   event_venue.longitude              event_venue.name  \n",
       "0               7.789998                Rock in Church  \n",
       "1               9.495190                   Hafenbuffet  \n",
       "2               8.520760                  Industrie 45  \n",
       "3               9.254950                    The Office  \n",
       "4               9.250000  PALACE CLUB AT RIDERS PALACE  \n",
       "5               8.748480              Eishalle Duetwag  \n",
       "6               7.616667                      Gymfest   \n",
       "7               7.440461                           ONO  \n",
       "8               9.283333                    Löwenarena  \n",
       "9               8.534380                        Werk21  "
      ]
     },
     "execution_count": 6,
     "metadata": {},
     "output_type": "execute_result"
    }
   ],
   "source": [
    "total_bands_in_town.head(10)"
   ]
  },
  {
   "cell_type": "markdown",
   "metadata": {},
   "source": [
    "##### Venues location\n",
    "Bands in Town data associates coordinates to each venue, which could be interesting for representing our findings on maps. We will extract those in a separate DataFrame, and then drop the coordinates from the events DataFrame. For simplicity, we will leave in the venue and city columns. We will come back to the venues DataFrame later on."
   ]
  },
  {
   "cell_type": "code",
   "execution_count": 7,
   "metadata": {
    "collapsed": false,
    "scrolled": false
   },
   "outputs": [],
   "source": [
    "#Better to drop the coordinates from the event frame for clarity\n",
    "venues = total_bands_in_town[['event_venue.name', 'event_venue.city', 'event_venue.latitude', 'event_venue.longitude']].copy()\n",
    "total_bands_in_town.drop(['event_venue.latitude', 'event_venue.longitude'], 1, inplace=True)\n",
    "\n",
    "venues.drop_duplicates(subset=['event_venue.longitude', 'event_venue.latitude'], inplace=True)\n",
    "venues.drop_duplicates('event_venue.name', inplace=True)\n",
    "venues.set_index('event_venue.name', drop=True, append=False, inplace=True)\n",
    "del venues.index.name\n",
    "venues = venues.sort_index()\n",
    "\n",
    "venues_ra = total_residentadvisor[['club_name', 'club_adress']].copy()\n",
    "venues_ra.drop_duplicates('club_name', inplace=True)\n",
    "venues_ra.set_index('club_name', drop=True, append=False, inplace=True)\n",
    "del venues_ra.index.name\n",
    "\n",
    "total_bands_in_town.columns = ['Artist', 'Date', 'City', 'Venue']"
   ]
  },
  {
   "cell_type": "markdown",
   "metadata": {},
   "source": [
    "#### ResidentAdvisor\n",
    "à compléter"
   ]
  },
  {
   "cell_type": "code",
   "execution_count": 8,
   "metadata": {
    "collapsed": false
   },
   "outputs": [],
   "source": [
    "#Extract cities from addresses of clubs in ResidentAdvisor data\n",
    "for i, address in zip(total_residentadvisor.index, total_residentadvisor.club_adress) :\n",
    "    total_residentadvisor.set_value(i, 'City', address.rsplit(None, 1)[-1])\n",
    "    \n",
    "\n",
    "#Manually fill wrong entries\n",
    "total_residentadvisor.set_value(total_residentadvisor.loc[total_residentadvisor['City'] == '2' ].index.tolist(), 'City', 'Zurich')\n",
    "total_residentadvisor.set_value(total_residentadvisor.loc[total_residentadvisor['City'] == '1009' ].index.tolist(), 'City', 'Pully')\n",
    "total_residentadvisor.set_value(total_residentadvisor.loc[total_residentadvisor['City'] == '4001' ].index.tolist(), 'City', 'Basel')\n",
    "total_residentadvisor.set_value(total_residentadvisor.loc[total_residentadvisor['City'] == '1227' ].index.tolist(), 'City', 'Geneva')\n",
    "total_residentadvisor.set_value(total_residentadvisor.loc[total_residentadvisor['City'] == 'BL' ].index.tolist(), 'City', 'Münchenstein')\n",
    "total_residentadvisor.set_value(total_residentadvisor.loc[total_residentadvisor['City'] == '40/42' ].index.tolist(), 'City', 'Wetzikon')\n",
    "total_residentadvisor.set_value(total_residentadvisor.loc[total_residentadvisor['City'] == '22' ].index.tolist(), 'City', 'Bern')\n",
    "total_residentadvisor.set_value(total_residentadvisor.loc[total_residentadvisor['City'] == '/' ].index.tolist(), 'City', 'Murten')\n",
    "total_residentadvisor.set_value(total_residentadvisor.loc[total_residentadvisor['City'] == '253' ].index.tolist(), 'City', 'Les Diablerets')\n",
    "total_residentadvisor.set_value(total_residentadvisor.loc[total_residentadvisor['City'] == '14' ].index.tolist(), 'City', 'Basel')\n",
    "total_residentadvisor.set_value(total_residentadvisor.loc[total_residentadvisor['City'] == '10' ].index.tolist(), 'City', 'Basel')\n",
    "total_residentadvisor.set_value(total_residentadvisor.loc[total_residentadvisor['City'] == '-' ].index.tolist(), 'City', 'Biel/Bienne')\n",
    "total_residentadvisor.set_value(total_residentadvisor.loc[total_residentadvisor['City'] == '(GR)' ].index.tolist(), 'City', 'Klosters')\n",
    "total_residentadvisor.set_value(total_residentadvisor.loc[total_residentadvisor['City'] == 'ZH' ].index.tolist(), 'City', 'Zurich')\n",
    "total_residentadvisor.set_value(total_residentadvisor.loc[total_residentadvisor['City'] == '4058' ].index.tolist(), 'City', 'Basel')\n",
    "total_residentadvisor.set_value(total_residentadvisor.loc[total_residentadvisor['City'] == '1' ].index.tolist(), 'City', 'Baden')\n",
    "total_residentadvisor.set_value(total_residentadvisor.loc[total_residentadvisor['City'] == '6020' ].index.tolist(), 'City', 'Emmenbrücke')\n",
    "total_residentadvisor.set_value(total_residentadvisor.loc[total_residentadvisor['City'] == '8143' ].index.tolist(), 'City', 'Zurich')\n",
    "total_residentadvisor.set_value(total_residentadvisor.loc[total_residentadvisor['City'] == '2,6612,Ascona,(Ti),CH' ].index.tolist(), 'City', 'Ascona')\n",
    "total_residentadvisor.set_value(total_residentadvisor.loc[total_residentadvisor['City'] == 'ZG' ].index.tolist(), 'City', 'Baar ')\n",
    "\n",
    "total_residentadvisor.set_value(total_residentadvisor.loc[total_residentadvisor['club_adress'] == 'Rue des Grands-Vergers, 1957 Ardon, CH' ].index.tolist(), 'City', 'Ardon')\n",
    "total_residentadvisor.set_value(total_residentadvisor.loc[total_residentadvisor['club_adress'] == 'Av. de Tivoli 3, Fribourg, 1700, CH' ].index.tolist(), 'City', 'Fribourg')\n",
    "total_residentadvisor.set_value(total_residentadvisor.loc[total_residentadvisor['club_adress'] == 'Köniz, 3098, 9 Schulhausgässli, CH' ].index.tolist(), 'City', 'Köniz')\n",
    "total_residentadvisor.set_value(total_residentadvisor.loc[total_residentadvisor['club_adress'] == 'Unterer Graben 17, 9000 St. Gallen, CH' ].index.tolist(), 'City', 'St. Gallen')\n",
    "total_residentadvisor.set_value(total_residentadvisor.loc[total_residentadvisor['club_adress'] == 'Viale Castagnola 6, 6900 Lugano, CH' ].index.tolist(), 'City', 'Lugano')\n",
    "total_residentadvisor.set_value(total_residentadvisor.loc[total_residentadvisor['club_adress'] == 'Via Alla Foce 1, 6982 Agno, Ticino, CH' ].index.tolist(), 'City', 'Agno')\n",
    "total_residentadvisor.set_value(total_residentadvisor.loc[total_residentadvisor['club_adress'] == 'Via Pioda 12, 6900 Lugano, CH' ].index.tolist(), 'City', 'Lugano')\n",
    "total_residentadvisor.set_value(total_residentadvisor.loc[total_residentadvisor['club_adress'] == 'Ancienne-Pointe 16, 1920 Martigny, CH' ].index.tolist(), 'City', 'Martigny')\n",
    "total_residentadvisor.set_value(total_residentadvisor.loc[total_residentadvisor['club_adress'] == 'Freilager-Platz 9, 4142 Münchenstein/Basel, CH' ].index.tolist(), 'City', 'Basel')\n",
    "total_residentadvisor.set_value(total_residentadvisor.loc[total_residentadvisor['club_adress'] == 'Via Industria 4; 6814, Lamone Ticino' ].index.tolist(), 'City', 'Lamone')\n",
    "total_residentadvisor.set_value(total_residentadvisor.loc[total_residentadvisor['club_adress'] == 'Ponte Capriasca, Ticino' ].index.tolist(), 'City', 'Ponte Capriasca')\n",
    "total_residentadvisor.set_value(total_residentadvisor.loc[total_residentadvisor['club_adress'] == 'Case postale 352 Crans, Valais' ].index.tolist(), 'City', 'Crans-Montana')\n",
    "total_residentadvisor.set_value(total_residentadvisor.loc[total_residentadvisor['club_adress'] == 'Place centrale, 1997 Nendaz, Valais' ].index.tolist(), 'City', 'Nendaz')\n",
    "total_residentadvisor.set_value(total_residentadvisor.loc[total_residentadvisor['club_adress'] == 'Place de la Gare, 1957 Ardon, Valais, Suisse' ].index.tolist(), 'City', 'Ardon')\n",
    "total_residentadvisor.set_value(total_residentadvisor.loc[total_residentadvisor['club_adress'] == 'Rue du Commerce 122, 2300 La Chaux-de-Fonds, Suisse' ].index.tolist(), 'City', 'La Chaux-de-Fonds')\n",
    "total_residentadvisor.set_value(total_residentadvisor.loc[total_residentadvisor['club_adress'] == 'Place Centrale, 1870 Monthey, Valais, Suisse' ].index.tolist(), 'City', 'Monthey')\n",
    "total_residentadvisor.set_value(total_residentadvisor.loc[total_residentadvisor['club_adress'] == 'Chemin des Batailles, 1214 VERNIER (GENEVE), Suisse' ].index.tolist(), 'City', 'Vernier')\n",
    "total_residentadvisor.set_value(total_residentadvisor.loc[total_residentadvisor['club_adress'] == 'Rue de Vevey 34, 1630 Bulle, SWITZERLAND' ].index.tolist(), 'City', 'Bulle')\n",
    "total_residentadvisor.set_value(total_residentadvisor.loc[total_residentadvisor['club_adress'] == 'Sant Gallen, SWITZERLAND' ].index.tolist(), 'City', 'St. Gallen')\n",
    "total_residentadvisor.set_value(total_residentadvisor.loc[total_residentadvisor['club_adress'] == 'Steinberggasse 16' ].index.tolist(), 'City', 'Winterthur')\n",
    "total_residentadvisor.set_value(total_residentadvisor.loc[total_residentadvisor['club_adress'] == 'St. Annagasse 16' ].index.tolist(), 'City', 'Zurich')\n",
    "\n",
    "total_residentadvisor.drop(total_residentadvisor.loc[total_residentadvisor['City'] == 'Liechtenstein' ].index.tolist(), inplace=True)\n",
    "\n",
    "total_residentadvisor.drop(['club_adress'], 1, inplace=True)\n",
    "\n",
    "#Convert events date to datetime objects\n",
    "for i, date in zip(total_residentadvisor.index, total_residentadvisor.date) :\n",
    "    total_residentadvisor.set_value(i, 'date', pd.to_datetime(date[5:]))\n",
    "#Remove hour from dates\n",
    "total_residentadvisor['date'] = total_residentadvisor['date'].apply( lambda x: x.date() )        \n",
    "\n",
    "total_residentadvisor.columns = ['Venue', 'Date', 'Artist', 'City']"
   ]
  },
  {
   "cell_type": "code",
   "execution_count": 9,
   "metadata": {
    "collapsed": false
   },
   "outputs": [
    {
     "data": {
      "text/html": [
       "<div>\n",
       "<table border=\"1\" class=\"dataframe\">\n",
       "  <thead>\n",
       "    <tr style=\"text-align: right;\">\n",
       "      <th></th>\n",
       "      <th>Venue</th>\n",
       "      <th>Date</th>\n",
       "      <th>Artist</th>\n",
       "      <th>City</th>\n",
       "    </tr>\n",
       "  </thead>\n",
       "  <tbody>\n",
       "    <tr>\n",
       "      <th>0</th>\n",
       "      <td>2. Akt Restaurant &amp; Bar</td>\n",
       "      <td>2015-09-19</td>\n",
       "      <td>Affani</td>\n",
       "      <td>Zurich</td>\n",
       "    </tr>\n",
       "    <tr>\n",
       "      <th>1</th>\n",
       "      <td>2. Akt Restaurant &amp; Bar</td>\n",
       "      <td>2015-09-19</td>\n",
       "      <td>Mark Faermont</td>\n",
       "      <td>Zurich</td>\n",
       "    </tr>\n",
       "    <tr>\n",
       "      <th>2</th>\n",
       "      <td>2. Akt Restaurant &amp; Bar</td>\n",
       "      <td>2015-09-12</td>\n",
       "      <td>Mucho Stylez</td>\n",
       "      <td>Zurich</td>\n",
       "    </tr>\n",
       "    <tr>\n",
       "      <th>3</th>\n",
       "      <td>2. Akt Restaurant &amp; Bar</td>\n",
       "      <td>2015-07-03</td>\n",
       "      <td>Mucho Stylez</td>\n",
       "      <td>Zurich</td>\n",
       "    </tr>\n",
       "    <tr>\n",
       "      <th>4</th>\n",
       "      <td>2. Akt Restaurant &amp; Bar</td>\n",
       "      <td>2015-06-13</td>\n",
       "      <td>Mucho Stylez</td>\n",
       "      <td>Zurich</td>\n",
       "    </tr>\n",
       "    <tr>\n",
       "      <th>5</th>\n",
       "      <td>2. Akt Restaurant &amp; Bar</td>\n",
       "      <td>2015-03-21</td>\n",
       "      <td>Mark Faermont</td>\n",
       "      <td>Zurich</td>\n",
       "    </tr>\n",
       "    <tr>\n",
       "      <th>6</th>\n",
       "      <td>2. Akt Restaurant &amp; Bar</td>\n",
       "      <td>2015-01-17</td>\n",
       "      <td>Carlos Russo</td>\n",
       "      <td>Zurich</td>\n",
       "    </tr>\n",
       "    <tr>\n",
       "      <th>7</th>\n",
       "      <td>2. Akt Restaurant &amp; Bar</td>\n",
       "      <td>2015-01-17</td>\n",
       "      <td>Mark Faermont</td>\n",
       "      <td>Zurich</td>\n",
       "    </tr>\n",
       "    <tr>\n",
       "      <th>8</th>\n",
       "      <td>2. Akt Restaurant &amp; Bar</td>\n",
       "      <td>2014-11-29</td>\n",
       "      <td>Tonka</td>\n",
       "      <td>Zurich</td>\n",
       "    </tr>\n",
       "    <tr>\n",
       "      <th>9</th>\n",
       "      <td>2. Akt Restaurant &amp; Bar</td>\n",
       "      <td>2014-11-29</td>\n",
       "      <td>Mark Faermont</td>\n",
       "      <td>Zurich</td>\n",
       "    </tr>\n",
       "  </tbody>\n",
       "</table>\n",
       "</div>"
      ],
      "text/plain": [
       "                      Venue        Date         Artist    City\n",
       "0   2. Akt Restaurant & Bar  2015-09-19         Affani  Zurich\n",
       "1   2. Akt Restaurant & Bar  2015-09-19  Mark Faermont  Zurich\n",
       "2   2. Akt Restaurant & Bar  2015-09-12   Mucho Stylez  Zurich\n",
       "3   2. Akt Restaurant & Bar  2015-07-03   Mucho Stylez  Zurich\n",
       "4   2. Akt Restaurant & Bar  2015-06-13   Mucho Stylez  Zurich\n",
       "5   2. Akt Restaurant & Bar  2015-03-21  Mark Faermont  Zurich\n",
       "6   2. Akt Restaurant & Bar  2015-01-17   Carlos Russo  Zurich\n",
       "7   2. Akt Restaurant & Bar  2015-01-17  Mark Faermont  Zurich\n",
       "8   2. Akt Restaurant & Bar  2014-11-29          Tonka  Zurich\n",
       "9   2. Akt Restaurant & Bar  2014-11-29  Mark Faermont  Zurich"
      ]
     },
     "execution_count": 9,
     "metadata": {},
     "output_type": "execute_result"
    }
   ],
   "source": [
    "total_residentadvisor.head(10)"
   ]
  },
  {
   "cell_type": "markdown",
   "metadata": {},
   "source": [
    "#### RouteDesFestivals\n",
    "à compléter"
   ]
  },
  {
   "cell_type": "code",
   "execution_count": 10,
   "metadata": {
    "collapsed": false,
    "scrolled": true
   },
   "outputs": [],
   "source": [
    "#make the three time columns into a single date column\n",
    "\n",
    "total_routedesfestivals.month.unique()\n",
    "for i, month in zip(total_routedesfestivals.index, total_routedesfestivals.month) :\n",
    "    if month == 'Jan.':\n",
    "        total_routedesfestivals.set_value(i, 'month', 1.0)\n",
    "    if month == 'Fev.':\n",
    "        total_routedesfestivals.set_value(i, 'month', 2.0)\n",
    "    if month == 'Mar.':\n",
    "        total_routedesfestivals.set_value(i, 'month', 3.0)\n",
    "    if month == 'Avr.':\n",
    "        total_routedesfestivals.set_value(i, 'month', 4.0)    \n",
    "    if month == 'Mai':\n",
    "        total_routedesfestivals.set_value(i, 'month', 5.0)   \n",
    "    if month == 'Juin':\n",
    "        total_routedesfestivals.set_value(i, 'month', 6.0)      \n",
    "    if month == 'Juil.':\n",
    "        total_routedesfestivals.set_value(i, 'month', 7.0)\n",
    "    if month == 'Aout':\n",
    "        total_routedesfestivals.set_value(i, 'month', 8.0)    \n",
    "    if month == 'Sep.':\n",
    "        total_routedesfestivals.set_value(i, 'month', 9.0)\n",
    "    if month == 'Oct.':\n",
    "        total_routedesfestivals.set_value(i, 'month', 10.0)        \n",
    "    if month == 'Nov.':\n",
    "        total_routedesfestivals.set_value(i, 'month', 11.0)   \n",
    "    if month == 'Dec.':\n",
    "        total_routedesfestivals.set_value(i, 'month', 12.0)\n",
    "        \n",
    "total_routedesfestivals.dropna(0, inplace=True)    \n",
    "\n",
    "total_routedesfestivals.month.apply(lambda x: pd.to_numeric(x))\n",
    "total_routedesfestivals['Date'] = pd.to_datetime(total_routedesfestivals.year*10000 + total_routedesfestivals.month*100 + total_routedesfestivals.day, format=\"%Y%m%d\")\n",
    "total_routedesfestivals.drop(['day', 'month', 'year'], 1, inplace=True)\n",
    "\n",
    "#We add this line to avoid type error on the datetimeindex when concatenating all frames\n",
    "total_routedesfestivals['Date'] = pd.to_datetime(total_routedesfestivals['Date'])\n",
    "#Remove hour from dates\n",
    "total_routedesfestivals['Date'] = total_routedesfestivals['Date'].apply( lambda x: x.date() )\n",
    "\n",
    "total_routedesfestivals.columns = ['Venue', 'Artist', 'City', 'Date']"
   ]
  },
  {
   "cell_type": "code",
   "execution_count": 11,
   "metadata": {
    "collapsed": false
   },
   "outputs": [
    {
     "data": {
      "text/html": [
       "<div>\n",
       "<table border=\"1\" class=\"dataframe\">\n",
       "  <thead>\n",
       "    <tr style=\"text-align: right;\">\n",
       "      <th></th>\n",
       "      <th>Venue</th>\n",
       "      <th>Artist</th>\n",
       "      <th>City</th>\n",
       "      <th>Date</th>\n",
       "    </tr>\n",
       "  </thead>\n",
       "  <tbody>\n",
       "    <tr>\n",
       "      <th>0</th>\n",
       "      <td>6 HOURS OF SYMPHONIA</td>\n",
       "      <td>SYNMETALIUM</td>\n",
       "      <td>Lausanne</td>\n",
       "      <td>2017-04-01</td>\n",
       "    </tr>\n",
       "    <tr>\n",
       "      <th>1</th>\n",
       "      <td>6 HOURS OF SYMPHONIA</td>\n",
       "      <td>EVENMORE</td>\n",
       "      <td>Lausanne</td>\n",
       "      <td>2017-04-01</td>\n",
       "    </tr>\n",
       "    <tr>\n",
       "      <th>2</th>\n",
       "      <td>6 HOURS OF SYMPHONIA</td>\n",
       "      <td>SECHEM</td>\n",
       "      <td>Lausanne</td>\n",
       "      <td>2017-04-01</td>\n",
       "    </tr>\n",
       "    <tr>\n",
       "      <th>3</th>\n",
       "      <td>6 HOURS OF SYMPHONIA</td>\n",
       "      <td>BEYOND FORGIVENESS</td>\n",
       "      <td>Lausanne</td>\n",
       "      <td>2017-04-01</td>\n",
       "    </tr>\n",
       "    <tr>\n",
       "      <th>4</th>\n",
       "      <td>ANTIGEL</td>\n",
       "      <td>ZERO</td>\n",
       "      <td>Geneve</td>\n",
       "      <td>2017-01-27</td>\n",
       "    </tr>\n",
       "    <tr>\n",
       "      <th>5</th>\n",
       "      <td>ANTIGEL</td>\n",
       "      <td>MAY B (MAGUY MARIN)</td>\n",
       "      <td>Geneve</td>\n",
       "      <td>2017-01-28</td>\n",
       "    </tr>\n",
       "    <tr>\n",
       "      <th>6</th>\n",
       "      <td>ANTIGEL</td>\n",
       "      <td>MAY B (MAGUY MARIN)</td>\n",
       "      <td>Geneve</td>\n",
       "      <td>2017-01-29</td>\n",
       "    </tr>\n",
       "    <tr>\n",
       "      <th>7</th>\n",
       "      <td>ANTIGEL</td>\n",
       "      <td>TRENTEMOLLER</td>\n",
       "      <td>Geneve</td>\n",
       "      <td>2017-02-02</td>\n",
       "    </tr>\n",
       "    <tr>\n",
       "      <th>8</th>\n",
       "      <td>ANTIGEL</td>\n",
       "      <td>THE NOTWIST</td>\n",
       "      <td>Geneve</td>\n",
       "      <td>2017-02-03</td>\n",
       "    </tr>\n",
       "    <tr>\n",
       "      <th>9</th>\n",
       "      <td>ANTIGEL</td>\n",
       "      <td>HENRI DES</td>\n",
       "      <td>Geneve</td>\n",
       "      <td>2017-02-05</td>\n",
       "    </tr>\n",
       "  </tbody>\n",
       "</table>\n",
       "</div>"
      ],
      "text/plain": [
       "                  Venue               Artist      City        Date\n",
       "0  6 HOURS OF SYMPHONIA          SYNMETALIUM  Lausanne  2017-04-01\n",
       "1  6 HOURS OF SYMPHONIA             EVENMORE  Lausanne  2017-04-01\n",
       "2  6 HOURS OF SYMPHONIA               SECHEM  Lausanne  2017-04-01\n",
       "3  6 HOURS OF SYMPHONIA   BEYOND FORGIVENESS  Lausanne  2017-04-01\n",
       "4               ANTIGEL                 ZERO    Geneve  2017-01-27\n",
       "5               ANTIGEL  MAY B (MAGUY MARIN)    Geneve  2017-01-28\n",
       "6               ANTIGEL  MAY B (MAGUY MARIN)    Geneve  2017-01-29\n",
       "7               ANTIGEL         TRENTEMOLLER    Geneve  2017-02-02\n",
       "8               ANTIGEL          THE NOTWIST    Geneve  2017-02-03\n",
       "9               ANTIGEL            HENRI DES    Geneve  2017-02-05"
      ]
     },
     "execution_count": 11,
     "metadata": {},
     "output_type": "execute_result"
    }
   ],
   "source": [
    "total_routedesfestivals.head(10)"
   ]
  },
  {
   "cell_type": "markdown",
   "metadata": {},
   "source": [
    "#### Putting it all together"
   ]
  },
  {
   "cell_type": "code",
   "execution_count": 12,
   "metadata": {
    "collapsed": false
   },
   "outputs": [
    {
     "data": {
      "text/plain": [
       "(187447, 4)"
      ]
     },
     "execution_count": 12,
     "metadata": {},
     "output_type": "execute_result"
    }
   ],
   "source": [
    "total_events = pd.concat([total_eventsch, total_bands_in_town, total_routedesfestivals, total_residentadvisor])\n",
    "\n",
    "total_events.set_index('Date', drop=True, append=False, inplace=True)\n",
    "del total_events.index.name\n",
    "\n",
    "#TypeError: can't compare datetime.datetime to datetime.date\n",
    "total_events = total_events.sort_index()\n",
    "\n",
    "total_events.shape"
   ]
  },
  {
   "cell_type": "code",
   "execution_count": 175,
   "metadata": {
    "collapsed": false
   },
   "outputs": [
    {
     "name": "stdout",
     "output_type": "stream",
     "text": [
      "Total events data saved to file\n"
     ]
    }
   ],
   "source": [
    "#Write the DataFrame to a csv file\n",
    "filename = 'total_events.csv'\n",
    "pd.DataFrame(total_events, columns=list(total_events.columns)).to_csv(filename, index=False, encoding=\"utf-8\")\n",
    "print('Total events data saved to file')"
   ]
  },
  {
   "cell_type": "markdown",
   "metadata": {},
   "source": [
    "## Genres and origins\n",
    "\n",
    "Divide the data we have after calling the MusicGraph API into two subsets : one which has value filled in nicely (~35%) which  we'll call clean, another one with 'assumed' correct artist names but missing genre and origin information, and a third where information is missing, and rows may contain more than one artist in their name. The last subset may require extra handling care with regard to the events frame.\n"
   ]
  },
  {
   "cell_type": "code",
   "execution_count": 124,
   "metadata": {
    "collapsed": false
   },
   "outputs": [
    {
     "data": {
      "text/plain": [
       "0"
      ]
     },
     "execution_count": 124,
     "metadata": {},
     "output_type": "execute_result"
    }
   ],
   "source": [
    "#Get Spotify genre data\n",
    "total_spotify    = pd.read_csv(os.path.join('./total_artists_Spotify.csv'))\n",
    "total_spotify    = total_spotify.loc[pd.isnull(total_spotify['genre']) == False]\n",
    "#Get MusicGraph genre and origin data\n",
    "total_musicgraph = pd.read_csv(os.path.join('./total_artists_MusicGraph.csv'))\n",
    "\n",
    "\n",
    "musicgraph_missing = total_musicgraph.loc[total_musicgraph['no_result'] == 1]\n",
    "musicgraph_several = musicgraph_missing[musicgraph_missing.name.str.contains(',')]\n",
    "musicgraph_missing = musicgraph_missing.select(lambda x: x not in musicgraph_several.index)"
   ]
  },
  {
   "cell_type": "markdown",
   "metadata": {},
   "source": [
    "First, we will try to fill in the missing genre value with the data acquired from Spotify. To do so, we first have to clean Spotify data, which gives us very specific genres (720 !) instead of global names such as MusicGenre. Some origin information may also be included in the specific genres, which we should look for carefully.\n"
   ]
  },
  {
   "cell_type": "code",
   "execution_count": 155,
   "metadata": {
    "collapsed": false
   },
   "outputs": [],
   "source": [
    "#Create a dict of Country adjective to Country name\n",
    "country_dict = {}\n",
    "for key, value in country_demonyms.COUNTRY_DEMONYMS.items():\n",
    "    country_dict[value.lower()] = key.lower().title()\n",
    "    \n",
    "country_dict['persian'] = 'Iran'\n",
    "country_dict['breton'] = 'France'\n",
    "country_dict['argentine'] = 'Argentina'\n",
    "country_dict['fado'] = 'Portugal'\n",
    "country_dict['quebecois'] = 'Canada'\n",
    "country_dict['americana'] = 'United States'\n",
    "country_dict['j-ambient'] = 'Japan'\n",
    "country_dict['k-pop'] = 'Korea'\n",
    "country_dict['uk'] = 'United Kingdom'\n",
    "country_dict['k-indie'] = 'Korea'\n",
    "country_dict['j-reggae'] = 'Japan'\n",
    "country_dict['j-metal'] = 'Japan'\n",
    "country_dict['j-core'] = 'Japan'\n",
    "country_dict['j-punk'] = 'Japan'\n",
    "country_dict['sertanejo'] = 'Brasil'\n",
    "country_dict['japanoise'] = 'Japan'\n",
    "country_dict['magyar'] = 'Hungary'\n",
    "country_dict['j-rock'] = 'Japan'\n",
    "country_dict['francais'] = 'France'\n",
    "\n",
    "country_dict['chalga'] = 'Bulgaria'\n",
    "country_dict['j-metal'] = 'Japan'\n",
    "country_dict['j-core'] = 'Japan'\n",
    "country_dict['magyar'] = 'Hungary'\n",
    "country_dict['j-metal'] = 'Japan'\n",
    "country_dict['j-core'] = 'Japan'\n",
    "country_dict['magyar'] = 'Hungary'"
   ]
  },
  {
   "cell_type": "code",
   "execution_count": 156,
   "metadata": {
    "collapsed": false
   },
   "outputs": [
    {
     "name": "stdout",
     "output_type": "stream",
     "text": [
      "Total number of genres from Spotify : 276\n",
      "With Spotifiy, we get the origin of  56 more artists.\n"
     ]
    }
   ],
   "source": [
    "total_musicgraph.genre.unique()\n",
    "total_spotify = total_spotify.select(lambda x: (x in musicgraph_several.index) or (x in musicgraph_missing.index))\n",
    "print('Total number of genres from Spotify :', total_spotify.genre.unique().size)\n",
    "\n",
    "\n",
    "i=0\n",
    "for index, genre in zip(total_spotify.index, total_spotify.genre) :\n",
    "    for word in genre.split() :\n",
    "        if word in country_dict :\n",
    "            if index in musicgraph_missing.index :\n",
    "                musicgraph_missing.set_value(index, 'origin', country_dict[word])\n",
    "            elif index in musicgraph_several.index :\n",
    "                musicgraph_several.set_value(index, 'origin', country_dict[word])\n",
    "            i+=1\n",
    "print('With Spotifiy, we get the origin of ', i, 'more artists.')\n"
   ]
  },
  {
   "cell_type": "code",
   "execution_count": 157,
   "metadata": {
    "collapsed": false
   },
   "outputs": [
    {
     "data": {
      "text/plain": [
       "276"
      ]
     },
     "execution_count": 157,
     "metadata": {},
     "output_type": "execute_result"
    }
   ],
   "source": [
    "total_spotify.genre.unique().size"
   ]
  },
  {
   "cell_type": "code",
   "execution_count": 162,
   "metadata": {
    "collapsed": false
   },
   "outputs": [
    {
     "name": "stdout",
     "output_type": "stream",
     "text": [
      "With Spotifiy, we get the genre of  18 more artists.\n"
     ]
    }
   ],
   "source": [
    "genre_dict = {}\n",
    "\n",
    "# We will have to simplify as we don't have so much time for thorough classification of genres\n",
    "Electronica = ['house', 'chalga', 'japanoise', 'lounge', 'psytrance', 'tekno','indietronica', 'electronica',  'techno','disco', 'j-ambient',   'noise', 'bass', 'electroclash', 'wave', 'trance', 'ambient', 'dancehall', 'beat', 'dance', 'dub', 'electro', 'eurodance', 'dubstep', 'electronic', 'psych', 'industrial']\n",
    "for key in Electronica:\n",
    "    genre_dict[key] = 'Electronica/Dance'\n",
    "\n",
    "Rock = ['rock','rock-and-roll', 'j-punk','grunge','breakcore', 'goregrind','orgcore','j-rock', 'alternative', 'j-core', 'j-metal', 'k-indie', 'screamocore', 'grindcore', 'nerdcore',  'doomcore', 'sludge',   'core','deathcore',  'gamecore', 'metalcore','post-punk' 'garage','thrash','post-metal', 'edge', 'mathcore',  'punk', 'emo', 'indie', 'metal', 'hardcore', 'swing', 'djent', 'doom', 'glam', 'oi', 'nwobhm']\n",
    "for key in Rock:\n",
    "    genre_dict[key] = 'Rock'\n",
    "\n",
    "Pop = ['pop', 'britpop', 'k-pop', 'europop', 'neo-synthpop', 'synthpop', 'folk-pop']\n",
    "for key in Pop:\n",
    "    genre_dict[key] = 'Pop'\n",
    "\n",
    "    Reggae = ['reggae', 'ska', 'reggaeton', 'euroska','j-reggae' ]\n",
    "for key in Reggae:\n",
    "    genre_dict[key] = 'Reggae/Ska'\n",
    "\n",
    "    Jazz = ['jazz', 'bebop', 'ragtime']\n",
    "for key in Jazz:\n",
    "    genre_dict[key] = 'Jazz'\n",
    "\n",
    "    World = ['rai', 'polka', 'folkmusik', 'andean', 'panpipe', 'maghreb','magyar',  'fado','traditional', 'quebecois', 'carnatic', 'native', 'klezmer', 'world', 'celtic', 'folk', 'bangla', 'pagode', 'flamenco', 'throat', 'medieval', 'capoeira']\n",
    "for key in World:\n",
    "    genre_dict[key] = 'World'\n",
    "\n",
    "    RB = ['r&b', 'funk', 'funky', 'soul']\n",
    "for key in RB:\n",
    "    genre_dict[key] = 'Soul/R&B'\n",
    "\n",
    "    Country = ['bluegrass', 'country', 'barbershop', 'americana']\n",
    "for key in Country:\n",
    "    genre_dict[key] = 'Country'\n",
    "\n",
    "    Latin = ['nu-cumbia','sertanejo', 'salsa','tango','merengue', 'bachata', 'rumba', 'nova', 'latin', 'cumbia']\n",
    "for key in Latin:\n",
    "    genre_dict[key] = 'Latin'\n",
    "\n",
    "    Rap = ['hop', 'rap', 'trap']\n",
    "for key in Rap:\n",
    "    genre_dict[key] = 'Rap/Hip Hop'\n",
    "\n",
    "    Blues = ['blues', 'blues-rock']\n",
    "for key in Blues:\n",
    "    genre_dict[key] = 'Blues'\n",
    "\n",
    "    Classical = ['cello', 'concert', 'opera', 'choral', 'clarinet', 'classical', 'violin', 'harpsichord', 'string', 'brass', 'orchestral', 'baroque', 'harp', 'early']\n",
    "for key in Classical:\n",
    "    genre_dict[key] = 'Classical/Opera'\n",
    "\n",
    "    Soundtracks = ['movie', 'tunes', 'hollywood', 'soundtrack', 'Soundtracks' ]\n",
    "for key in Soundtracks:\n",
    "    genre_dict[key] = 'Soundtracks'\n",
    "\n",
    "    Gospel = ['gospel', 'christian', 'liturgical', 'christmas', 'ccm', 'worship']\n",
    "for key in Gospel:\n",
    "    genre_dict[key] = 'Christian/Gospel'\n",
    "\n",
    "    NewAge = ['age', 'Age', 'kirtan', 'didgeridoo']\n",
    "for key in NewAge:\n",
    "    genre_dict[key] = 'New Age'\n",
    "\n",
    "i=0\n",
    "for index, genre in zip(total_spotify.index, total_spotify.genre) :\n",
    "    for word in genre.split() :\n",
    "        if word in genre_dict :\n",
    "            total_spotify.set_value(index, 'genre', genre_dict[word])\n",
    "            if index in musicgraph_missing.index :\n",
    "                musicgraph_missing.set_value(index, 'genre', genre_dict[word])\n",
    "            elif index in musicgraph_several.index :\n",
    "                musicgraph_several.set_value(index, 'genre', genre_dict[word])\n",
    "            i+=1\n",
    "print('With Spotifiy, we get the genre of ', i, 'more artists.')"
   ]
  },
  {
   "cell_type": "code",
   "execution_count": 171,
   "metadata": {
    "collapsed": false
   },
   "outputs": [
    {
     "name": "stdout",
     "output_type": "stream",
     "text": [
      "4.13926499033 % of events which subgenre were not parsed\n"
     ]
    }
   ],
   "source": [
    "genres = total_musicgraph.genre.unique()\n",
    "i = 0\n",
    "for genre in total_spotify.genre :\n",
    "    if genre not in genres :\n",
    "        i+=1\n",
    "print(i/total_spotify.size*100 , '% of events which subgenre were not parsed')"
   ]
  },
  {
   "cell_type": "code",
   "execution_count": 130,
   "metadata": {
    "collapsed": false
   },
   "outputs": [
    {
     "data": {
      "text/plain": [
       "array(['Electronica/Dance', nan, 'Rock', 'Pop', 'electronica/dance',\n",
       "       'Reggae/Ska', 'Jazz', 'pop', 'World', 'Soul/R&B',\n",
       "       'Alternative/Indie', 'Latin', 'Rap/Hip Hop', 'blues', 'rap/hip hop',\n",
       "       'Soundtracks', 'world', 'Vocals', 'jazz', 'rock', 'Classical/Opera',\n",
       "       'alternative/indie', 'New Age', 'Country', 'Blues', 'reggae/ska',\n",
       "       'Seasonal', 'soul/r&b', 'Folk', \"Children's\", 'Comedy/Spoken Word',\n",
       "       'Christian/Gospel', 'christian/gospel', 'Instrumental', 'country',\n",
       "       'latin', 'comedy/spoken word', 'folk', 'classical/opera',\n",
       "       'seasonal', 'cast recordings/cabaret', 'Cast Recordings/Cabaret',\n",
       "       'World Tropical', 'World Hindustani', 'new age', 'soundtracks',\n",
       "       'instrumental'], dtype=object)"
      ]
     },
     "execution_count": 130,
     "metadata": {},
     "output_type": "execute_result"
    }
   ],
   "source": []
  },
  {
   "cell_type": "code",
   "execution_count": 154,
   "metadata": {
    "collapsed": false
   },
   "outputs": [
    {
     "data": {
      "text/plain": [
       "38"
      ]
     },
     "execution_count": 154,
     "metadata": {},
     "output_type": "execute_result"
    }
   ],
   "source": [
    "\n",
    "(total_musicgraph.genre == 'Comedy/Spoken Word').sum()"
   ]
  },
  {
   "cell_type": "code",
   "execution_count": null,
   "metadata": {
    "collapsed": true
   },
   "outputs": [],
   "source": [
    "Cabaret"
   ]
  }
 ],
 "metadata": {
  "anaconda-cloud": {},
  "kernelspec": {
   "display_name": "Python [conda root]",
   "language": "python",
   "name": "conda-root-py"
  },
  "language_info": {
   "codemirror_mode": {
    "name": "ipython",
    "version": 3
   },
   "file_extension": ".py",
   "mimetype": "text/x-python",
   "name": "python",
   "nbconvert_exporter": "python",
   "pygments_lexer": "ipython3",
   "version": "3.5.2"
  }
 },
 "nbformat": 4,
 "nbformat_minor": 1
}
