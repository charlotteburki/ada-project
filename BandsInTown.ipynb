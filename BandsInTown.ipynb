{
 "cells": [
  {
   "cell_type": "markdown",
   "metadata": {},
   "source": [
    "Here, we will get the festival happening in Switzerland, using data from:\n",
    "[BandsInTown API](http://www.bandsintown.com/api/overview).\n",
    "\n",
    "## 1. Scrapping\n",
    "Data that will be received and stored:\n",
    "- 'id'\n",
    "- 'bandsintown url'\n",
    "- 'datetime'\n",
    "- 'artists'\n",
    "    - per artist:\n",
    "        - 'name'\n",
    "        - 'bandsintown url'\n",
    "- 'venue'\n",
    "    - 'id'\n",
    "    - 'name'\n",
    "    - 'bandsintown url'\n",
    "    - 'city'\n",
    "    - 'region'\n",
    "    - 'latitude'\n",
    "    - 'longitude'\n",
    "\n",
    "Limitations\n",
    "* The API limits the number of returned results, so a request for every day will be done.\n",
    "* The API limits the radius to 150 miles so several cities will be specified. To avoid overlap, the id of the events will be checked\n",
    "Cities : Geneva, Lausanne, Zurich, Berne, Basel, Lugano, Lucerne\n",
    "\n"
   ]
  },
  {
   "cell_type": "code",
   "execution_count": 1,
   "metadata": {
    "collapsed": false
   },
   "outputs": [],
   "source": [
    "import requests\n",
    "import glob\n",
    "import pandas as pd\n",
    "import time\n",
    "from scipy import stats\n",
    "import urllib3\n",
    "import json\n",
    "% matplotlib inline\n",
    "from pandas.io.json import json_normalize\n",
    "import numpy as np\n",
    "import matplotlib.pyplot as plt\n",
    "from IPython.display import clear_output"
   ]
  },
  {
   "cell_type": "code",
   "execution_count": 2,
   "metadata": {
    "collapsed": true
   },
   "outputs": [],
   "source": [
    "base_url = 'http://api.bandsintown.com/events/search.json?api_version=2.0&app_id=epfl&radius=50'\n",
    "cities = ['Geneva,Switzerland',\n",
    "         'Lausanne,Switzerland',\n",
    "         'Lucerne,Switzerland',\n",
    "         'Zurich,Switzerland',\n",
    "         'Bern,Switzerland',\n",
    "         'Basel,Switzerland',\n",
    "         'Locarno,Switzerland',\n",
    "         ]\n",
    "starting_year =  2010\n",
    "ending_year =  2017\n"
   ]
  },
  {
   "cell_type": "markdown",
   "metadata": {},
   "source": [
    "We will now loop over"
   ]
  },
  {
   "cell_type": "code",
   "execution_count": 15,
   "metadata": {
    "collapsed": false
   },
   "outputs": [],
   "source": [
    "def bandsInTownRequest(date_request,city_request):\n",
    "    request_url = base_url + '&location=' + city_request + '&date=' + date_request\n",
    "    data_json = requests.get(request_url).json()\n",
    "    print(request_url)\n",
    "    return data_json\n",
    "    \n",
    "def fillPandasJson(data_json):\n",
    "        df_city = pd.DataFrame()\n",
    "        if len(data_json)>0:\n",
    "            \n",
    "            # If Overload of servor, raise an error\n",
    "            if 'errors' in data_json:\n",
    "                raise Exception()\n",
    "                \n",
    "            if 'artists' in data_json[0]:                \n",
    "                df_city = pd.io.json.json_normalize(data_json,meta_prefix='event_',\n",
    "                                                    meta=['id','datetime','url',\n",
    "                                                         ['venue','name'],\n",
    "                                                         ['venue','url'],\n",
    "                                                         ['venue','id'],\n",
    "                                                         ['venue','city'],\n",
    "                                                         ['venue','region'],\n",
    "                                                         ['venue','country'],\n",
    "                                                         ['venue','latitude'],\n",
    "                                                         ['venue','longitude']]\n",
    "                                                    ,record_path='artists',record_prefix='artist_')\n",
    "            if len(df_city)>0:\n",
    "                df_city = df_city[df_city['event_venue.country'] == 'Switzerland']\n",
    "        return df_city\n"
   ]
  },
  {
   "cell_type": "code",
   "execution_count": null,
   "metadata": {
    "collapsed": false
   },
   "outputs": [
    {
     "name": "stdout",
     "output_type": "stream",
     "text": [
      "3 / 2010  saved to file\n"
     ]
    }
   ],
   "source": [
    "for year in range(starting_year,ending_year):\n",
    "    for month in range (1,13):\n",
    "        #Init\n",
    "        df = pd.DataFrame()\n",
    "        for day in range (1,32):\n",
    "            date = str(year) + '-' + str(\"%02d\" % month) + '-' + str(\"%02d\" % day)\n",
    "            date_request = date+'-'+date\n",
    "            \n",
    "            for city_request in cities:\n",
    "                print('Now processing:',date, city_request)\n",
    "                \n",
    "                data_json = bandsInTownRequest(date_request,city_request)\n",
    "                \n",
    "                try:\n",
    "                    df_city = fillPandasJson(data_json)\n",
    "                \n",
    "                #Error in the response of the server, due to overloading, wait and try again\n",
    "                except Exception as inst:\n",
    "                    print('Servers overloading, waiting a bit...')\n",
    "                    time.sleep(20)\n",
    "                    data_json = bandsInTownRequest(date_request,city_request)\n",
    "                    df_city = fillPandasJson(data_json)\n",
    "                    \n",
    "                df = pd.concat([df,df_city])\n",
    "                if len(df)>0:\n",
    "                    df.drop_duplicates(inplace = True)\n",
    "            clear_output(wait=True)\n",
    "        \n",
    "\n",
    "        \n",
    "        #Save to file\n",
    "        df.drop(['artist_mbid','event_venue.country'],axis = 1, inplace=True)\n",
    "        filename = 'bands_in_town' + str(\"%02d\" % month) + '-' + str(year) +'.csv'\n",
    "        pd.DataFrame(df, columns=list(df.columns)).to_csv(filename, index=False, encoding=\"utf-8\") \n",
    "        print(month,'/',year,' saved to file')\n",
    "        "
   ]
  },
  {
   "cell_type": "markdown",
   "metadata": {
    "collapsed": false
   },
   "source": [
    "We open each file drop possible duplicates that may happen between end of months/beginning of months and store it again"
   ]
  },
  {
   "cell_type": "code",
   "execution_count": null,
   "metadata": {
    "collapsed": false
   },
   "outputs": [],
   "source": [
    "all_files = glob.glob(\"bands_in_town*.csv\")\n",
    "df = pd.DataFrame()\n",
    "df = pd.concat((pd.read_csv(f) for f in all_files))\n",
    "\n",
    "#Drop possible duplicates\n",
    "df.drop_duplicates(inplace = True)\n",
    "\n",
    "\n",
    "#Save Again\n",
    "pd.DataFrame(df, columns=list(df.columns)).to_csv('total_bands_in_town.csv', index=False, encoding=\"utf-8\") "
   ]
  },
  {
   "cell_type": "code",
   "execution_count": null,
   "metadata": {
    "collapsed": false
   },
   "outputs": [],
   "source": [
    "df.tail()"
   ]
  },
  {
   "cell_type": "code",
   "execution_count": null,
   "metadata": {
    "collapsed": false
   },
   "outputs": [],
   "source": [
    "if 'artists' in data_json[0]:\n",
    "    print('s')"
   ]
  },
  {
   "cell_type": "code",
   "execution_count": null,
   "metadata": {
    "collapsed": true
   },
   "outputs": [],
   "source": []
  }
 ],
 "metadata": {
  "anaconda-cloud": {},
  "kernelspec": {
   "display_name": "Python [default]",
   "language": "python",
   "name": "python3"
  },
  "language_info": {
   "codemirror_mode": {
    "name": "ipython",
    "version": 3
   },
   "file_extension": ".py",
   "mimetype": "text/x-python",
   "name": "python",
   "nbconvert_exporter": "python",
   "pygments_lexer": "ipython3",
   "version": "3.5.2"
  }
 },
 "nbformat": 4,
 "nbformat_minor": 1
}
