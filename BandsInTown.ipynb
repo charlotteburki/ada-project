{
 "cells": [
  {
   "cell_type": "markdown",
   "metadata": {},
   "source": [
    "Here, we will get the festival happening in Switzerland, using data from:\n",
    "[BandsInTown API](http://www.bandsintown.com/api/overview).\n",
    "\n",
    "## 1. Scrapping\n",
    "Data that will be received and stored:\n",
    "- 'id'\n",
    "- 'bandsintown url'\n",
    "- 'datetime'\n",
    "- 'artists'\n",
    "    - per artist:\n",
    "        - 'name'\n",
    "        - 'bandsintown url'\n",
    "- 'venue'\n",
    "    - 'id'\n",
    "    - 'name'\n",
    "    - 'bandsintown url'\n",
    "    - 'city'\n",
    "    - 'region'\n",
    "    - 'latitude'\n",
    "    - 'longitude'\n",
    "\n",
    "Limitations\n",
    "* The API limits the number of returned results, so a request for every day will be done.\n",
    "* The API limits the radius to 150 miles so several cities will be specified. To avoid overlap, the detail of the events will be checked and remove if they are the same\n",
    "Cities : Geneva, Lausanne, Zurich, Berne, Basel, Lugano, Lucerne\n",
    "\n"
   ]
  },
  {
   "cell_type": "code",
   "execution_count": 1,
   "metadata": {
    "collapsed": false
   },
   "outputs": [],
   "source": [
    "import pandas as pd\n",
    "import bandsInTownHelper as bandsInTownHelper"
   ]
  },
  {
   "cell_type": "markdown",
   "metadata": {},
   "source": [
    "We will now extract the data. A csv file for each month will be created. \n",
    "Afterwards, all the csv will be aggregated in one big csv file and a dataframe."
   ]
  },
  {
   "cell_type": "code",
   "execution_count": 2,
   "metadata": {
    "collapsed": false,
    "scrolled": false
   },
   "outputs": [
    {
     "name": "stdout",
     "output_type": "stream",
     "text": [
      "12 / 2017  saved to file\n"
     ]
    }
   ],
   "source": [
    "starting_year =  2006\n",
    "ending_year =  2017\n",
    "    \n",
    "bandsInTownHelper.getDataBandsInTown(starting_year,ending_year)\n"
   ]
  },
  {
   "cell_type": "code",
   "execution_count": 4,
   "metadata": {
    "collapsed": true
   },
   "outputs": [],
   "source": [
    "df = bandsInTownHelper.concatenateDataBandsInTown()"
   ]
  },
  {
   "cell_type": "markdown",
   "metadata": {
    "collapsed": false
   },
   "source": [
    "# 2. Data cleaning"
   ]
  },
  {
   "cell_type": "code",
   "execution_count": null,
   "metadata": {
    "collapsed": false
   },
   "outputs": [],
   "source": []
  },
  {
   "cell_type": "code",
   "execution_count": null,
   "metadata": {
    "collapsed": true
   },
   "outputs": [],
   "source": []
  },
  {
   "cell_type": "code",
   "execution_count": null,
   "metadata": {
    "collapsed": true
   },
   "outputs": [],
   "source": []
  }
 ],
 "metadata": {
  "anaconda-cloud": {},
  "kernelspec": {
   "display_name": "Python [default]",
   "language": "python",
   "name": "python3"
  },
  "language_info": {
   "codemirror_mode": {
    "name": "ipython",
    "version": 3
   },
   "file_extension": ".py",
   "mimetype": "text/x-python",
   "name": "python",
   "nbconvert_exporter": "python",
   "pygments_lexer": "ipython3",
   "version": "3.5.2"
  }
 },
 "nbformat": 4,
 "nbformat_minor": 1
}
