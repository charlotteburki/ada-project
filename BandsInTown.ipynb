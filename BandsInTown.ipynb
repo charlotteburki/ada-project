{
 "cells": [
  {
   "cell_type": "markdown",
   "metadata": {},
   "source": [
    "Here, we will get the festival happening in Switzerland, using data from:\n",
    "[BandsInTown API](http://www.bandsintown.com/api/overview).\n",
    "\n",
    "## 1. Scrapping\n",
    "Data that will be received and stored:\n",
    "- 'id'\n",
    "- 'bandsintown url'\n",
    "- 'datetime'\n",
    "- 'artists'\n",
    "    - per artist:\n",
    "        - 'name'\n",
    "        - 'bandsintown url'\n",
    "- 'venue'\n",
    "    - 'id'\n",
    "    - 'name'\n",
    "    - 'bandsintown url'\n",
    "    - 'city'\n",
    "    - 'region'\n",
    "    - 'latitude'\n",
    "    - 'longitude'\n",
    "\n",
    "Limitations\n",
    "* The API limits the number of returned results, so a request for every day will be done.\n",
    "* The API limits the radius to 150 miles so several cities will be specified. To avoid overlap, the id of the events will be checked\n",
    "Cities : Geneva, Lausanne, Zurich, Berne, Basel, Lugano, Lucerne\n",
    "\n"
   ]
  },
  {
   "cell_type": "code",
   "execution_count": 1,
   "metadata": {
    "collapsed": false
   },
   "outputs": [],
   "source": [
    "import requests \n",
    "import pandas as pd\n",
    "from scipy import stats\n",
    "import urllib3\n",
    "import json\n",
    "% matplotlib inline\n",
    "from pandas.io.json import json_normalize\n",
    "import numpy as np\n",
    "import matplotlib.pyplot as plt"
   ]
  },
  {
   "cell_type": "code",
   "execution_count": 2,
   "metadata": {
    "collapsed": true
   },
   "outputs": [],
   "source": [
    "base_url = 'http://api.bandsintown.com/events/search.json?api_version=2.0&app_id=epfl&radius=50'\n",
    "cities = ['Geneva,Switzerland',\n",
    "         'Lausanne,Switzerland',\n",
    "         'Lucerne,Switzerland'\n",
    "         'Zurich,Switzerland',\n",
    "         'Bern,Switzerland',\n",
    "         'Basel,Switzerland',\n",
    "         'Locarno,Switzerland',\n",
    "         ]\n",
    "starting_year =  2016\n",
    "ending_year =  2017\n"
   ]
  },
  {
   "cell_type": "markdown",
   "metadata": {},
   "source": [
    "We will now loop over"
   ]
  },
  {
   "cell_type": "code",
   "execution_count": null,
   "metadata": {
    "collapsed": false
   },
   "outputs": [],
   "source": [
    "def bandsInTownRequest(date_request,city_request):\n",
    "    request_url = base_url + '&location=' + city_request + '&date=' + date_request\n",
    "    data_json = requests.get(request_url).json()\n",
    "    return data_json\n",
    "    \n",
    "def fillPandasJson(data_json):\n",
    "        df_city = pd.io.json.json_normalize(data_json,meta_prefix='event_',\n",
    "                                            meta=['id','datetime','url',\n",
    "                                                 ['venue','name'],\n",
    "                                                 ['venue','url'],\n",
    "                                                 ['venue','id'],\n",
    "                                                 ['venue','city'],\n",
    "                                                 ['venue','region'],\n",
    "                                                 ['venue','country'],\n",
    "                                                 ['venue','latitude'],\n",
    "                                                 ['venue','longitude']]\n",
    "                                            ,record_path='artists',record_prefix='artist_')\n",
    "        if len(df_city)>0:\n",
    "            df_city = df_city[df_city['event_venue.country'] != 'France']\n",
    "            df_city.drop_duplicates(inplace = True)\n",
    "            df_city.drop(['artist_mbid','event_venue.country'],axis = 1, inplace=True)\n",
    "        return df_city\n"
   ]
  },
  {
   "cell_type": "code",
   "execution_count": null,
   "metadata": {
    "collapsed": false
   },
   "outputs": [
    {
     "name": "stdout",
     "output_type": "stream",
     "text": [
      "Now processing Month/Year: 1 / 2016\n"
     ]
    }
   ],
   "source": [
    "#Init\n",
    "df = pd.DataFrame()\n",
    "\n",
    "for year in range(starting_year,ending_year):\n",
    "    for month in range (1,12):\n",
    "        print('Now processing Month/Year:',month,'/',year)\n",
    "        for day in range (1,31):\n",
    "            date = str(year) + '-' + str(\"%02d\" % month) + '-' + str(\"%02d\" % day)\n",
    "            date_request = date+'-'+date\n",
    "            for city_request in cities:\n",
    "                data_json = bandsInTownRequest(date_request,city_request)\n",
    "                df_city = fillPandasJson(data_json)\n",
    "                df = pd.concat([df,df_city])"
   ]
  },
  {
   "cell_type": "raw",
   "metadata": {
    "collapsed": true
   },
   "source": [
    "df = pd.DataFrame()\n",
    "for city_request in cities:\n",
    "    data_json = bandsInTownRequest('2016-01-10,2016-01-10',city_request)\n",
    "    df_city = fillPandasJson(data_json)\n",
    "    df = pd.concat([df,df_city])"
   ]
  },
  {
   "cell_type": "code",
   "execution_count": null,
   "metadata": {
    "collapsed": false
   },
   "outputs": [],
   "source": [
    "df"
   ]
  },
  {
   "cell_type": "code",
   "execution_count": null,
   "metadata": {
    "collapsed": true
   },
   "outputs": [],
   "source": []
  }
 ],
 "metadata": {
  "anaconda-cloud": {},
  "kernelspec": {
   "display_name": "Python [default]",
   "language": "python",
   "name": "python3"
  },
  "language_info": {
   "codemirror_mode": {
    "name": "ipython",
    "version": 3
   },
   "file_extension": ".py",
   "mimetype": "text/x-python",
   "name": "python",
   "nbconvert_exporter": "python",
   "pygments_lexer": "ipython3",
   "version": "3.5.2"
  }
 },
 "nbformat": 4,
 "nbformat_minor": 1
}
