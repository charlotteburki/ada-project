{
 "cells": [
  {
   "cell_type": "markdown",
   "metadata": {},
   "source": [
    "Import useful librairies"
   ]
  },
  {
   "cell_type": "code",
   "execution_count": 1,
   "metadata": {
    "collapsed": false
   },
   "outputs": [],
   "source": [
    "import pandas as pd\n",
    "import numpy as np\n",
    "import requests\n",
    "import csv\n",
    "import re\n",
    "import bs4\n",
    "from bs4 import BeautifulSoup"
   ]
  },
  {
   "cell_type": "markdown",
   "metadata": {},
   "source": [
    "## Get the name of the festivals in Switzerland"
   ]
  },
  {
   "cell_type": "code",
   "execution_count": 2,
   "metadata": {
    "collapsed": false
   },
   "outputs": [],
   "source": [
    "list_of_festivals=[]\n",
    "# Defining the url, the 3 enables to have the swiss list while 1 and 2 are for respectively\n",
    "# France and Belgium\n",
    "url_name='http://www.routedesfestivals.com/liste-des-festivals-pour-suisse-3.html' \n",
    "r=requests.get(url_name)\n",
    "soup=BeautifulSoup(r.content,'html.parser')\n"
   ]
  },
  {
   "cell_type": "code",
   "execution_count": 3,
   "metadata": {
    "collapsed": false
   },
   "outputs": [],
   "source": [
    "for elems in soup.findAll('li',{'class':'elemList'}): #find all li which class is elemList\n",
    "    for festival in elems.findAll('li'):\n",
    "        a=festival.findAll('a')\n",
    "        url_festival=a[0].get('href')\n",
    "        name=a[1].contents[0]\n",
    "        number=re.search(r'\\d+',url_festival).group()\n",
    "        if len(a)>2:\n",
    "            ville=a[2].get('title')\n",
    "        else:\n",
    "            ville=''\n",
    "            \n",
    "        info_festival={}\n",
    "        info_festival['name']=name\n",
    "        info_festival['url']=url_festival\n",
    "        info_festival['ville']=ville\n",
    "        info_festival['Identificateur']=number\n",
    "        list_of_festivals.append(info_festival)\n",
    "\n",
    "\n",
    "        "
   ]
  },
  {
   "cell_type": "code",
   "execution_count": 4,
   "metadata": {
    "collapsed": false
   },
   "outputs": [],
   "source": [
    "FolderName='RouteDesFestivals'\n",
    "csv_=FolderName+'/'+'list_de_tous_les_festivals'+'.csv'\n",
    "pd.DataFrame(list_of_festivals,columns=['name','url','ville','Identificateur']).to_csv(csv_, index=False, encoding='utf-8')\n",
    "\n"
   ]
  },
  {
   "cell_type": "markdown",
   "metadata": {},
   "source": [
    "## Get the programmation of each festivals"
   ]
  },
  {
   "cell_type": "code",
   "execution_count": 5,
   "metadata": {
    "collapsed": false
   },
   "outputs": [
    {
     "name": "stderr",
     "output_type": "stream",
     "text": [
      "Some characters could not be decoded, and were replaced with REPLACEMENT CHARACTER.\n"
     ]
    }
   ],
   "source": [
    "url_parms='http://routedesfestivals.com/'\n",
    "url_prog='http://routedesfestivals.com/ajax/archives.php?id='\n",
    "for rows in list_of_festivals:\n",
    "    try:\n",
    "        list_of_artists=pd.DataFrame(columns=['name','day','month','year','ville','festival'])\n",
    "        url_get_year=url_parms+rows['url']\n",
    "        r=requests.get(url_get_year)\n",
    "        soup=BeautifulSoup(r.content,'html.parser')\n",
    "        years=soup.findAll('option')\n",
    "        c=soup.findAll('li',{'class':'fest'})\n",
    "        for concert_2017 in soup.findAll('li',{'class':'fest'}):\n",
    "            date=concert_2017.findAll('b')\n",
    "            if len(date)>0:\n",
    "                n_day=date[0].contents[0]\n",
    "                month=date[1].contents[0]\n",
    "                month=month.split(u'\\xa0')[0]\n",
    "            for artist in concert_2017.findAll('a',{'class':'artiste'}):\n",
    "                    if len(artist.contents)>0:\n",
    "                        name=artist.contents[0]\n",
    "                        artist={}\n",
    "                        artist['name']=name\n",
    "                        artist['day']=n_day\n",
    "                        artist['month']=month\n",
    "                        artist['year']='2017'\n",
    "                        artist['ville']=rows['ville']\n",
    "                        artist['festival']=rows['name']\n",
    "                        list_of_artists=list_of_artists.append(artist, ignore_index=True)\n",
    "                    \n",
    "        \n",
    "        for year_raw in years:\n",
    "            year=year_raw['value']\n",
    "            url_get_prog=url_prog+rows['Identificateur']+'&year='+year\n",
    "            r=requests.get(url_get_prog)\n",
    "            soup=BeautifulSoup(r.content,'html.parser')\n",
    "            for day in soup.findAll('li'):\n",
    "                date=day.findAll('b')\n",
    "                n_day=date[0].contents[0]\n",
    "                month=date[1].contents[0]\n",
    "                month=month.split(u'\\xa0')[0]\n",
    "                for artist_ in day.findAll('a',{'class':'artiste'}):\n",
    "                    if len(artist_.contents)>0:\n",
    "                        name=artist_.contents[0]\n",
    "                        artist={}\n",
    "                        artist['name']=name\n",
    "                        artist['day']=n_day\n",
    "                        artist['month']=month\n",
    "                        artist['year']=year\n",
    "                        artist['ville']=rows['ville']\n",
    "                        artist['festival']=rows['name']\n",
    "                        list_of_artists=list_of_artists.append(artist, ignore_index=True)\n",
    "                    \n",
    "                    \n",
    "\n",
    "    \n",
    "    except:\n",
    "        print('Error while parsing for festival:'+rows['name']+'for year'+year)\n",
    "        import traceback;\n",
    "        traceback.print_exc()\n",
    "        time.sleep(20)\n",
    "        \n",
    "    csv_=FolderName+'/'+rows['name']+'.csv'\n",
    "    if len(list_of_artists)>0:\n",
    "        pd.DataFrame(list_of_artists,columns=list(list_of_artists.columns)).to_csv(csv_, index=False, encoding='utf-8')\n",
    "        \n",
    "\n",
    "\n",
    "        \n",
    "    "
   ]
  }
 ],
 "metadata": {
  "anaconda-cloud": {},
  "kernelspec": {
   "display_name": "Python [conda root]",
   "language": "python",
   "name": "conda-root-py"
  },
  "language_info": {
   "codemirror_mode": {
    "name": "ipython",
    "version": 3
   },
   "file_extension": ".py",
   "mimetype": "text/x-python",
   "name": "python",
   "nbconvert_exporter": "python",
   "pygments_lexer": "ipython3",
   "version": "3.5.2"
  }
 },
 "nbformat": 4,
 "nbformat_minor": 1
}
