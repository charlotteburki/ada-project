{
 "cells": [
  {
   "cell_type": "markdown",
   "metadata": {},
   "source": [
    "# Artists Music Graph\n",
    "\n",
    "This notebook manages a stop in the process of scrapping data from musicgraph. It starts the scrapping from where it was stopped.\n",
    "\n",
    "\n",
    "\n",
    "Here we will get the genres and origin of the artists.\n",
    "We will use the file that contains all the artists who played in Switzerland that comes from the different sources.\n",
    "\n",
    "\n",
    "We will use [musicgraph API](http://musicgraph.com/#/home).\n",
    "**API KEY is expired as the number of call limit is 5000, and we are over this limit. We should create a new account on the website, and copy the API key in the musicGraphHelper file**\n",
    "\n",
    "Data:\n",
    "- artist name\n",
    "- artist genre\n",
    "- artist origin\n",
    "- no_result\n",
    "- ambigous_result\n",
    "\n",
    "If we can't find an artist we will put '1' in the value 'no_result'\n",
    "If we find several artists with the same name we will put '1' in the value 'ambigous_result'\n",
    "\n",
    "\n"
   ]
  },
  {
   "cell_type": "code",
   "execution_count": 1,
   "metadata": {
    "collapsed": false
   },
   "outputs": [],
   "source": [
    "import pandas as pd\n",
    "import musicGraphHelper as musicGraphHelper\n",
    "import csv\n",
    "import multiprocessing\n",
    "import time"
   ]
  },
  {
   "cell_type": "code",
   "execution_count": 2,
   "metadata": {
    "collapsed": false
   },
   "outputs": [],
   "source": [
    "df = pd.read_csv('total_artists.csv', encoding='utf-8', error_bad_lines=False, usecols=[0,1,2,3,4])\n",
    "starting_index = 0\n",
    "df = df.ix[starting_index:]\n",
    "\n",
    "df1, df2, df3, df4 = musicGraphHelper.splitDataFrames(df)\n"
   ]
  },
  {
   "cell_type": "code",
   "execution_count": 3,
   "metadata": {
    "collapsed": false
   },
   "outputs": [],
   "source": [
    "df1.reset_index(inplace=True, drop=True)\n",
    "df2.reset_index(inplace=True, drop=True)\n",
    "df3.reset_index(inplace=True, drop=True)\n",
    "df4.reset_index(inplace=True, drop=True)\n",
    "\n",
    "df_csv1 = pd.read_csv('MusicGraphArtistsData/total_artists_MusicGraph1.csv')\n",
    "df_csv2 = pd.read_csv('MusicGraphArtistsData/total_artists_MusicGraph2.csv')\n",
    "df_csv3 = pd.read_csv('MusicGraphArtistsData/total_artists_MusicGraph3.csv')\n",
    "df_csv4 = pd.read_csv('MusicGraphArtistsData/total_artists_MusicGraph4.csv')\n",
    "\n",
    "df1 = df1[df_csv1.last_valid_index()+1:]\n",
    "df2 = df2[df_csv2.last_valid_index()+1:]\n",
    "df3 = df3[df_csv3.last_valid_index()+1:]\n",
    "df4 = df4[df_csv4.last_valid_index()+1:]"
   ]
  },
  {
   "cell_type": "markdown",
   "metadata": {},
   "source": [
    "List of all the API key that we created to face the issue of the 5K calls limits:"
   ]
  },
  {
   "cell_type": "code",
   "execution_count": 4,
   "metadata": {
    "collapsed": false,
    "scrolled": false
   },
   "outputs": [],
   "source": [
    "api_key_1 = [\n",
    "    '36c04b3d37bd0e6c5c9a8863db126636',\n",
    "    '713e1e102705dfd6364b267932879f03',\n",
    "    'ffced7ab4e6ddb8d1e9f1e6d8495a893',\n",
    "    '8da1bf7fa3f85dd98906d37501c7c5d7',\n",
    "    '2efa0e96a07f76e210dfb1b76f0ad693'\n",
    "]\n",
    "api_key_2 = [\n",
    "    'ca8b86800921d477ce88875a062580d9',\n",
    "    '27039fc2174b75be2fa93c709b28a7d7',\n",
    "    '24d602ed398562c32ebdae0cc3928ab5',\n",
    "    '6bce7980d78d29f4cfa87f87ad32e8ad',\n",
    "    'acdd2e62e524849f1927b5e2dee0eeec'\n",
    "]\n",
    "api_key_3 = [\n",
    "    'b8f2d2c77ba7c85ce828dd10c6399c67',\n",
    "    'cbfaab7cf6ba5a9e24852e81e7f58386',\n",
    "    'd27558d324497d6c8be9364aa3c2f20a',\n",
    "    '41bdbdbd486e7fc1359b091c47892964',\n",
    "    'd6712aaf34a0e11c08df82fe7a2b7d46'\n",
    "]\n",
    "api_key_4 = [\n",
    "    '13ad7a851201fe292f0b55cdde09e764',\n",
    "    '940df7dff15ff51dd872511f9c5b6a0e',\n",
    "    '08a9b8bb5f77fdce45fd0ddc196f31ec',\n",
    "    '5b04c56caf323e8d4cf2bbbbce5c8502',\n",
    "    '3a99445bb8370f2c6b46a3d85d91cd89'\n",
    "]\n"
   ]
  },
  {
   "cell_type": "code",
   "execution_count": 5,
   "metadata": {
    "collapsed": false,
    "scrolled": false
   },
   "outputs": [
    {
     "name": "stdout",
     "output_type": "stream",
     "text": [
      "10781 / 15499\n",
      "9628 / 15499\n",
      "9629 / 15499\n",
      "10782 / 15499\n",
      "12251 / 15499\n"
     ]
    }
   ],
   "source": [
    "# Parrallel multiprocessing\n",
    "num_cores = multiprocessing.cpu_count()\n",
    "pool = multiprocessing.Pool(num_cores)\n",
    "start_time = time.time()\n",
    "p1 = pool.Process(target = musicGraphHelper.getDataMusicGraph, args=(df1,'1suite', api_key_1))\n",
    "p1.start()\n",
    "p2 = pool.Process(target = musicGraphHelper.getDataMusicGraph, args=(df2,'2suite', api_key_2))\n",
    "p2.start()\n",
    "p3 = pool.Process(target = musicGraphHelper.getDataMusicGraph, args=(df3,'3suite', api_key_3))\n",
    "p3.start()\n",
    "p4 = pool.Process(target = musicGraphHelper.getDataMusicGraph, args=(df4,'4suite', api_key_4))\n",
    "p4.start()\n",
    "\n"
   ]
  },
  {
   "cell_type": "code",
   "execution_count": null,
   "metadata": {
    "collapsed": false
   },
   "outputs": [],
   "source": [
    "musicGraphHelper.concatSameData(1)\n",
    "musicGraphHelper.concatSameData(2)\n",
    "musicGraphHelper.concatSameData(3)\n",
    "musicGraphHelper.concatSameData(4)"
   ]
  },
  {
   "cell_type": "markdown",
   "metadata": {},
   "source": [
    "** Delete files '\\*1suite', '\\*2suite.csv','\\*3suite.csv','\\*4suite.csv' ** They are now merged into files 1,2,3,4\n",
    "Then do the concat"
   ]
  },
  {
   "cell_type": "code",
   "execution_count": null,
   "metadata": {
    "collapsed": true
   },
   "outputs": [],
   "source": [
    "dfconcat = musicGraphHelper.concatDataMusicGraph()\n",
    "dfconcat"
   ]
  }
 ],
 "metadata": {
  "anaconda-cloud": {},
  "kernelspec": {
   "display_name": "Python [default]",
   "language": "python",
   "name": "python3"
  },
  "language_info": {
   "codemirror_mode": {
    "name": "ipython",
    "version": 3
   },
   "file_extension": ".py",
   "mimetype": "text/x-python",
   "name": "python",
   "nbconvert_exporter": "python",
   "pygments_lexer": "ipython3",
   "version": "3.5.2"
  }
 },
 "nbformat": 4,
 "nbformat_minor": 1
}
