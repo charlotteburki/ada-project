{
 "cells": [
  {
   "cell_type": "markdown",
   "metadata": {},
   "source": [
    "# Artists \n",
    "\n",
    "Here we will get the genres and origin of the artists.\n",
    "We will use the file that contains all the artists who played in Switzerland that comes from the different sources.\n",
    "\n",
    "\n",
    "We will use [Spotify API](https://developer.spotify.com).\n",
    "\n",
    "Data:\n",
    "- artist name\n",
    "- artist genre\n",
    "- artist origin\n",
    "- no_result\n",
    "- ambigous_result\n",
    "\n",
    "If we can't find an artist we will put '1' in the value 'no_result'\n",
    "If we find several artists with the same name we will put '1' in the value 'ambigous_result'\n",
    "\n",
    "Spotify can only specify genres.\n",
    "\n",
    "\n"
   ]
  },
  {
   "cell_type": "code",
   "execution_count": 1,
   "metadata": {
    "collapsed": false
   },
   "outputs": [],
   "source": [
    "import pandas as pd\n",
    "import numpy as np\n",
    "import os\n",
    "import spotifyHelper as spotifyHelper\n",
    "import artistsHelper as artistsHelper\n",
    "import multiprocessing\n",
    "import time"
   ]
  },
  {
   "cell_type": "code",
   "execution_count": 2,
   "metadata": {
    "collapsed": false
   },
   "outputs": [],
   "source": [
    "df = pd.read_csv('total_artists.csv')\n",
    "starting_index = 0\n",
    "df = df.ix[starting_index:]\n",
    "\n",
    "df1, df2, df3, df4 = spotifyHelper.splitDataFrames(df)"
   ]
  },
  {
   "cell_type": "code",
   "execution_count": 3,
   "metadata": {
    "collapsed": false,
    "scrolled": false
   },
   "outputs": [
    {
     "name": "stdout",
     "output_type": "stream",
     "text": [
      "31 / 39\n",
      "https://api.spotify.com/v1/search?q=%22Taucher%22&type=artist\n",
      "12 / 19\n",
      "https://api.spotify.com/v1/search?q=%22Robbie+Romero%22&type=artist\n",
      "52 / 59\n",
      "https://api.spotify.com/v1/search?q=%22Eric+Borgo%22&type=artist\n",
      "32 / 39\n",
      "https://api.spotify.com/v1/search?q=%22ISSA+BAGAYOGO%22&type=artist\n",
      "72 / 79\n",
      "https://api.spotify.com/v1/search?q=%22Dubfunk%22&type=artist\n",
      "13 / 19\n",
      "https://api.spotify.com/v1/search?q=%22Scarlett+Etienne%22&type=artist\n",
      "53 / 59\n",
      "https://api.spotify.com/v1/search?q=%22DEUS%22&type=artist\n",
      "73 / 79\n",
      "https://api.spotify.com/v1/search?q=%22Luciano%22&type=artist\n",
      "33 / 39\n",
      "https://api.spotify.com/v1/search?q=%22Everstone%22&type=artist\n",
      "14 / 19\n",
      "https://api.spotify.com/v1/search?q=%22LOLE%22&type=artist\n",
      "54 / 59\n",
      "https://api.spotify.com/v1/search?q=%22IN+EXTREMO%22&type=artist\n",
      "74 / 79\n",
      "https://api.spotify.com/v1/search?q=%22Coldcut%22&type=artist\n",
      "34 / 39\n",
      "https://api.spotify.com/v1/search?q=%22Massive+Jay%22&type=artist\n",
      "15 / 19\n",
      "https://api.spotify.com/v1/search?q=%22YURI+BUENAVENTURA%22&type=artist\n",
      "55 / 59\n",
      "https://api.spotify.com/v1/search?q=%22TOOL%22&type=artist\n",
      "75 / 79\n",
      "https://api.spotify.com/v1/search?q=%22Shahira%22&type=artist\n",
      "35 / 39\n",
      "https://api.spotify.com/v1/search?q=%22Groombridge%22&type=artist\n",
      "16 / 19\n",
      "https://api.spotify.com/v1/search?q=%22LO+JO%22&type=artist\n",
      "56 / 59\n",
      "https://api.spotify.com/v1/search?q=%22ARCHIVE%22&type=artist\n",
      "76 / 79\n",
      "https://api.spotify.com/v1/search?q=%22Babylon+Circus%22&type=artist\n",
      "36 / 39\n",
      "https://api.spotify.com/v1/search?q=%22Painhead%22&type=artist\n",
      "17 / 19\n",
      "https://api.spotify.com/v1/search?q=%22CYRZ%22&type=artist\n",
      "57 / 59\n",
      "https://api.spotify.com/v1/search?q=%22ART+BRUT%22&type=artist\n",
      "77 / 79\n",
      "https://api.spotify.com/v1/search?q=%22Sinner+DC%22&type=artist\n",
      "37 / 39\n",
      "https://api.spotify.com/v1/search?q=%22shEver%22&type=artist\n",
      "18 / 19\n",
      "https://api.spotify.com/v1/search?q=%22MOUSS++&+HAKIM%22&type=artist\n",
      "58 / 59\n",
      "https://api.spotify.com/v1/search?q=%22PEACOCKS%22&type=artist\n",
      "78 / 79\n",
      "https://api.spotify.com/v1/search?q=%22Black+Dice%22&type=artist\n",
      "38 / 39\n",
      "https://api.spotify.com/v1/search?q=%22Mando+Diao%22&type=artist\n",
      "19 / 19\n",
      "https://api.spotify.com/v1/search?q=%22BURNING+SPEAR%22&type=artist\n",
      "59 / 59\n",
      "https://api.spotify.com/v1/search?q=%22TRIVIUM%22&type=artist\n",
      "79 / 79\n",
      "https://api.spotify.com/v1/search?q=%22NORMANDIE%22&type=artist\n",
      "39 / 39\n",
      "https://api.spotify.com/v1/search?q=%22Foo+Fighters%22&type=artist\n",
      "--- 5.835884094238281 seconds ---\n",
      "https://api.spotify.com/v1/search?q=%22PATRICE%22&type=artist\n",
      "--- 5.922047853469849 seconds ---\n",
      "https://api.spotify.com/v1/search?q=%22APOCALYPTICA%22&type=artist\n",
      "--- 5.960994005203247 seconds ---\n",
      "https://api.spotify.com/v1/search?q=%22ANDREW+HILL%22&type=artist\n",
      "--- 6.047667026519775 seconds ---\n"
     ]
    }
   ],
   "source": [
    "# Parrallel multiprocessing\n",
    "num_cores = multiprocessing.cpu_count()\n",
    "pool = multiprocessing.Pool(num_cores)\n",
    "start_time = time.time()\n",
    "p1 = pool.Process(target = spotifyHelper.getDataSpotifyGraph, args=(df1,1))\n",
    "p1.start()\n",
    "p2 = pool.Process(target = spotifyHelper.getDataSpotifyGraph, args=(df2,2))\n",
    "p2.start()\n",
    "p3 = pool.Process(target = spotifyHelper.getDataSpotifyGraph, args=(df3,3))\n",
    "p3.start()\n",
    "p4 = pool.Process(target = spotifyHelper.getDataSpotifyGraph, args=(df4,4))\n",
    "p4.start()\n",
    "\n"
   ]
  },
  {
   "cell_type": "code",
   "execution_count": null,
   "metadata": {
    "collapsed": false,
    "scrolled": false
   },
   "outputs": [],
   "source": [
    "dfconcat = spotifyHelper.concatDataSpotify()\n"
   ]
  },
  {
   "cell_type": "code",
   "execution_count": null,
   "metadata": {
    "collapsed": true
   },
   "outputs": [],
   "source": []
  }
 ],
 "metadata": {
  "anaconda-cloud": {},
  "kernelspec": {
   "display_name": "Python [default]",
   "language": "python",
   "name": "python3"
  },
  "language_info": {
   "codemirror_mode": {
    "name": "ipython",
    "version": 3
   },
   "file_extension": ".py",
   "mimetype": "text/x-python",
   "name": "python",
   "nbconvert_exporter": "python",
   "pygments_lexer": "ipython3",
   "version": "3.5.2"
  }
 },
 "nbformat": 4,
 "nbformat_minor": 1
}
