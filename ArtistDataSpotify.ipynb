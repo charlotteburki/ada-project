{
 "cells": [
  {
   "cell_type": "markdown",
   "metadata": {},
   "source": [
    "# Artists \n",
    "\n",
    "Here we will get the genres and origin of the artists.\n",
    "We will use the file that contains all the artists who played in Switzerland that comes from the different sources.\n",
    "\n",
    "\n",
    "We will use [Spotify API](https://developer.spotify.com).\n",
    "\n",
    "Data:\n",
    "- artist name\n",
    "- artist genre\n",
    "- artist origin\n",
    "- no_result\n",
    "- ambigous_result\n",
    "\n",
    "If we can't find an artist we will put '1' in the value 'no_result'\n",
    "If we find several artists with the same name we will put '1' in the value 'ambigous_result'\n",
    "\n",
    "Spotify can only specify genres.\n",
    "\n",
    "\n"
   ]
  },
  {
   "cell_type": "code",
   "execution_count": 1,
   "metadata": {
    "collapsed": false
   },
   "outputs": [],
   "source": [
    "import pandas as pd\n",
    "import numpy as np\n",
    "import os\n",
    "import spotifyHelper as spotifyHelper\n",
    "import artistsHelper as artistsHelper\n",
    "import multiprocessing\n",
    "import time"
   ]
  },
  {
   "cell_type": "code",
   "execution_count": 2,
   "metadata": {
    "collapsed": false
   },
   "outputs": [],
   "source": [
    "df = pd.read_csv('total_artists.csv')\n",
    "starting_index = 0\n",
    "df = df[0:220]\n",
    "df = df.ix[starting_index:]\n",
    "\n",
    "df1, df2, df3, df4 = spotifyHelper.splitDataFrames(df)"
   ]
  },
  {
   "cell_type": "code",
   "execution_count": 3,
   "metadata": {
    "collapsed": false,
    "scrolled": false
   },
   "outputs": [
    {
     "name": "stdout",
     "output_type": "stream",
     "text": [
      "21 / 54\n",
      "file saved\n",
      "187 / 219\n",
      "file saved\n",
      "77 / 109\n",
      "file saved\n",
      "132 / 164\n",
      "file saved\n",
      "22 / 54\n",
      "file saved\n",
      "188 / 219\n",
      "file saved\n",
      "78 / 109\n",
      "file saved\n",
      "133 / 164\n",
      "file saved\n",
      "23 / 54\n",
      "file saved\n",
      "189 / 219\n",
      "file saved\n",
      "79 / 109\n",
      "file saved\n",
      "24 / 54\n",
      "file saved\n",
      "134 / 164\n",
      "file saved\n",
      "190 / 219\n",
      "file saved\n",
      "80 / 109\n",
      "file saved\n",
      "25 / 54\n",
      "file saved\n",
      "135 / 164\n",
      "Servers overloading, waiting a bit...\n",
      "Servers overloading, waiting a bit...\n",
      "Servers overloading, waiting a bit...\n",
      "Servers overloading, waiting a bit...\n"
     ]
    }
   ],
   "source": [
    "# Parrallel multiprocessing\n",
    "num_cores = multiprocessing.cpu_count()\n",
    "pool = multiprocessing.Pool(num_cores)\n",
    "start_time = time.time()\n",
    "p1 = pool.Process(target = spotifyHelper.getDataSpotifyGraph, args=(df1,1))\n",
    "p1.start()\n",
    "p2 = pool.Process(target = spotifyHelper.getDataSpotifyGraph, args=(df2,2))\n",
    "p2.start()\n",
    "p3 = pool.Process(target = spotifyHelper.getDataSpotifyGraph, args=(df3,3))\n",
    "p3.start()\n",
    "p4 = pool.Process(target = spotifyHelper.getDataSpotifyGraph, args=(df4,4))\n",
    "p4.start()\n",
    "\n"
   ]
  },
  {
   "cell_type": "code",
   "execution_count": null,
   "metadata": {
    "collapsed": false,
    "scrolled": false
   },
   "outputs": [],
   "source": [
    "dfconcat = spotifyHelper.concatDataSpotify()\n"
   ]
  },
  {
   "cell_type": "code",
   "execution_count": null,
   "metadata": {
    "collapsed": true
   },
   "outputs": [],
   "source": []
  }
 ],
 "metadata": {
  "anaconda-cloud": {},
  "kernelspec": {
   "display_name": "Python [default]",
   "language": "python",
   "name": "python3"
  },
  "language_info": {
   "codemirror_mode": {
    "name": "ipython",
    "version": 3
   },
   "file_extension": ".py",
   "mimetype": "text/x-python",
   "name": "python",
   "nbconvert_exporter": "python",
   "pygments_lexer": "ipython3",
   "version": "3.5.2"
  }
 },
 "nbformat": 4,
 "nbformat_minor": 1
}
