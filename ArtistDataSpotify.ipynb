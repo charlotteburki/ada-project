{
 "cells": [
  {
   "cell_type": "markdown",
   "metadata": {},
   "source": [
    "# Artists \n",
    "\n",
    "Here we will get the genres and origin of the artists.\n",
    "We will use the file that contains all the artists who played in Switzerland that comes from the different sources.\n",
    "\n",
    "\n",
    "We will use [Spotify API](https://developer.spotify.com).\n",
    "\n",
    "Data:\n",
    "- artist name\n",
    "- artist genre\n",
    "- artist origin\n",
    "- no_result\n",
    "- ambigous_result\n",
    "\n",
    "If we can't find an artist we will put '1' in the value 'no_result'\n",
    "If we find several artists with the same name we will put '1' in the value 'ambigous_result'\n",
    "\n",
    "\n"
   ]
  },
  {
   "cell_type": "code",
   "execution_count": 1,
   "metadata": {
    "collapsed": false
   },
   "outputs": [],
   "source": [
    "import pandas as pd\n",
    "import numpy as np\n",
    "import os\n",
    "import spotifyHelper as spotifyHelper\n",
    "import artistsHelper as artistsHelper\n",
    "import multiprocessing\n",
    "import time"
   ]
  },
  {
   "cell_type": "code",
   "execution_count": 2,
   "metadata": {
    "collapsed": false
   },
   "outputs": [],
   "source": [
    "df = pd.read_csv('total_artists.csv')\n",
    "starting_index = 0\n",
    "df = df.ix[starting_index:]\n",
    "\n",
    "df1, df2, df3, df4 = spotifyHelper.splitDataFrames(df)"
   ]
  },
  {
   "cell_type": "code",
   "execution_count": 3,
   "metadata": {
    "collapsed": false
   },
   "outputs": [
    {
     "name": "stdout",
     "output_type": "stream",
     "text": [
      "32201 / 32245\n",
      "32202 / 32245\n",
      "32203 / 32245\n",
      "32204 / 32245\n",
      "32205 / 32245\n",
      "32206 / 32245\n",
      "32207 / 32245\n",
      "32208 / 32245\n",
      "32209 / 32245\n",
      "32210 / 32245\n",
      "32211 / 32245\n",
      "32212 / 32245\n",
      "32213 / 32245\n",
      "32214 / 32245\n",
      "32215 / 32245\n",
      "32216 / 32245\n",
      "32217 / 32245\n",
      "32218 / 32245\n",
      "32219 / 32245\n",
      "32220 / 32245\n",
      "32221 / 32245\n",
      "32222 / 32245\n",
      "32223 / 32245\n",
      "32224 / 32245\n",
      "32225 / 32245\n",
      "32226 / 32245\n",
      "32227 / 32245\n",
      "32228 / 32245\n",
      "32229 / 32245\n",
      "32230 / 32245\n",
      "32231 / 32245\n",
      "32232 / 32245\n",
      "32233 / 32245\n",
      "32234 / 32245\n",
      "32235 / 32245\n",
      "32236 / 32245\n",
      "32237 / 32245\n",
      "32238 / 32245\n",
      "32239 / 32245\n",
      "32240 / 32245\n",
      "32241 / 32245\n",
      "32242 / 32245\n",
      "32243 / 32245\n",
      "32244 / 32245\n",
      "32245 / 32245\n",
      "--- 7513.251821041107 seconds ---\n"
     ]
    }
   ],
   "source": [
    "# Parrallel multiprocessing\n",
    "num_cores = multiprocessing.cpu_count()\n",
    "pool = multiprocessing.Pool(num_cores)\n",
    "start_time = time.time()\n",
    "p1 = pool.Process(target = spotifyHelper.getDataSpotifyGraph, args=(df1,1))\n",
    "p1.start()\n",
    "p2 = pool.Process(target = spotifyHelper.getDataSpotifyGraph, args=(df2,2))\n",
    "p2.start()\n",
    "p3 = pool.Process(target = spotifyHelper.getDataSpotifyGraph, args=(df3,3))\n",
    "p3.start()\n",
    "p4 = pool.Process(target = spotifyHelper.getDataSpotifyGraph, args=(df4,4))\n",
    "p4.start()\n",
    "\n"
   ]
  },
  {
   "cell_type": "raw",
   "metadata": {
    "collapsed": true
   },
   "source": [
    "folder = 'SpotifyData'\n",
    "filename = 'total_artists.csv'\n",
    "destinationFileName = os.path.join(folder, filename)\n",
    "artistsHelper.cleanArtistsDataFrame(destinationFileName)"
   ]
  }
 ],
 "metadata": {
  "anaconda-cloud": {},
  "kernelspec": {
   "display_name": "Python [default]",
   "language": "python",
   "name": "python3"
  },
  "language_info": {
   "codemirror_mode": {
    "name": "ipython",
    "version": 3
   },
   "file_extension": ".py",
   "mimetype": "text/x-python",
   "name": "python",
   "nbconvert_exporter": "python",
   "pygments_lexer": "ipython3",
   "version": "3.5.2"
  }
 },
 "nbformat": 4,
 "nbformat_minor": 1
}
