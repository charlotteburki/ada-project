{
 "cells": [
  {
   "cell_type": "markdown",
   "metadata": {},
   "source": [
    "# Artists \n",
    "\n",
    "Here we will get the genres and origin of the artists.\n",
    "We will use the file that contains all the artists who played in Switzerland that comes from the different sources.\n",
    "\n",
    "\n",
    "We will use [Spotify API](https://developer.spotify.com).\n",
    "\n",
    "Data:\n",
    "- artist name\n",
    "- artist genre\n",
    "- artist origin\n",
    "- no_result\n",
    "- ambigous_result\n",
    "\n",
    "If we can't find an artist we will put '1' in the value 'no_result'\n",
    "If we find several artists with the same name we will put '1' in the value 'ambigous_result'\n",
    "\n",
    "\n"
   ]
  },
  {
   "cell_type": "code",
   "execution_count": 1,
   "metadata": {
    "collapsed": false
   },
   "outputs": [],
   "source": [
    "import pandas as pd\n",
    "import numpy as np\n",
    "import os\n",
    "import spotifyHelper as spotifyHelper\n",
    "import artistsHelper as artistsHelper\n",
    "import multiprocessing\n",
    "import time"
   ]
  },
  {
   "cell_type": "code",
   "execution_count": 2,
   "metadata": {
    "collapsed": false
   },
   "outputs": [],
   "source": [
    "df = pd.read_csv('total_artists.csv')\n",
    "starting_index = 0\n",
    "df = df.ix[starting_index:]\n",
    "\n",
    "df1, df2, df3, df4 = spotifyHelper.splitDataFrames(df)"
   ]
  },
  {
   "cell_type": "code",
   "execution_count": 3,
   "metadata": {
    "collapsed": false
   },
   "outputs": [
    {
     "name": "stdout",
     "output_type": "stream",
     "text": [
      "10801 / 21497\n",
      "104 / 10748\n",
      "21560 / 32245\n",
      "32311 / 42994\n",
      "10802 / 21497\n",
      "105 / 10748\n",
      "21561 / 32245\n",
      "32312 / 42994\n",
      "10803 / 21497\n",
      "106 / 10748\n",
      "21562 / 32245\n",
      "32313 / 42994\n",
      "Servers overloading, waiting a bit...\n",
      "Servers overloading, waiting a bit...\n",
      "Servers overloading, waiting a bit...\n",
      "Servers overloading, waiting a bit...\n",
      "32314 / 42994\n",
      "107 / 10748\n",
      "21563 / 32245\n",
      "10804 / 21497\n",
      "108 / 10748\n",
      "32315 / 42994\n",
      "109 / 10748\n",
      "21564 / 32245\n",
      "10805 / 21497\n",
      "110 / 10748\n",
      "32316 / 42994\n",
      "21565 / 32245\n",
      "111 / 10748\n",
      "112 / 10748\n",
      "10806 / 21497\n",
      "113 / 10748\n",
      "21566 / 32245\n",
      "114 / 10748\n",
      "10807 / 21497\n",
      "10808 / 21497\n",
      "115 / 10748\n",
      "21567 / 32245\n",
      "21568 / 32245\n",
      "10809 / 21497\n",
      "116 / 10748\n",
      "32317 / 42994\n",
      "21569 / 32245\n",
      "117 / 10748\n",
      "10810 / 21497\n",
      "32318 / 42994\n",
      "21570 / 32245\n",
      "10811 / 21497\n",
      "118 / 10748\n",
      "119 / 10748\n",
      "32319 / 42994\n",
      "21571 / 32245\n",
      "10812 / 21497\n",
      "120 / 10748\n",
      "32320 / 42994\n"
     ]
    }
   ],
   "source": [
    "# Parrallel multiprocessing\n",
    "num_cores = multiprocessing.cpu_count()\n",
    "pool = multiprocessing.Pool(num_cores)\n",
    "start_time = time.time()\n",
    "p1 = pool.Process(target = spotifyHelper.getDataSpotifyGraph, args=(df1,1))\n",
    "p1.start()\n",
    "p2 = pool.Process(target = spotifyHelper.getDataSpotifyGraph, args=(df2,2))\n",
    "p2.start()\n",
    "p3 = pool.Process(target = spotifyHelper.getDataSpotifyGraph, args=(df3,3))\n",
    "p3.start()\n",
    "p4 = pool.Process(target = spotifyHelper.getDataSpotifyGraph, args=(df4,4))\n",
    "p4.start()\n",
    "\n"
   ]
  },
  {
   "cell_type": "raw",
   "metadata": {
    "collapsed": true
   },
   "source": [
    "folder = 'SpotifyData'\n",
    "filename = 'total_artists.csv'\n",
    "destinationFileName = os.path.join(folder, filename)\n",
    "artistsHelper.cleanArtistsDataFrame(destinationFileName)"
   ]
  }
 ],
 "metadata": {
  "anaconda-cloud": {},
  "kernelspec": {
   "display_name": "Python [default]",
   "language": "python",
   "name": "python3"
  },
  "language_info": {
   "codemirror_mode": {
    "name": "ipython",
    "version": 3
   },
   "file_extension": ".py",
   "mimetype": "text/x-python",
   "name": "python",
   "nbconvert_exporter": "python",
   "pygments_lexer": "ipython3",
   "version": "3.5.2"
  }
 },
 "nbformat": 4,
 "nbformat_minor": 1
}
